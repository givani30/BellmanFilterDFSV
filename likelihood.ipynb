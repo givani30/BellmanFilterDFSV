{
 "cells": [
  {
   "cell_type": "markdown",
   "metadata": {},
   "source": [
    "Goal: calculate the log=likelihood of $r_t$ given the states $\\alpha_t$, namely $\\log p(r_t| \\alpha_t)$. To find this, assuming, gaussianity, we observe that the observed returns follow:\n",
    "\n",
    "$$\n",
    "r_t |\\alpha_t=r_t|f_t,h_t \\sim \\mathcal{N}(\\bm \\Lambda f_t, \\bm\\Lambda \\mathrm{diag}(e^{h_t})\\bm\\Lambda^\\prime+\\bm \\Sigma_\\epsilon))\n",
    "$$\n",
    "Applying the pdf of the multivariatenormal distribution, we have:\n",
    "\\begin{align}\n",
    "p(r_t|\\alpha_t)&=\\frac{1}{(2\\pi)^{N/2}| \\Lambda \\Sigma_{f,t}\\Lambda^\\prime+ \\Sigma_\\epsilon|^{1/2}}\\exp\\left(-\\frac{1}{2}(r_t- \\Lambda f_t)^\\prime( \\Lambda \\Sigma_{f,t}\\Lambda^\\prime+\\Sigma_\\epsilon)^{-1}(r_t- \\Lambda f_t)\\right)\\\\\n",
    "p(r_t|\\alpha_t)& =\\left(2 \\pi\\right)^{- \\frac{N}{2}} \\sqrt{\\left|{\\Lambda_{t} \\Sigma_{f,t} \\Lambda_{t}^{\\prime} + \\Sigma_{\\epsilon}}\\right|} e^{\\left(-\\frac{1}{2}(r_t- \\Lambda f_t)^\\prime( \\Lambda \\Sigma_{f,t}\\Lambda^\\prime+\\Sigma_\\epsilon)^{-1}(r_t- \\Lambda f_t)\\right)}\\\\\n",
    "\\log p(r_t|\\alpha_t)&=-\\frac{N}{2}\\log(2)-\\frac{N}{2}\\log(\\pi)  + \\frac{\\log{\\left(\\left|{\\Lambda_{t} \\Sigma_{f,t} \\Lambda_{t}^{\\prime} + \\Sigma_{\\epsilon}}\\right| \\right)}}{2}\\\\\n",
    "&- \\frac{1}{2} \\left((r_t- \\Lambda f_t)^\\prime( \\Lambda \\Sigma_{f,t}\\Lambda^\\prime+\\Sigma_\\epsilon)^{-1}(r_t- \\Lambda f_t)\\right) \\nonumber\\\\ \n",
    "\\end{align}"
   ]
  },
  {
   "cell_type": "code",
   "execution_count": 57,
   "metadata": {},
   "outputs": [
    {
     "name": "stdout",
     "output_type": "stream",
     "text": [
      "p(r_t)\n"
     ]
    },
    {
     "data": {
      "image/png": "[encoded data removed]",
      "text/latex": [
       "$\\displaystyle \\frac{\\left(2 \\pi\\right)^{- \\frac{N}{2}} e^{- 0.5 \\left(- f_{t}^{T} \\Lambda_{t}^{T} + r_{t}^{T}\\right) \\left(\\Lambda_{t} \\Sigma_{h} \\Lambda_{t}^{T} + \\Sigma_{\\epsilon t}\\right)^{-1} \\left(- \\Lambda_{t} f_{t} + r_{t}\\right)}}{\\left|{\\Lambda_{t} \\Sigma_{h} \\Lambda_{t}^{T} + \\Sigma_{\\epsilon t}}\\right|^{0.5}}$"
      ],
      "text/plain": [
       "     -N                                                                        ↪\n",
       "     ───                         -0.5       ⎛   T   T     T⎞ ⎛        T        ↪\n",
       "      2  │        T             │      -0.5⋅⎝-fₜ ⋅Λₜ  + rₜ ⎠⋅⎝Λₜ⋅Σₕ⋅Λₜ  + Σₑₚₛ ↪\n",
       "(2⋅π)   ⋅│Λₜ⋅Σₕ⋅Λₜ  + Σₑₚₛᵢₗₒₙ ₜ│    ⋅ℯ                                        ↪\n",
       "\n",
       "↪        -1              \n",
       "↪       ⎞                \n",
       "↪ ᵢₗₒₙ ₜ⎠  ⋅(-Λₜ⋅fₜ + rₜ)\n",
       "↪                        "
      ]
     },
     "metadata": {},
     "output_type": "display_data"
    },
    {
     "name": "stdout",
     "output_type": "stream",
     "text": [
      "log p(r_t)\n"
     ]
    },
    {
     "data": {
      "image/png": "[encoded data removed]",
      "text/latex": [
       "$\\displaystyle - \\frac{N \\left(\\log{\\left(2 \\right)} + \\log{\\left(\\pi \\right)}\\right)}{2} - 0.5 \\log{\\left(\\left|{\\Lambda_{t} \\Sigma_{h} \\Lambda_{t}^{T} + \\Sigma_{\\epsilon t}}\\right| \\right)} - 0.5 \\left(- f_{t}^{T} \\Lambda_{t}^{T} + r_{t}^{T}\\right) \\left(\\Lambda_{t} \\Sigma_{h} \\Lambda_{t}^{T} + \\Sigma_{\\epsilon t}\\right)^{-1} \\left(- \\Lambda_{t} f_{t} + r_{t}\\right)$"
      ],
      "text/plain": [
       "                                                                               ↪\n",
       "  N⋅(log(2) + log(π))          ⎛│        T             │⎞       ⎛   T   T      ↪\n",
       "- ─────────────────── - 0.5⋅log⎝│Λₜ⋅Σₕ⋅Λₜ  + Σₑₚₛᵢₗₒₙ ₜ│⎠ - 0.5⋅⎝-fₜ ⋅Λₜ  + rₜ ↪\n",
       "           2                                                                   ↪\n",
       "\n",
       "↪                            -1              \n",
       "↪ T⎞ ⎛        T             ⎞                \n",
       "↪  ⎠⋅⎝Λₜ⋅Σₕ⋅Λₜ  + Σₑₚₛᵢₗₒₙ ₜ⎠  ⋅(-Λₜ⋅fₜ + rₜ)\n",
       "↪                                            "
      ]
     },
     "metadata": {},
     "output_type": "display_data"
    }
   ],
   "source": [
    "import sympy as sp\n",
    "import numpy as np\n",
    "from sympy.stats import MultivariateNormal,density,marginal_distribution\n",
    "sp.init_printing()\n",
    "# Define dimensions\n",
    "N = sp.symbols('N', integer=True, positive=True)  # dimension of returns vector\n",
    "# K = sp.symbols('K', integer=True, positive=True)  # number of factors\n",
    "# N=3\n",
    "K=2\n",
    "\n",
    "# Define state vectors\n",
    "r_t=sp.MatrixSymbol('r_t', N, 1)  # returns vector\n",
    "f_t = sp.MatrixSymbol('f_t', K, 1)  # factors vector\n",
    "h_t = sp.MatrixSymbol('h_t', K, 1)  # log-volatility vector\n",
    "\n",
    "# Define matrices\n",
    "Lambda_t = sp.MatrixSymbol('Lambda_t', N, K)  # factor loadings matrix\n",
    "Sigma_epsilon_t = sp.MatrixSymbol('Sigma_epsilon_t', N, N)  # idiosyncratic error covariance matrix\n",
    "\n",
    "\n",
    "\n",
    "# For convenience, define the covariance matrix\n",
    "h_exp = sp.Matrix([sp.exp(h) for h in h_t])\n",
    "# diag_exp_h = sp.diag(*h_exp)\n",
    "diag_exp_h=sp.MatrixSymbol('Sigma_h', K, K)\n",
    "mu=Lambda_t@f_t\n",
    "Sigma_t = Lambda_t @ diag_exp_h @ Lambda_t.T + Sigma_epsilon_t\n",
    "\n",
    "# Use proper matrix determinant calculation\n",
    "p_r_t = (2*sp.pi)**(-N/2) * ((sp.Determinant(Sigma_t)))**(-1/2) * sp.exp(-1/2 * (r_t - mu).T @ Sigma_t.inverse() @ (r_t - mu))\n",
    "\n",
    "print('p(r_t)')\n",
    "display( p_r_t)\n",
    "log_p_r_t = sp.log(p_r_t)\n",
    "#Print pdf, and log-pdf\n",
    "log_p_r_t = (sp.expand_log(log_p_r_t,deep=True,force=True))\n",
    "print('log p(r_t)')\n",
    "display((log_p_r_t))"
   ]
  },
  {
   "cell_type": "code",
   "execution_count": 46,
   "metadata": {},
   "outputs": [
    {
     "name": "stdout",
     "output_type": "stream",
     "text": [
      "\\begin{equation}\\left(2 \\pi\\right)^{- \\frac{N}{2}} \\sqrt{\\left|{\\Lambda_{t} \\Sigma_{h} \\Lambda_{t}^{T} + \\Sigma_{\\epsilon t}}\\right|} e^{- 0.5 \\left(- f_{t}^{T} \\Lambda_{t}^{T} + r_{t}^{T}\\right) \\left(\\Lambda_{t} \\Sigma_{h} \\Lambda_{t}^{T} + \\Sigma_{\\epsilon t}\\right)^{-1} \\left(- \\Lambda_{t} f_{t} + r_{t}\\right)}\\end{equation}\n",
      "\\begin{equation}- \\frac{N \\left(\\log{\\left(2 \\right)} + \\log{\\left(\\pi \\right)}\\right)}{2} + \\frac{\\log{\\left(\\left|{\\Lambda_{t} \\Sigma_{h} \\Lambda_{t}^{T} + \\Sigma_{\\epsilon t}}\\right| \\right)}}{2} - 0.5 \\left(- f_{t}^{T} \\Lambda_{t}^{T} + r_{t}^{T}\\right) \\left(\\Lambda_{t} \\Sigma_{h} \\Lambda_{t}^{T} + \\Sigma_{\\epsilon t}\\right)^{-1} \\left(- \\Lambda_{t} f_{t} + r_{t}\\right)\\end{equation}\n"
     ]
    }
   ],
   "source": [
    "sp.print_latex(p_r_t, mode='equation')\n",
    "sp.print_latex(log_p_r_t, mode='equation')"
   ]
  }
 ],
 "metadata": {
  "kernelspec": {
   "display_name": "Main_thesis",
   "language": "python",
   "name": "python3"
  },
  "language_info": {
   "codemirror_mode": {
    "name": "ipython",
    "version": 3
   },
   "file_extension": ".py",
   "mimetype": "text/x-python",
   "name": "python",
   "nbconvert_exporter": "python",
   "pygments_lexer": "ipython3",
   "version": "3.13.1"
  }
 },
 "nbformat": 4,
 "nbformat_minor": 2
}
