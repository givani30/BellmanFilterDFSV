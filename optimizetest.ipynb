{
 "cells": [
  {
   "cell_type": "code",
   "execution_count": 1,
   "id": "bf35928a",
   "metadata": {},
   "outputs": [],
   "source": [
    "import sys\n",
    "import os\n",
    "import time\n",
    "import jaxopt\n",
    "import numpy as np\n",
    "import jax\n",
    "import jax.numpy as jnp\n",
    "from rich import print\n",
    "from functools import partial\n",
    "from jax import jit\n",
    "from sympy import true\n",
    "# Plot comparison\n",
    "import matplotlib.pyplot as plt\n",
    "# Add parent directory to path to import our modules\n",
    "# Import parameter classes\n",
    "import marimo as mo\n",
    "from functions.simulation import DFSV_params, simulate_DFSV\n",
    "from functions.jax_params import DFSVParamsDataclass, dfsv_params_to_dict\n",
    "from functions.bellman_filter import DFSVBellmanFilter\n",
    "from jaxopt import OptaxSolver\n",
    "import optax\n",
    "\n",
    "# Enable 64-bit precision for better numerical stability\n",
    "jax.config.update(\"jax_enable_x64\", True)"
   ]
  },
  {
   "cell_type": "code",
   "execution_count": 2,
   "id": "973937ec",
   "metadata": {},
   "outputs": [],
   "source": [
    "def create_simple_model():\n",
    "    \"\"\"Create a simple DFSV model with one factor.\"\"\"\n",
    "    # Define model dimensions\n",
    "    N = 3  # Number of observed series\n",
    "    K = 1  # Number of factors\n",
    "\n",
    "    # Factor loadings\n",
    "    lambda_r = np.array([[0.9], [0.6], [0.3]])\n",
    "\n",
    "    # Factor persistence\n",
    "    Phi_f = np.array([[0.95]])\n",
    "\n",
    "    # Log-volatility persistence\n",
    "    Phi_h = np.array([[0.98]])\n",
    "\n",
    "    # Long-run mean for log-volatilities\n",
    "    mu = np.array([-1.0])\n",
    "    # Idiosyncratic variance (diagonal)\n",
    "    sigma2 = np.array([0.1, 0.1, 0.1])\n",
    "\n",
    "    # Log-volatility noise covariance\n",
    "    Q_h = np.array([[0.05]])\n",
    "\n",
    "    # Create parameter object\n",
    "    params = DFSV_params(\n",
    "        N=N,\n",
    "        K=K,\n",
    "        lambda_r=lambda_r,\n",
    "        Phi_f=Phi_f,\n",
    "        Phi_h=Phi_h,\n",
    "        mu=mu,\n",
    "        sigma2=sigma2,\n",
    "        Q_h=Q_h,\n",
    "    )\n",
    "\n",
    "    return params\n",
    "\n",
    "\n",
    "def create_training_data(params, T=100, seed=42):\n",
    "    \"\"\"Generate simulated data for training.\"\"\"\n",
    "    returns, factors, log_vols = simulate_DFSV(params, T=T, seed=seed)\n",
    "    return returns, factors, log_vols\n",
    "\n",
    "\n",
    "def bellman_objective(params_dict, y, filter, N, K):\n",
    "    \"\"\"\n",
    "    Compute the Bellman objective function for the DFSV model.\n",
    "    This version works directly with parameter dictionaries.\n",
    "\n",
    "    Parameters\n",
    "    ----------\n",
    "    params_dict : Dict\n",
    "        Dictionary of model parameters.\n",
    "    y : np.ndarray\n",
    "        Observed data.\n",
    "    filter : DFSVBellmanFilter\n",
    "        Bellman filter object.\n",
    "    N : int\n",
    "        Number of observed series.\n",
    "    K : int\n",
    "        Number of factors.\n",
    "\n",
    "    Returns\n",
    "    -------\n",
    "    float\n",
    "        The negative log-likelihood (objective value).\n",
    "    \"\"\"\n",
    "    # Convert the parameter dictionary to a dataclass\n",
    "    params= DFSVParamsDataclass.from_dict(params_dict,N,K)\n",
    "    try:\n",
    "        # Direct computation using the filter\n",
    "        ll = filter.log_likelihood_of_params(params, y)\n",
    "        return -float(ll)  # Return negative log-likelihood\n",
    "    except Exception as e:\n",
    "        print(f\"Error in bellman_objective: {e}\")\n",
    "        return 1e10  # Return a large value in case of error"
   ]
  },
  {
   "cell_type": "code",
   "execution_count": 3,
   "id": "f5edf596",
   "metadata": {},
   "outputs": [
    {
     "name": "stdout",
     "output_type": "stream",
     "text": [
      "JAX functions successfully precompiled\n"
     ]
    }
   ],
   "source": [
    "# Create a simple model\n",
    "params = create_simple_model()\n",
    "# Generate training data\n",
    "returns, factors, log_vols = create_training_data(params, T=200)\n",
    "# Create a Bellman filter object\n",
    "filter = DFSVBellmanFilter(params.N, params.K)\n",
    "# Create a JAX-compatible parameter object\n",
    "jax_params = DFSVParamsDataclass.from_dfsv_params(params)\n",
    "# Perturb the parameters\n",
    "jax_params = jax_params.replace(\n",
    "    lambda_r=jax_params.lambda_r\n",
    "    + 0.1 * jax.random.normal(jax.random.PRNGKey(0), jax_params.lambda_r.shape),\n",
    "    Phi_f=jax_params.Phi_f\n",
    "    + 0.1 * jax.random.normal(jax.random.PRNGKey(1), jax_params.Phi_f.shape),\n",
    "    Phi_h=jax_params.Phi_h\n",
    "    + 0.1 * jax.random.normal(jax.random.PRNGKey(2), jax_params.Phi_h.shape),\n",
    "    mu=jax_params.mu\n",
    "    + 0.1 * jax.random.normal(jax.random.PRNGKey(3), jax_params.mu.shape),\n",
    "    # sigma2=jax_params.sigma2\n",
    "    # + 0.1 * jax.random.normal(jax.random.PRNGKey(4), jax_params.sigma2.shape),\n",
    "    # Q_h=jax_params.Q_h\n",
    "    # + 0.1 * jax.random.normal(jax.random.PRNGKey(5), jax_params.Q_h.shape),\n",
    ")"
   ]
  },
  {
   "cell_type": "markdown",
   "id": "3a034896",
   "metadata": {},
   "source": [
    "# Creating Realistic Starting Parameters\n",
    "\n",
    "Instead of perturbing the original parameters, we'll create a set of realistic starting parameters that are different from the true parameters but still reasonable for the DFSV model."
   ]
  },
  {
   "cell_type": "code",
   "execution_count": 4,
   "id": "5abff002",
   "metadata": {},
   "outputs": [
    {
     "data": {
      "text/html": [
       "<pre style=\"white-space:pre;overflow-x:auto;line-height:normal;font-family:Menlo,'DejaVu Sans Mono',consolas,'Courier New',monospace\"><span style=\"color: #00ff00; text-decoration-color: #00ff00; font-style: italic\">True</span> parameters:\n",
       "</pre>\n"
      ],
      "text/plain": [
       "\u001b[3;92mTrue\u001b[0m parameters:\n"
      ]
     },
     "metadata": {},
     "output_type": "display_data"
    },
    {
     "data": {
      "text/html": [
       "<pre style=\"white-space:pre;overflow-x:auto;line-height:normal;font-family:Menlo,'DejaVu Sans Mono',consolas,'Courier New',monospace\">lambda_r:\n",
       "<span style=\"font-weight: bold\">[[</span><span style=\"color: #008080; text-decoration-color: #008080; font-weight: bold\">0.9</span><span style=\"font-weight: bold\">]</span>\n",
       " <span style=\"font-weight: bold\">[</span><span style=\"color: #008080; text-decoration-color: #008080; font-weight: bold\">0.6</span><span style=\"font-weight: bold\">]</span>\n",
       " <span style=\"font-weight: bold\">[</span><span style=\"color: #008080; text-decoration-color: #008080; font-weight: bold\">0.3</span><span style=\"font-weight: bold\">]]</span>\n",
       "</pre>\n"
      ],
      "text/plain": [
       "lambda_r:\n",
       "\u001b[1m[\u001b[0m\u001b[1m[\u001b[0m\u001b[1;36m0.9\u001b[0m\u001b[1m]\u001b[0m\n",
       " \u001b[1m[\u001b[0m\u001b[1;36m0.6\u001b[0m\u001b[1m]\u001b[0m\n",
       " \u001b[1m[\u001b[0m\u001b[1;36m0.3\u001b[0m\u001b[1m]\u001b[0m\u001b[1m]\u001b[0m\n"
      ]
     },
     "metadata": {},
     "output_type": "display_data"
    },
    {
     "data": {
      "text/html": [
       "<pre style=\"white-space:pre;overflow-x:auto;line-height:normal;font-family:Menlo,'DejaVu Sans Mono',consolas,'Courier New',monospace\">Phi_f:\n",
       "<span style=\"font-weight: bold\">[[</span><span style=\"color: #008080; text-decoration-color: #008080; font-weight: bold\">0.95</span><span style=\"font-weight: bold\">]]</span>\n",
       "</pre>\n"
      ],
      "text/plain": [
       "Phi_f:\n",
       "\u001b[1m[\u001b[0m\u001b[1m[\u001b[0m\u001b[1;36m0.95\u001b[0m\u001b[1m]\u001b[0m\u001b[1m]\u001b[0m\n"
      ]
     },
     "metadata": {},
     "output_type": "display_data"
    },
    {
     "data": {
      "text/html": [
       "<pre style=\"white-space:pre;overflow-x:auto;line-height:normal;font-family:Menlo,'DejaVu Sans Mono',consolas,'Courier New',monospace\">Phi_h:\n",
       "<span style=\"font-weight: bold\">[[</span><span style=\"color: #008080; text-decoration-color: #008080; font-weight: bold\">0.98</span><span style=\"font-weight: bold\">]]</span>\n",
       "</pre>\n"
      ],
      "text/plain": [
       "Phi_h:\n",
       "\u001b[1m[\u001b[0m\u001b[1m[\u001b[0m\u001b[1;36m0.98\u001b[0m\u001b[1m]\u001b[0m\u001b[1m]\u001b[0m\n"
      ]
     },
     "metadata": {},
     "output_type": "display_data"
    },
    {
     "data": {
      "text/html": [
       "<pre style=\"white-space:pre;overflow-x:auto;line-height:normal;font-family:Menlo,'DejaVu Sans Mono',consolas,'Courier New',monospace\">mu:\n",
       "<span style=\"font-weight: bold\">[</span><span style=\"color: #008080; text-decoration-color: #008080; font-weight: bold\">-1</span>.<span style=\"font-weight: bold\">]</span>\n",
       "</pre>\n"
      ],
      "text/plain": [
       "mu:\n",
       "\u001b[1m[\u001b[0m\u001b[1;36m-1\u001b[0m.\u001b[1m]\u001b[0m\n"
      ]
     },
     "metadata": {},
     "output_type": "display_data"
    },
    {
     "data": {
      "text/html": [
       "<pre style=\"white-space:pre;overflow-x:auto;line-height:normal;font-family:Menlo,'DejaVu Sans Mono',consolas,'Courier New',monospace\">sigma2:\n",
       "<span style=\"font-weight: bold\">[</span><span style=\"color: #008080; text-decoration-color: #008080; font-weight: bold\">0.1</span> <span style=\"color: #008080; text-decoration-color: #008080; font-weight: bold\">0.1</span> <span style=\"color: #008080; text-decoration-color: #008080; font-weight: bold\">0.1</span><span style=\"font-weight: bold\">]</span>\n",
       "</pre>\n"
      ],
      "text/plain": [
       "sigma2:\n",
       "\u001b[1m[\u001b[0m\u001b[1;36m0.1\u001b[0m \u001b[1;36m0.1\u001b[0m \u001b[1;36m0.1\u001b[0m\u001b[1m]\u001b[0m\n"
      ]
     },
     "metadata": {},
     "output_type": "display_data"
    },
    {
     "data": {
      "text/html": [
       "<pre style=\"white-space:pre;overflow-x:auto;line-height:normal;font-family:Menlo,'DejaVu Sans Mono',consolas,'Courier New',monospace\">Q_h:\n",
       "<span style=\"font-weight: bold\">[[</span><span style=\"color: #008080; text-decoration-color: #008080; font-weight: bold\">0.05</span><span style=\"font-weight: bold\">]]</span>\n",
       "</pre>\n"
      ],
      "text/plain": [
       "Q_h:\n",
       "\u001b[1m[\u001b[0m\u001b[1m[\u001b[0m\u001b[1;36m0.05\u001b[0m\u001b[1m]\u001b[0m\u001b[1m]\u001b[0m\n"
      ]
     },
     "metadata": {},
     "output_type": "display_data"
    },
    {
     "data": {
      "text/html": [
       "<pre style=\"white-space:pre;overflow-x:auto;line-height:normal;font-family:Menlo,'DejaVu Sans Mono',consolas,'Courier New',monospace\">\n",
       "Starting parameters:\n",
       "</pre>\n"
      ],
      "text/plain": [
       "\n",
       "Starting parameters:\n"
      ]
     },
     "metadata": {},
     "output_type": "display_data"
    },
    {
     "data": {
      "text/html": [
       "<pre style=\"white-space:pre;overflow-x:auto;line-height:normal;font-family:Menlo,'DejaVu Sans Mono',consolas,'Courier New',monospace\">lambda_r:\n",
       "<span style=\"font-weight: bold\">[[</span><span style=\"color: #008080; text-decoration-color: #008080; font-weight: bold\">0.83</span><span style=\"font-weight: bold\">]</span>\n",
       " <span style=\"font-weight: bold\">[</span><span style=\"color: #008080; text-decoration-color: #008080; font-weight: bold\">0.62</span><span style=\"font-weight: bold\">]</span>\n",
       " <span style=\"font-weight: bold\">[</span><span style=\"color: #008080; text-decoration-color: #008080; font-weight: bold\">0.41</span><span style=\"font-weight: bold\">]]</span>\n",
       "</pre>\n"
      ],
      "text/plain": [
       "lambda_r:\n",
       "\u001b[1m[\u001b[0m\u001b[1m[\u001b[0m\u001b[1;36m0.83\u001b[0m\u001b[1m]\u001b[0m\n",
       " \u001b[1m[\u001b[0m\u001b[1;36m0.62\u001b[0m\u001b[1m]\u001b[0m\n",
       " \u001b[1m[\u001b[0m\u001b[1;36m0.41\u001b[0m\u001b[1m]\u001b[0m\u001b[1m]\u001b[0m\n"
      ]
     },
     "metadata": {},
     "output_type": "display_data"
    },
    {
     "data": {
      "text/html": [
       "<pre style=\"white-space:pre;overflow-x:auto;line-height:normal;font-family:Menlo,'DejaVu Sans Mono',consolas,'Courier New',monospace\">Phi_f:\n",
       "<span style=\"font-weight: bold\">[[</span><span style=\"color: #008080; text-decoration-color: #008080; font-weight: bold\">0.855</span><span style=\"font-weight: bold\">]]</span>\n",
       "</pre>\n"
      ],
      "text/plain": [
       "Phi_f:\n",
       "\u001b[1m[\u001b[0m\u001b[1m[\u001b[0m\u001b[1;36m0.855\u001b[0m\u001b[1m]\u001b[0m\u001b[1m]\u001b[0m\n"
      ]
     },
     "metadata": {},
     "output_type": "display_data"
    },
    {
     "data": {
      "text/html": [
       "<pre style=\"white-space:pre;overflow-x:auto;line-height:normal;font-family:Menlo,'DejaVu Sans Mono',consolas,'Courier New',monospace\">Phi_h:\n",
       "<span style=\"font-weight: bold\">[[</span><span style=\"color: #008080; text-decoration-color: #008080; font-weight: bold\">0.931</span><span style=\"font-weight: bold\">]]</span>\n",
       "</pre>\n"
      ],
      "text/plain": [
       "Phi_h:\n",
       "\u001b[1m[\u001b[0m\u001b[1m[\u001b[0m\u001b[1;36m0.931\u001b[0m\u001b[1m]\u001b[0m\u001b[1m]\u001b[0m\n"
      ]
     },
     "metadata": {},
     "output_type": "display_data"
    },
    {
     "data": {
      "text/html": [
       "<pre style=\"white-space:pre;overflow-x:auto;line-height:normal;font-family:Menlo,'DejaVu Sans Mono',consolas,'Courier New',monospace\">mu:\n",
       "<span style=\"font-weight: bold\">[</span><span style=\"color: #008080; text-decoration-color: #008080; font-weight: bold\">-0.7</span><span style=\"font-weight: bold\">]</span>\n",
       "</pre>\n"
      ],
      "text/plain": [
       "mu:\n",
       "\u001b[1m[\u001b[0m\u001b[1;36m-0.7\u001b[0m\u001b[1m]\u001b[0m\n"
      ]
     },
     "metadata": {},
     "output_type": "display_data"
    },
    {
     "data": {
      "text/html": [
       "<pre style=\"white-space:pre;overflow-x:auto;line-height:normal;font-family:Menlo,'DejaVu Sans Mono',consolas,'Courier New',monospace\">sigma2:\n",
       "<span style=\"font-weight: bold\">[</span><span style=\"color: #008080; text-decoration-color: #008080; font-weight: bold\">0.1</span> <span style=\"color: #008080; text-decoration-color: #008080; font-weight: bold\">0.1</span> <span style=\"color: #008080; text-decoration-color: #008080; font-weight: bold\">0.1</span><span style=\"font-weight: bold\">]</span>\n",
       "</pre>\n"
      ],
      "text/plain": [
       "sigma2:\n",
       "\u001b[1m[\u001b[0m\u001b[1;36m0.1\u001b[0m \u001b[1;36m0.1\u001b[0m \u001b[1;36m0.1\u001b[0m\u001b[1m]\u001b[0m\n"
      ]
     },
     "metadata": {},
     "output_type": "display_data"
    },
    {
     "data": {
      "text/html": [
       "<pre style=\"white-space:pre;overflow-x:auto;line-height:normal;font-family:Menlo,'DejaVu Sans Mono',consolas,'Courier New',monospace\">Q_h:\n",
       "<span style=\"font-weight: bold\">[[</span><span style=\"color: #008080; text-decoration-color: #008080; font-weight: bold\">0.05</span><span style=\"font-weight: bold\">]]</span>\n",
       "</pre>\n"
      ],
      "text/plain": [
       "Q_h:\n",
       "\u001b[1m[\u001b[0m\u001b[1m[\u001b[0m\u001b[1;36m0.05\u001b[0m\u001b[1m]\u001b[0m\u001b[1m]\u001b[0m\n"
      ]
     },
     "metadata": {},
     "output_type": "display_data"
    }
   ],
   "source": [
    "def create_realistic_starting_params(true_params):\n",
    "    \"\"\"\n",
    "    Create a set of realistic starting parameters for estimation.\n",
    "    \n",
    "    Parameters\n",
    "    ----------\n",
    "    true_params : DFSV_params\n",
    "        The true parameters used for simulation.\n",
    "        \n",
    "    Returns\n",
    "    -------\n",
    "    DFSVParamsDataclass\n",
    "        A realistic set of starting parameters for optimization.\n",
    "    \"\"\"\n",
    "    # Extract dimensions\n",
    "    N = true_params.N\n",
    "    K = true_params.K\n",
    "    \n",
    "    # Create parameter estimates that are reasonably different from true values\n",
    "    # but still in a plausible range\n",
    "    \n",
    "    # Factor loadings - increase magnitude but keep sign pattern\n",
    "    lambda_r = jnp.array(true_params.lambda_r) * 0.7 + 0.2\n",
    "    \n",
    "    # Factor persistence - typically high but less than true\n",
    "    Phi_f = jnp.array(true_params.Phi_f) * 0.9\n",
    "    \n",
    "    # Log-volatility persistence - typically high but less than true\n",
    "    Phi_h = jnp.array(true_params.Phi_h) * 0.95\n",
    "    \n",
    "    # Long-run mean for log-volatilities - slightly higher than true\n",
    "    mu = jnp.array(true_params.mu) + 0.3\n",
    "    \n",
    "    # Idiosyncratic variance - higher than true value\n",
    "    sigma2 = jnp.array(true_params.sigma2)\n",
    "    \n",
    "    # Log-volatility noise covariance - higher than true\n",
    "    Q_h = jnp.array(true_params.Q_h)\n",
    "    \n",
    "    # Create JAX parameter object\n",
    "    start_params = DFSVParamsDataclass(\n",
    "        N=N,\n",
    "        K=K,\n",
    "        lambda_r=lambda_r,\n",
    "        Phi_f=Phi_f,\n",
    "        Phi_h=Phi_h,\n",
    "        mu=mu,\n",
    "        sigma2=sigma2,\n",
    "        Q_h=Q_h\n",
    "    )\n",
    "    \n",
    "    return start_params\n",
    "\n",
    "# Create realistic starting parameters\n",
    "starting_params = create_realistic_starting_params(params)\n",
    "\n",
    "# Print comparison of true vs. starting parameters\n",
    "print(\"True parameters:\")\n",
    "print(f\"lambda_r:\\n{params.lambda_r}\")\n",
    "print(f\"Phi_f:\\n{params.Phi_f}\")\n",
    "print(f\"Phi_h:\\n{params.Phi_h}\")\n",
    "print(f\"mu:\\n{params.mu}\")\n",
    "print(f\"sigma2:\\n{np.diag(params.sigma2)}\")\n",
    "print(f\"Q_h:\\n{params.Q_h}\")\n",
    "print(\"\\nStarting parameters:\")\n",
    "print(f\"lambda_r:\\n{starting_params.lambda_r}\")\n",
    "print(f\"Phi_f:\\n{starting_params.Phi_f}\")\n",
    "print(f\"Phi_h:\\n{starting_params.Phi_h}\")\n",
    "print(f\"mu:\\n{starting_params.mu}\")\n",
    "print(f\"sigma2:\\n{jnp.diag(starting_params.sigma2)}\")\n",
    "print(f\"Q_h:\\n{starting_params.Q_h}\")"
   ]
  },
  {
   "cell_type": "code",
   "execution_count": null,
   "id": "b21b075a",
   "metadata": {},
   "outputs": [
    {
     "data": {
      "text/html": [
       "<pre style=\"white-space:pre;overflow-x:auto;line-height:normal;font-family:Menlo,'DejaVu Sans Mono',consolas,'Courier New',monospace\"><span style=\"font-weight: bold\">{</span>\n",
       "    <span style=\"color: #008000; text-decoration-color: #008000\">'lambda_r'</span>: <span style=\"color: #800080; text-decoration-color: #800080; font-weight: bold\">Array</span><span style=\"font-weight: bold\">([[</span><span style=\"color: #008080; text-decoration-color: #008080; font-weight: bold\">0.83</span><span style=\"font-weight: bold\">]</span>,\n",
       "       <span style=\"font-weight: bold\">[</span><span style=\"color: #008080; text-decoration-color: #008080; font-weight: bold\">0.62</span><span style=\"font-weight: bold\">]</span>,\n",
       "       <span style=\"font-weight: bold\">[</span><span style=\"color: #008080; text-decoration-color: #008080; font-weight: bold\">0.41</span><span style=\"font-weight: bold\">]]</span>, <span style=\"color: #808000; text-decoration-color: #808000\">dtype</span>=<span style=\"color: #800080; text-decoration-color: #800080\">float64</span><span style=\"font-weight: bold\">)</span>,\n",
       "    <span style=\"color: #008000; text-decoration-color: #008000\">'Phi_f'</span>: <span style=\"color: #800080; text-decoration-color: #800080; font-weight: bold\">Array</span><span style=\"font-weight: bold\">([[</span><span style=\"color: #008080; text-decoration-color: #008080; font-weight: bold\">0.855</span><span style=\"font-weight: bold\">]]</span>, <span style=\"color: #808000; text-decoration-color: #808000\">dtype</span>=<span style=\"color: #800080; text-decoration-color: #800080\">float64</span><span style=\"font-weight: bold\">)</span>,\n",
       "    <span style=\"color: #008000; text-decoration-color: #008000\">'Phi_h'</span>: <span style=\"color: #800080; text-decoration-color: #800080; font-weight: bold\">Array</span><span style=\"font-weight: bold\">([[</span><span style=\"color: #008080; text-decoration-color: #008080; font-weight: bold\">0.931</span><span style=\"font-weight: bold\">]]</span>, <span style=\"color: #808000; text-decoration-color: #808000\">dtype</span>=<span style=\"color: #800080; text-decoration-color: #800080\">float64</span><span style=\"font-weight: bold\">)</span>,\n",
       "    <span style=\"color: #008000; text-decoration-color: #008000\">'mu'</span>: <span style=\"color: #800080; text-decoration-color: #800080; font-weight: bold\">Array</span><span style=\"font-weight: bold\">([</span><span style=\"color: #008080; text-decoration-color: #008080; font-weight: bold\">-0.7</span><span style=\"font-weight: bold\">]</span>, <span style=\"color: #808000; text-decoration-color: #808000\">dtype</span>=<span style=\"color: #800080; text-decoration-color: #800080\">float64</span><span style=\"font-weight: bold\">)</span>,\n",
       "    <span style=\"color: #008000; text-decoration-color: #008000\">'sigma2'</span>: <span style=\"color: #800080; text-decoration-color: #800080; font-weight: bold\">Array</span><span style=\"font-weight: bold\">([[</span><span style=\"color: #008080; text-decoration-color: #008080; font-weight: bold\">0.1</span>, <span style=\"color: #008080; text-decoration-color: #008080; font-weight: bold\">0</span>. , <span style=\"color: #008080; text-decoration-color: #008080; font-weight: bold\">0</span>. <span style=\"font-weight: bold\">]</span>,\n",
       "       <span style=\"font-weight: bold\">[</span><span style=\"color: #008080; text-decoration-color: #008080; font-weight: bold\">0</span>. , <span style=\"color: #008080; text-decoration-color: #008080; font-weight: bold\">0.1</span>, <span style=\"color: #008080; text-decoration-color: #008080; font-weight: bold\">0</span>. <span style=\"font-weight: bold\">]</span>,\n",
       "       <span style=\"font-weight: bold\">[</span><span style=\"color: #008080; text-decoration-color: #008080; font-weight: bold\">0</span>. , <span style=\"color: #008080; text-decoration-color: #008080; font-weight: bold\">0</span>. , <span style=\"color: #008080; text-decoration-color: #008080; font-weight: bold\">0.1</span><span style=\"font-weight: bold\">]]</span>, <span style=\"color: #808000; text-decoration-color: #808000\">dtype</span>=<span style=\"color: #800080; text-decoration-color: #800080\">float64</span><span style=\"font-weight: bold\">)</span>,\n",
       "    <span style=\"color: #008000; text-decoration-color: #008000\">'Q_h'</span>: <span style=\"color: #800080; text-decoration-color: #800080; font-weight: bold\">Array</span><span style=\"font-weight: bold\">([[</span><span style=\"color: #008080; text-decoration-color: #008080; font-weight: bold\">0.05</span><span style=\"font-weight: bold\">]]</span>, <span style=\"color: #808000; text-decoration-color: #808000\">dtype</span>=<span style=\"color: #800080; text-decoration-color: #800080\">float64</span><span style=\"font-weight: bold\">)</span>\n",
       "<span style=\"font-weight: bold\">}</span>\n",
       "</pre>\n"
      ],
      "text/plain": [
       "\u001b[1m{\u001b[0m\n",
       "    \u001b[32m'lambda_r'\u001b[0m: \u001b[1;35mArray\u001b[0m\u001b[1m(\u001b[0m\u001b[1m[\u001b[0m\u001b[1m[\u001b[0m\u001b[1;36m0.83\u001b[0m\u001b[1m]\u001b[0m,\n",
       "       \u001b[1m[\u001b[0m\u001b[1;36m0.62\u001b[0m\u001b[1m]\u001b[0m,\n",
       "       \u001b[1m[\u001b[0m\u001b[1;36m0.41\u001b[0m\u001b[1m]\u001b[0m\u001b[1m]\u001b[0m, \u001b[33mdtype\u001b[0m=\u001b[35mfloat64\u001b[0m\u001b[1m)\u001b[0m,\n",
       "    \u001b[32m'Phi_f'\u001b[0m: \u001b[1;35mArray\u001b[0m\u001b[1m(\u001b[0m\u001b[1m[\u001b[0m\u001b[1m[\u001b[0m\u001b[1;36m0.855\u001b[0m\u001b[1m]\u001b[0m\u001b[1m]\u001b[0m, \u001b[33mdtype\u001b[0m=\u001b[35mfloat64\u001b[0m\u001b[1m)\u001b[0m,\n",
       "    \u001b[32m'Phi_h'\u001b[0m: \u001b[1;35mArray\u001b[0m\u001b[1m(\u001b[0m\u001b[1m[\u001b[0m\u001b[1m[\u001b[0m\u001b[1;36m0.931\u001b[0m\u001b[1m]\u001b[0m\u001b[1m]\u001b[0m, \u001b[33mdtype\u001b[0m=\u001b[35mfloat64\u001b[0m\u001b[1m)\u001b[0m,\n",
       "    \u001b[32m'mu'\u001b[0m: \u001b[1;35mArray\u001b[0m\u001b[1m(\u001b[0m\u001b[1m[\u001b[0m\u001b[1;36m-0.7\u001b[0m\u001b[1m]\u001b[0m, \u001b[33mdtype\u001b[0m=\u001b[35mfloat64\u001b[0m\u001b[1m)\u001b[0m,\n",
       "    \u001b[32m'sigma2'\u001b[0m: \u001b[1;35mArray\u001b[0m\u001b[1m(\u001b[0m\u001b[1m[\u001b[0m\u001b[1m[\u001b[0m\u001b[1;36m0.1\u001b[0m, \u001b[1;36m0\u001b[0m. , \u001b[1;36m0\u001b[0m. \u001b[1m]\u001b[0m,\n",
       "       \u001b[1m[\u001b[0m\u001b[1;36m0\u001b[0m. , \u001b[1;36m0.1\u001b[0m, \u001b[1;36m0\u001b[0m. \u001b[1m]\u001b[0m,\n",
       "       \u001b[1m[\u001b[0m\u001b[1;36m0\u001b[0m. , \u001b[1;36m0\u001b[0m. , \u001b[1;36m0.1\u001b[0m\u001b[1m]\u001b[0m\u001b[1m]\u001b[0m, \u001b[33mdtype\u001b[0m=\u001b[35mfloat64\u001b[0m\u001b[1m)\u001b[0m,\n",
       "    \u001b[32m'Q_h'\u001b[0m: \u001b[1;35mArray\u001b[0m\u001b[1m(\u001b[0m\u001b[1m[\u001b[0m\u001b[1m[\u001b[0m\u001b[1;36m0.05\u001b[0m\u001b[1m]\u001b[0m\u001b[1m]\u001b[0m, \u001b[33mdtype\u001b[0m=\u001b[35mfloat64\u001b[0m\u001b[1m)\u001b[0m\n",
       "\u001b[1m}\u001b[0m\n"
      ]
     },
     "metadata": {},
     "output_type": "display_data"
    },
    {
     "data": {
      "text/plain": [
       "True"
      ]
     },
     "execution_count": 5,
     "metadata": {},
     "output_type": "execute_result"
    }
   ],
   "source": [
    "# Use the starting parameters for optimization\n",
    "# Convert to dictionary for optimization\n",
    "\n",
    "\n",
    "param_dict, N, K = dfsv_params_to_dict(starting_params)\n",
    "\n",
    "# Define objective function for this specific problem\n",
    "def objective(params):\n",
    "    # Use the direct bellman_objective function\n",
    "    val = bellman_objective(params, returns, filter, N, K)\n",
    "    return jnp.nan_to_num(val, nan=1e10, posinf=1e10, neginf=-1e10)  # Replace NaN/inf with finite values\n",
    "\n",
    "def check_params(params):\n",
    "    \"\"\"Check if parameter values are valid and print diagnostics\"\"\"\n",
    "    param_obj = params.copy()\n",
    "    print(param_obj)\n",
    "    issues = []\n",
    "    \n",
    "    # Check for NaN or inf values\n",
    "    for name, value in param_obj.items():\n",
    "        if jnp.any(jnp.isnan(value)) or jnp.any(jnp.isinf(value)):\n",
    "            issues.append(f\"{name} contains NaN or Inf values\")\n",
    "        \n",
    "        # Also check for non-float types\n",
    "        if not jnp.issubdtype(value.dtype, jnp.floating):\n",
    "            issues.append(f\"{name} has non-floating type: {value.dtype}\")\n",
    "    \n",
    "    # Check for extreme values\n",
    "    if jnp.any(jnp.abs(param_obj['Phi_f']) > 5):\n",
    "        issues.append(f\"Phi_f has extreme values: {param_obj['Phi_f']}\")\n",
    "    if jnp.any(jnp.abs(param_obj['Phi_h']) > 5):\n",
    "        issues.append(f\"Phi_h has extreme values: {param_obj['Phi_h']}\")\n",
    "    \n",
    "    if issues:\n",
    "        print(\"Parameter issues found:\")\n",
    "        for issue in issues:\n",
    "            print(f\"- {issue}\")\n",
    "        return False\n",
    "    return True\n",
    "\n",
    "\n",
    "\n",
    "def compute_grad_norm(params):\n",
    "    \"\"\"Compute gradient norm without JIT\"\"\"\n",
    "    grad = jax.grad(objective)(params)\n",
    "    flat_grads, _ = jax.tree.flatten(grad)\n",
    "    grad_norm = jnp.sqrt(sum(jnp.sum(g**2) for g in flat_grads))\n",
    "    return jnp.minimum(grad_norm, 1e10)\n",
    "\n",
    "def objective_with_logging(params):\n",
    "    \"\"\"Non-JIT version that returns both objective and gradient norm\"\"\"\n",
    "    val = objective(params)\n",
    "    grad_norm = compute_grad_norm(params)\n",
    "    return val, grad_norm\n",
    "\n",
    "# Define which parameters to optimize\n",
    "mask = {\n",
    "    \"lambda_r\": True,\n",
    "    \"Phi_f\": True,\n",
    "    \"Phi_h\": True,\n",
    "    \"mu\": True,\n",
    "    \"sigma2\": True,\n",
    "    \"Q_h\": True,\n",
    "}\n",
    "\n",
    "# Create optimizer with a lower learning rate for better stability\n",
    "opt = optax.adam(learning_rate=1e-3)\n",
    "# Add gradient clipping\n",
    "opt = optax.chain(optax.clip_by_global_norm(1.0), opt)\n",
    "masked_optimizer = optax.masked(opt, mask=mask)\n",
    "solver = OptaxSolver(opt=masked_optimizer, fun=objective, maxiter=100, tol=1e-6, verbose=True)\n",
    "param_dict.keys()\n",
    "check_params(param_dict)"
   ]
  },
  {
   "cell_type": "code",
   "execution_count": 6,
   "id": "e1d916df",
   "metadata": {},
   "outputs": [
    {
     "data": {
      "text/html": [
       "<pre style=\"white-space:pre;overflow-x:auto;line-height:normal;font-family:Menlo,'DejaVu Sans Mono',consolas,'Courier New',monospace\">Starting optimization with realistic parameters<span style=\"color: #808000; text-decoration-color: #808000\">...</span>\n",
       "</pre>\n"
      ],
      "text/plain": [
       "Starting optimization with realistic parameters\u001b[33m...\u001b[0m\n"
      ]
     },
     "metadata": {},
     "output_type": "display_data"
    },
    {
     "data": {
      "text/html": [
       "<pre style=\"white-space:pre;overflow-x:auto;line-height:normal;font-family:Menlo,'DejaVu Sans Mono',consolas,'Courier New',monospace\"><span style=\"color: #800080; text-decoration-color: #800080; font-weight: bold\">dict_keys</span><span style=\"font-weight: bold\">([</span><span style=\"color: #008000; text-decoration-color: #008000\">'lambda_r'</span>, <span style=\"color: #008000; text-decoration-color: #008000\">'Phi_f'</span>, <span style=\"color: #008000; text-decoration-color: #008000\">'Phi_h'</span>, <span style=\"color: #008000; text-decoration-color: #008000\">'mu'</span>, <span style=\"color: #008000; text-decoration-color: #008000\">'sigma2'</span>, <span style=\"color: #008000; text-decoration-color: #008000\">'Q_h'</span><span style=\"font-weight: bold\">])</span>\n",
       "</pre>\n"
      ],
      "text/plain": [
       "\u001b[1;35mdict_keys\u001b[0m\u001b[1m(\u001b[0m\u001b[1m[\u001b[0m\u001b[32m'lambda_r'\u001b[0m, \u001b[32m'Phi_f'\u001b[0m, \u001b[32m'Phi_h'\u001b[0m, \u001b[32m'mu'\u001b[0m, \u001b[32m'sigma2'\u001b[0m, \u001b[32m'Q_h'\u001b[0m\u001b[1m]\u001b[0m\u001b[1m)\u001b[0m\n"
      ]
     },
     "metadata": {},
     "output_type": "display_data"
    },
    {
     "data": {
      "text/html": [
       "<pre style=\"white-space:pre;overflow-x:auto;line-height:normal;font-family:Menlo,'DejaVu Sans Mono',consolas,'Courier New',monospace\"><span style=\"font-weight: bold\">{</span>\n",
       "    <span style=\"color: #008000; text-decoration-color: #008000\">'lambda_r'</span>: <span style=\"color: #800080; text-decoration-color: #800080; font-weight: bold\">Array</span><span style=\"font-weight: bold\">([[</span><span style=\"color: #008080; text-decoration-color: #008080; font-weight: bold\">0.83</span><span style=\"font-weight: bold\">]</span>,\n",
       "       <span style=\"font-weight: bold\">[</span><span style=\"color: #008080; text-decoration-color: #008080; font-weight: bold\">0.62</span><span style=\"font-weight: bold\">]</span>,\n",
       "       <span style=\"font-weight: bold\">[</span><span style=\"color: #008080; text-decoration-color: #008080; font-weight: bold\">0.41</span><span style=\"font-weight: bold\">]]</span>, <span style=\"color: #808000; text-decoration-color: #808000\">dtype</span>=<span style=\"color: #800080; text-decoration-color: #800080\">float64</span><span style=\"font-weight: bold\">)</span>,\n",
       "    <span style=\"color: #008000; text-decoration-color: #008000\">'Phi_f'</span>: <span style=\"color: #800080; text-decoration-color: #800080; font-weight: bold\">Array</span><span style=\"font-weight: bold\">([[</span><span style=\"color: #008080; text-decoration-color: #008080; font-weight: bold\">0.855</span><span style=\"font-weight: bold\">]]</span>, <span style=\"color: #808000; text-decoration-color: #808000\">dtype</span>=<span style=\"color: #800080; text-decoration-color: #800080\">float64</span><span style=\"font-weight: bold\">)</span>,\n",
       "    <span style=\"color: #008000; text-decoration-color: #008000\">'Phi_h'</span>: <span style=\"color: #800080; text-decoration-color: #800080; font-weight: bold\">Array</span><span style=\"font-weight: bold\">([[</span><span style=\"color: #008080; text-decoration-color: #008080; font-weight: bold\">0.931</span><span style=\"font-weight: bold\">]]</span>, <span style=\"color: #808000; text-decoration-color: #808000\">dtype</span>=<span style=\"color: #800080; text-decoration-color: #800080\">float64</span><span style=\"font-weight: bold\">)</span>,\n",
       "    <span style=\"color: #008000; text-decoration-color: #008000\">'mu'</span>: <span style=\"color: #800080; text-decoration-color: #800080; font-weight: bold\">Array</span><span style=\"font-weight: bold\">([</span><span style=\"color: #008080; text-decoration-color: #008080; font-weight: bold\">-0.7</span><span style=\"font-weight: bold\">]</span>, <span style=\"color: #808000; text-decoration-color: #808000\">dtype</span>=<span style=\"color: #800080; text-decoration-color: #800080\">float64</span><span style=\"font-weight: bold\">)</span>,\n",
       "    <span style=\"color: #008000; text-decoration-color: #008000\">'sigma2'</span>: <span style=\"color: #800080; text-decoration-color: #800080; font-weight: bold\">Array</span><span style=\"font-weight: bold\">([[</span><span style=\"color: #008080; text-decoration-color: #008080; font-weight: bold\">0.1</span>, <span style=\"color: #008080; text-decoration-color: #008080; font-weight: bold\">0</span>. , <span style=\"color: #008080; text-decoration-color: #008080; font-weight: bold\">0</span>. <span style=\"font-weight: bold\">]</span>,\n",
       "       <span style=\"font-weight: bold\">[</span><span style=\"color: #008080; text-decoration-color: #008080; font-weight: bold\">0</span>. , <span style=\"color: #008080; text-decoration-color: #008080; font-weight: bold\">0.1</span>, <span style=\"color: #008080; text-decoration-color: #008080; font-weight: bold\">0</span>. <span style=\"font-weight: bold\">]</span>,\n",
       "       <span style=\"font-weight: bold\">[</span><span style=\"color: #008080; text-decoration-color: #008080; font-weight: bold\">0</span>. , <span style=\"color: #008080; text-decoration-color: #008080; font-weight: bold\">0</span>. , <span style=\"color: #008080; text-decoration-color: #008080; font-weight: bold\">0.1</span><span style=\"font-weight: bold\">]]</span>, <span style=\"color: #808000; text-decoration-color: #808000\">dtype</span>=<span style=\"color: #800080; text-decoration-color: #800080\">float64</span><span style=\"font-weight: bold\">)</span>,\n",
       "    <span style=\"color: #008000; text-decoration-color: #008000\">'Q_h'</span>: <span style=\"color: #800080; text-decoration-color: #800080; font-weight: bold\">Array</span><span style=\"font-weight: bold\">([[</span><span style=\"color: #008080; text-decoration-color: #008080; font-weight: bold\">0.05</span><span style=\"font-weight: bold\">]]</span>, <span style=\"color: #808000; text-decoration-color: #808000\">dtype</span>=<span style=\"color: #800080; text-decoration-color: #800080\">float64</span><span style=\"font-weight: bold\">)</span>\n",
       "<span style=\"font-weight: bold\">}</span>\n",
       "</pre>\n"
      ],
      "text/plain": [
       "\u001b[1m{\u001b[0m\n",
       "    \u001b[32m'lambda_r'\u001b[0m: \u001b[1;35mArray\u001b[0m\u001b[1m(\u001b[0m\u001b[1m[\u001b[0m\u001b[1m[\u001b[0m\u001b[1;36m0.83\u001b[0m\u001b[1m]\u001b[0m,\n",
       "       \u001b[1m[\u001b[0m\u001b[1;36m0.62\u001b[0m\u001b[1m]\u001b[0m,\n",
       "       \u001b[1m[\u001b[0m\u001b[1;36m0.41\u001b[0m\u001b[1m]\u001b[0m\u001b[1m]\u001b[0m, \u001b[33mdtype\u001b[0m=\u001b[35mfloat64\u001b[0m\u001b[1m)\u001b[0m,\n",
       "    \u001b[32m'Phi_f'\u001b[0m: \u001b[1;35mArray\u001b[0m\u001b[1m(\u001b[0m\u001b[1m[\u001b[0m\u001b[1m[\u001b[0m\u001b[1;36m0.855\u001b[0m\u001b[1m]\u001b[0m\u001b[1m]\u001b[0m, \u001b[33mdtype\u001b[0m=\u001b[35mfloat64\u001b[0m\u001b[1m)\u001b[0m,\n",
       "    \u001b[32m'Phi_h'\u001b[0m: \u001b[1;35mArray\u001b[0m\u001b[1m(\u001b[0m\u001b[1m[\u001b[0m\u001b[1m[\u001b[0m\u001b[1;36m0.931\u001b[0m\u001b[1m]\u001b[0m\u001b[1m]\u001b[0m, \u001b[33mdtype\u001b[0m=\u001b[35mfloat64\u001b[0m\u001b[1m)\u001b[0m,\n",
       "    \u001b[32m'mu'\u001b[0m: \u001b[1;35mArray\u001b[0m\u001b[1m(\u001b[0m\u001b[1m[\u001b[0m\u001b[1;36m-0.7\u001b[0m\u001b[1m]\u001b[0m, \u001b[33mdtype\u001b[0m=\u001b[35mfloat64\u001b[0m\u001b[1m)\u001b[0m,\n",
       "    \u001b[32m'sigma2'\u001b[0m: \u001b[1;35mArray\u001b[0m\u001b[1m(\u001b[0m\u001b[1m[\u001b[0m\u001b[1m[\u001b[0m\u001b[1;36m0.1\u001b[0m, \u001b[1;36m0\u001b[0m. , \u001b[1;36m0\u001b[0m. \u001b[1m]\u001b[0m,\n",
       "       \u001b[1m[\u001b[0m\u001b[1;36m0\u001b[0m. , \u001b[1;36m0.1\u001b[0m, \u001b[1;36m0\u001b[0m. \u001b[1m]\u001b[0m,\n",
       "       \u001b[1m[\u001b[0m\u001b[1;36m0\u001b[0m. , \u001b[1;36m0\u001b[0m. , \u001b[1;36m0.1\u001b[0m\u001b[1m]\u001b[0m\u001b[1m]\u001b[0m, \u001b[33mdtype\u001b[0m=\u001b[35mfloat64\u001b[0m\u001b[1m)\u001b[0m,\n",
       "    \u001b[32m'Q_h'\u001b[0m: \u001b[1;35mArray\u001b[0m\u001b[1m(\u001b[0m\u001b[1m[\u001b[0m\u001b[1m[\u001b[0m\u001b[1;36m0.05\u001b[0m\u001b[1m]\u001b[0m\u001b[1m]\u001b[0m, \u001b[33mdtype\u001b[0m=\u001b[35mfloat64\u001b[0m\u001b[1m)\u001b[0m\n",
       "\u001b[1m}\u001b[0m\n"
      ]
     },
     "metadata": {},
     "output_type": "display_data"
    },
    {
     "data": {
      "text/html": [
       "<pre style=\"white-space:pre;overflow-x:auto;line-height:normal;font-family:Menlo,'DejaVu Sans Mono',consolas,'Courier New',monospace\"><span style=\"color: #800080; text-decoration-color: #800080; font-weight: bold\">dict_keys</span><span style=\"font-weight: bold\">([</span><span style=\"color: #008000; text-decoration-color: #008000\">'lambda_r'</span>, <span style=\"color: #008000; text-decoration-color: #008000\">'Phi_f'</span>, <span style=\"color: #008000; text-decoration-color: #008000\">'Phi_h'</span>, <span style=\"color: #008000; text-decoration-color: #008000\">'mu'</span>, <span style=\"color: #008000; text-decoration-color: #008000\">'sigma2'</span>, <span style=\"color: #008000; text-decoration-color: #008000\">'Q_h'</span><span style=\"font-weight: bold\">])</span>\n",
       "</pre>\n"
      ],
      "text/plain": [
       "\u001b[1;35mdict_keys\u001b[0m\u001b[1m(\u001b[0m\u001b[1m[\u001b[0m\u001b[32m'lambda_r'\u001b[0m, \u001b[32m'Phi_f'\u001b[0m, \u001b[32m'Phi_h'\u001b[0m, \u001b[32m'mu'\u001b[0m, \u001b[32m'sigma2'\u001b[0m, \u001b[32m'Q_h'\u001b[0m\u001b[1m]\u001b[0m\u001b[1m)\u001b[0m\n"
      ]
     },
     "metadata": {},
     "output_type": "display_data"
    },
    {
     "data": {
      "text/html": [
       "<pre style=\"white-space:pre;overflow-x:auto;line-height:normal;font-family:Menlo,'DejaVu Sans Mono',consolas,'Courier New',monospace\"><span style=\"color: #800080; text-decoration-color: #800080; font-weight: bold\">dict_keys</span><span style=\"font-weight: bold\">([</span><span style=\"color: #008000; text-decoration-color: #008000\">'lambda_r'</span>, <span style=\"color: #008000; text-decoration-color: #008000\">'Phi_f'</span>, <span style=\"color: #008000; text-decoration-color: #008000\">'Phi_h'</span>, <span style=\"color: #008000; text-decoration-color: #008000\">'mu'</span>, <span style=\"color: #008000; text-decoration-color: #008000\">'sigma2'</span>, <span style=\"color: #008000; text-decoration-color: #008000\">'Q_h'</span>, <span style=\"color: #008000; text-decoration-color: #008000\">'N'</span>, <span style=\"color: #008000; text-decoration-color: #008000\">'K'</span><span style=\"font-weight: bold\">])</span>\n",
       "</pre>\n"
      ],
      "text/plain": [
       "\u001b[1;35mdict_keys\u001b[0m\u001b[1m(\u001b[0m\u001b[1m[\u001b[0m\u001b[32m'lambda_r'\u001b[0m, \u001b[32m'Phi_f'\u001b[0m, \u001b[32m'Phi_h'\u001b[0m, \u001b[32m'mu'\u001b[0m, \u001b[32m'sigma2'\u001b[0m, \u001b[32m'Q_h'\u001b[0m, \u001b[32m'N'\u001b[0m, \u001b[32m'K'\u001b[0m\u001b[1m]\u001b[0m\u001b[1m)\u001b[0m\n"
      ]
     },
     "metadata": {},
     "output_type": "display_data"
    },
    {
     "data": {
      "text/html": [
       "<pre style=\"white-space:pre;overflow-x:auto;line-height:normal;font-family:Menlo,'DejaVu Sans Mono',consolas,'Courier New',monospace\">Initial objective value: <span style=\"color: #008080; text-decoration-color: #008080; font-weight: bold\">516.8168</span>\n",
       "</pre>\n"
      ],
      "text/plain": [
       "Initial objective value: \u001b[1;36m516.8168\u001b[0m\n"
      ]
     },
     "metadata": {},
     "output_type": "display_data"
    },
    {
     "data": {
      "text/html": [
       "<pre style=\"white-space:pre;overflow-x:auto;line-height:normal;font-family:Menlo,'DejaVu Sans Mono',consolas,'Courier New',monospace\"><span style=\"color: #800080; text-decoration-color: #800080; font-weight: bold\">dict_keys</span><span style=\"font-weight: bold\">([</span><span style=\"color: #008000; text-decoration-color: #008000\">'lambda_r'</span>, <span style=\"color: #008000; text-decoration-color: #008000\">'Phi_f'</span>, <span style=\"color: #008000; text-decoration-color: #008000\">'Phi_h'</span>, <span style=\"color: #008000; text-decoration-color: #008000\">'mu'</span>, <span style=\"color: #008000; text-decoration-color: #008000\">'sigma2'</span>, <span style=\"color: #008000; text-decoration-color: #008000\">'Q_h'</span>, <span style=\"color: #008000; text-decoration-color: #008000\">'N'</span>, <span style=\"color: #008000; text-decoration-color: #008000\">'K'</span><span style=\"font-weight: bold\">])</span>\n",
       "</pre>\n"
      ],
      "text/plain": [
       "\u001b[1;35mdict_keys\u001b[0m\u001b[1m(\u001b[0m\u001b[1m[\u001b[0m\u001b[32m'lambda_r'\u001b[0m, \u001b[32m'Phi_f'\u001b[0m, \u001b[32m'Phi_h'\u001b[0m, \u001b[32m'mu'\u001b[0m, \u001b[32m'sigma2'\u001b[0m, \u001b[32m'Q_h'\u001b[0m, \u001b[32m'N'\u001b[0m, \u001b[32m'K'\u001b[0m\u001b[1m]\u001b[0m\u001b[1m)\u001b[0m\n"
      ]
     },
     "metadata": {},
     "output_type": "display_data"
    },
    {
     "ename": "ValueError",
     "evalue": "Dict key mismatch; expected keys: ['Phi_f', 'Phi_h', 'Q_h', 'lambda_r', 'mu', 'sigma2']; dict: {'lambda_r': Array([[0.83],\n       [0.62],\n       [0.41]], dtype=float64), 'Phi_f': Array([[0.855]], dtype=float64), 'Phi_h': Array([[0.931]], dtype=float64), 'mu': Array([-0.7], dtype=float64), 'sigma2': Array([[0.1, 0. , 0. ],\n       [0. , 0.1, 0. ],\n       [0. , 0. , 0.1]], dtype=float64), 'Q_h': Array([[0.05]], dtype=float64), 'N': 3, 'K': 1}.",
     "output_type": "error",
     "traceback": [
      "\u001b[0;31m---------------------------------------------------------------------------\u001b[0m",
      "\u001b[0;31mValueError\u001b[0m                                Traceback (most recent call last)",
      "Cell \u001b[0;32mIn[6], line 30\u001b[0m\n\u001b[1;32m     28\u001b[0m \u001b[38;5;28mprint\u001b[39m(param_dict\u001b[38;5;241m.\u001b[39mkeys())\n\u001b[1;32m     29\u001b[0m \u001b[38;5;66;03m#Initialize optimizer state\u001b[39;00m\n\u001b[0;32m---> 30\u001b[0m optimizer_state \u001b[38;5;241m=\u001b[39m \u001b[43msolver\u001b[49m\u001b[38;5;241;43m.\u001b[39;49m\u001b[43minit_state\u001b[49m\u001b[43m(\u001b[49m\u001b[43mcurrent_params\u001b[49m\u001b[43m)\u001b[49m\n\u001b[1;32m     31\u001b[0m \u001b[38;5;66;03m# Try running with custom safeguards - manual optimization loop\u001b[39;00m\n\u001b[1;32m     32\u001b[0m \u001b[38;5;28;01mfor\u001b[39;00m i \u001b[38;5;129;01min\u001b[39;00m \u001b[38;5;28mrange\u001b[39m(\u001b[38;5;241m100\u001b[39m):  \u001b[38;5;66;03m# Max 100 iterations\u001b[39;00m\n",
      "File \u001b[0;32m~/miniforge3/envs/Main_thesis/lib/python3.13/site-packages/jaxopt/_src/optax_wrapper.py:106\u001b[0m, in \u001b[0;36mOptaxSolver.init_state\u001b[0;34m(self, init_params, *args, **kwargs)\u001b[0m\n\u001b[1;32m     93\u001b[0m \u001b[38;5;28;01mdef\u001b[39;00m\u001b[38;5;250m \u001b[39m\u001b[38;5;21minit_state\u001b[39m(\u001b[38;5;28mself\u001b[39m,\n\u001b[1;32m     94\u001b[0m                init_params: Any,\n\u001b[1;32m     95\u001b[0m                \u001b[38;5;241m*\u001b[39margs,\n\u001b[1;32m     96\u001b[0m                \u001b[38;5;241m*\u001b[39m\u001b[38;5;241m*\u001b[39mkwargs) \u001b[38;5;241m-\u001b[39m\u001b[38;5;241m>\u001b[39m OptaxState:\n\u001b[1;32m     97\u001b[0m \u001b[38;5;250m  \u001b[39m\u001b[38;5;124;03m\"\"\"Initialize the solver state.\u001b[39;00m\n\u001b[1;32m     98\u001b[0m \n\u001b[1;32m     99\u001b[0m \u001b[38;5;124;03m  Args:\u001b[39;00m\n\u001b[0;32m   (...)\u001b[0m\n\u001b[1;32m    104\u001b[0m \u001b[38;5;124;03m    state\u001b[39;00m\n\u001b[1;32m    105\u001b[0m \u001b[38;5;124;03m  \"\"\"\u001b[39;00m\n\u001b[0;32m--> 106\u001b[0m   opt_state \u001b[38;5;241m=\u001b[39m \u001b[38;5;28;43mself\u001b[39;49m\u001b[38;5;241;43m.\u001b[39;49m\u001b[43mopt\u001b[49m\u001b[38;5;241;43m.\u001b[39;49m\u001b[43minit\u001b[49m\u001b[43m(\u001b[49m\u001b[43minit_params\u001b[49m\u001b[43m)\u001b[49m\n\u001b[1;32m    108\u001b[0m   value, aux \u001b[38;5;241m=\u001b[39m \u001b[38;5;28mself\u001b[39m\u001b[38;5;241m.\u001b[39m_fun(init_params, \u001b[38;5;241m*\u001b[39margs, \u001b[38;5;241m*\u001b[39m\u001b[38;5;241m*\u001b[39mkwargs)\n\u001b[1;32m    110\u001b[0m   params_dtype \u001b[38;5;241m=\u001b[39m tree_util\u001b[38;5;241m.\u001b[39mtree_single_dtype(init_params)\n",
      "File \u001b[0;32m~/miniforge3/envs/Main_thesis/lib/python3.13/site-packages/optax/transforms/_masking.py:128\u001b[0m, in \u001b[0;36mmasked.<locals>.init_fn\u001b[0;34m(params)\u001b[0m\n\u001b[1;32m    125\u001b[0m   \u001b[38;5;28;01mreturn\u001b[39;00m MaskedState(inner_state\u001b[38;5;241m=\u001b[39minner\u001b[38;5;241m.\u001b[39minit(params))\n\u001b[1;32m    127\u001b[0m mask_tree \u001b[38;5;241m=\u001b[39m mask(params) \u001b[38;5;28;01mif\u001b[39;00m _mask_callable(mask) \u001b[38;5;28;01melse\u001b[39;00m mask\n\u001b[0;32m--> 128\u001b[0m masked_params \u001b[38;5;241m=\u001b[39m \u001b[43mmask_pytree\u001b[49m\u001b[43m(\u001b[49m\u001b[43mparams\u001b[49m\u001b[43m,\u001b[49m\u001b[43m \u001b[49m\u001b[43mmask_tree\u001b[49m\u001b[43m)\u001b[49m\n\u001b[1;32m    129\u001b[0m \u001b[38;5;28;01mreturn\u001b[39;00m MaskedState(inner_state\u001b[38;5;241m=\u001b[39minner\u001b[38;5;241m.\u001b[39minit(masked_params))\n",
      "File \u001b[0;32m~/miniforge3/envs/Main_thesis/lib/python3.13/site-packages/optax/transforms/_masking.py:91\u001b[0m, in \u001b[0;36mmasked.<locals>.mask_pytree\u001b[0;34m(pytree, mask_tree)\u001b[0m\n\u001b[1;32m     90\u001b[0m \u001b[38;5;28;01mdef\u001b[39;00m\u001b[38;5;250m \u001b[39m\u001b[38;5;21mmask_pytree\u001b[39m(pytree, mask_tree):\n\u001b[0;32m---> 91\u001b[0m   \u001b[38;5;28;01mreturn\u001b[39;00m \u001b[43mjax\u001b[49m\u001b[38;5;241;43m.\u001b[39;49m\u001b[43mtree\u001b[49m\u001b[38;5;241;43m.\u001b[39;49m\u001b[43mmap\u001b[49m\u001b[43m(\u001b[49m\n\u001b[1;32m     92\u001b[0m \u001b[43m      \u001b[49m\u001b[38;5;28;43;01mlambda\u001b[39;49;00m\u001b[43m \u001b[49m\u001b[43mm\u001b[49m\u001b[43m,\u001b[49m\u001b[43m \u001b[49m\u001b[43mp\u001b[49m\u001b[43m:\u001b[49m\u001b[43m \u001b[49m\u001b[43mp\u001b[49m\u001b[43m \u001b[49m\u001b[38;5;28;43;01mif\u001b[39;49;00m\u001b[43m \u001b[49m\u001b[43mm\u001b[49m\u001b[43m \u001b[49m\u001b[38;5;28;43;01melse\u001b[39;49;00m\u001b[43m \u001b[49m\u001b[43mMaskedNode\u001b[49m\u001b[43m(\u001b[49m\u001b[43m)\u001b[49m\u001b[43m,\u001b[49m\u001b[43m \u001b[49m\u001b[43mmask_tree\u001b[49m\u001b[43m,\u001b[49m\u001b[43m \u001b[49m\u001b[43mpytree\u001b[49m\n\u001b[1;32m     93\u001b[0m \u001b[43m  \u001b[49m\u001b[43m)\u001b[49m\n",
      "File \u001b[0;32m~/miniforge3/envs/Main_thesis/lib/python3.13/site-packages/jax/_src/tree.py:155\u001b[0m, in \u001b[0;36mmap\u001b[0;34m(f, tree, is_leaf, *rest)\u001b[0m\n\u001b[1;32m    115\u001b[0m \u001b[38;5;28;01mdef\u001b[39;00m\u001b[38;5;250m \u001b[39m\u001b[38;5;21mmap\u001b[39m(f: Callable[\u001b[38;5;241m.\u001b[39m\u001b[38;5;241m.\u001b[39m\u001b[38;5;241m.\u001b[39m, Any],\n\u001b[1;32m    116\u001b[0m         tree: Any,\n\u001b[1;32m    117\u001b[0m         \u001b[38;5;241m*\u001b[39mrest: Any,\n\u001b[1;32m    118\u001b[0m         is_leaf: Callable[[Any], \u001b[38;5;28mbool\u001b[39m] \u001b[38;5;241m|\u001b[39m \u001b[38;5;28;01mNone\u001b[39;00m \u001b[38;5;241m=\u001b[39m \u001b[38;5;28;01mNone\u001b[39;00m) \u001b[38;5;241m-\u001b[39m\u001b[38;5;241m>\u001b[39m Any:\n\u001b[1;32m    119\u001b[0m \u001b[38;5;250m  \u001b[39m\u001b[38;5;124;03m\"\"\"Maps a multi-input function over pytree args to produce a new pytree.\u001b[39;00m\n\u001b[1;32m    120\u001b[0m \n\u001b[1;32m    121\u001b[0m \u001b[38;5;124;03m  Args:\u001b[39;00m\n\u001b[0;32m   (...)\u001b[0m\n\u001b[1;32m    153\u001b[0m \u001b[38;5;124;03m    - :func:`jax.tree.reduce`\u001b[39;00m\n\u001b[1;32m    154\u001b[0m \u001b[38;5;124;03m  \"\"\"\u001b[39;00m\n\u001b[0;32m--> 155\u001b[0m   \u001b[38;5;28;01mreturn\u001b[39;00m \u001b[43mtree_util\u001b[49m\u001b[38;5;241;43m.\u001b[39;49m\u001b[43mtree_map\u001b[49m\u001b[43m(\u001b[49m\u001b[43mf\u001b[49m\u001b[43m,\u001b[49m\u001b[43m \u001b[49m\u001b[43mtree\u001b[49m\u001b[43m,\u001b[49m\u001b[43m \u001b[49m\u001b[38;5;241;43m*\u001b[39;49m\u001b[43mrest\u001b[49m\u001b[43m,\u001b[49m\u001b[43m \u001b[49m\u001b[43mis_leaf\u001b[49m\u001b[38;5;241;43m=\u001b[39;49m\u001b[43mis_leaf\u001b[49m\u001b[43m)\u001b[49m\n",
      "File \u001b[0;32m~/miniforge3/envs/Main_thesis/lib/python3.13/site-packages/jax/_src/tree_util.py:357\u001b[0m, in \u001b[0;36mtree_map\u001b[0;34m(f, tree, is_leaf, *rest)\u001b[0m\n\u001b[1;32m    355\u001b[0m \u001b[38;5;250m\u001b[39m\u001b[38;5;124;03m\"\"\"Alias of :func:`jax.tree.map`.\"\"\"\u001b[39;00m\n\u001b[1;32m    356\u001b[0m leaves, treedef \u001b[38;5;241m=\u001b[39m tree_flatten(tree, is_leaf)\n\u001b[0;32m--> 357\u001b[0m all_leaves \u001b[38;5;241m=\u001b[39m [leaves] \u001b[38;5;241m+\u001b[39m [\u001b[43mtreedef\u001b[49m\u001b[38;5;241;43m.\u001b[39;49m\u001b[43mflatten_up_to\u001b[49m\u001b[43m(\u001b[49m\u001b[43mr\u001b[49m\u001b[43m)\u001b[49m \u001b[38;5;28;01mfor\u001b[39;00m r \u001b[38;5;129;01min\u001b[39;00m rest]\n\u001b[1;32m    358\u001b[0m \u001b[38;5;28;01mreturn\u001b[39;00m treedef\u001b[38;5;241m.\u001b[39munflatten(f(\u001b[38;5;241m*\u001b[39mxs) \u001b[38;5;28;01mfor\u001b[39;00m xs \u001b[38;5;129;01min\u001b[39;00m \u001b[38;5;28mzip\u001b[39m(\u001b[38;5;241m*\u001b[39mall_leaves))\n",
      "\u001b[0;31mValueError\u001b[0m: Dict key mismatch; expected keys: ['Phi_f', 'Phi_h', 'Q_h', 'lambda_r', 'mu', 'sigma2']; dict: {'lambda_r': Array([[0.83],\n       [0.62],\n       [0.41]], dtype=float64), 'Phi_f': Array([[0.855]], dtype=float64), 'Phi_h': Array([[0.931]], dtype=float64), 'mu': Array([-0.7], dtype=float64), 'sigma2': Array([[0.1, 0. , 0. ],\n       [0. , 0.1, 0. ],\n       [0. , 0. , 0.1]], dtype=float64), 'Q_h': Array([[0.05]], dtype=float64), 'N': 3, 'K': 1}."
     ]
    }
   ],
   "source": [
    "from rich import print\n",
    "from rich.traceback import install\n",
    "# install(show_locals=False)\n",
    "# Run the optimization with the new starting parameters\n",
    "print(\"Starting optimization with realistic parameters...\")\n",
    "param_dict, N, K = dfsv_params_to_dict(starting_params)\n",
    "print(param_dict.keys())\n",
    "# Check parameters before starting optimization\n",
    "check_params(param_dict)\n",
    "print(param_dict.keys())\n",
    "\n",
    "# Print initial objective value - use non-JIT version\n",
    "# try:\n",
    "initial_objective = compute_objective(param_dict)\n",
    "print(param_dict.keys())\n",
    "print(f\"Initial objective value: {initial_objective:.4f}\")\n",
    "# except Exception as e:\n",
    "#     print(f\"Error computing initial objective: {e}\")\n",
    "#     print(\"Debugging parameter types:\")\n",
    "#     for key, val in param_dict.items():\n",
    "#         print(f\"{key}: type={type(val)}, dtype={getattr(val, 'dtype', None)}\")\n",
    "\n",
    "# Custom step-by-step optimization loop for better control\n",
    "# param_dict, N, K = dfsv_params_to_dict(starting_params)\n",
    "# print(param_dict.keys())\n",
    "current_params = param_dict\n",
    "start_time = time.time()\n",
    "print(param_dict.keys())\n",
    "#Initialize optimizer state\n",
    "optimizer_state = solver.init_state(current_params)\n",
    "# Try running with custom safeguards - manual optimization loop\n",
    "for i in range(100):  # Max 100 iterations\n",
    "    try:\n",
    "        # Compute value and gradient\n",
    "        value = objective(current_params)\n",
    "        grad = jax.grad(objective, allow_int=True)(current_params)\n",
    "        \n",
    "        # Check for NaN or Inf in gradient\n",
    "        flat_grads, _ = jax.tree_flatten(grad)\n",
    "        has_bad_grads = any(jnp.any(jnp.isnan(g) | jnp.isinf(g)) for g in flat_grads)\n",
    "        \n",
    "        # Calculate gradient norm for reporting\n",
    "        grad_norm = jnp.sqrt(sum(jnp.sum(g**2) for g in flat_grads))\n",
    "        grad_norm = jnp.minimum(grad_norm, 1e10)  # Clip large values\n",
    "        \n",
    "        if has_bad_grads:\n",
    "            print(f\"Iteration {i}: Found NaN/Inf in gradient, stopping optimization\")\n",
    "            break\n",
    "            \n",
    "        # Update parameters using the optimizer\n",
    "        params, optimizer_state = solver.update(grad, optimizer_state)\n",
    "        # Log progress using direct computation (no tracers)\n",
    "        obj_value = compute_objective(current_params)\n",
    "        print(f\"Iter: {i} Objective Value: {obj_value:.6f} Gradient Norm: {grad_norm:.6f}\")\n",
    "        \n",
    "        # Check convergence\n",
    "        if grad_norm < 1e-6:\n",
    "            print(\"Converged based on gradient norm\")\n",
    "            break\n",
    "            \n",
    "        # Check if parameters are reasonable\n",
    "        if not check_params(current_params):\n",
    "            print(\"Stopping due to parameter issues\")\n",
    "            break\n",
    "            \n",
    "    except Exception as e:\n",
    "        print(f\"Error in iteration {i}: {e}\")\n",
    "        break\n",
    "\n",
    "end_time = time.time()\n",
    "print(f\"Optimization took {end_time - start_time:.2f} seconds\")\n",
    "\n",
    "# Use the final parameters from our custom loop\n",
    "final_dict = current_params\n",
    "optimized_params = DFSVParamsDataclass.from_dict(final_dict, N, K)\n",
    "\n",
    "# Compare true, starting, and optimized parameters\n",
    "print(\"\\nParameter Comparison:\")\n",
    "print(\"-\" * 50)\n",
    "print(f\"{'Parameter':<10} {'True':<15} {'Starting':<15} {'Optimized':<15}\")\n",
    "print(\"-\" * 50)\n",
    "\n",
    "# Lambda values (first element)\n",
    "print(f\"lambda_r[0] {params.lambda_r[0][0]:<15.4f} {starting_params.lambda_r[0][0]:<15.4f} {optimized_params.lambda_r[0][0]:<15.4f}\")\n",
    "\n",
    "# Phi values\n",
    "print(f\"Phi_f     {params.Phi_f[0][0]:<15.4f} {starting_params.Phi_f[0][0]:<15.4f} {optimized_params.Phi_f[0][0]:<15.4f}\")\n",
    "print(f\"Phi_h     {params.Phi_h[0][0]:<15.4f} {starting_params.Phi_h[0][0]:<15.4f} {optimized_params.Phi_h[0][0]:<15.4f}\")\n",
    "\n",
    "# mu value\n",
    "print(f\"mu        {params.mu[0]:<15.4f} {starting_params.mu[0]:<15.4f} {optimized_params.mu[0]:<15.4f}\")\n",
    "\n",
    "# sigma2 (first element)\n",
    "print(f\"sigma2[0] {params.sigma2[0,0]:<15.4f} {starting_params.sigma2[0,0]:<15.4f} {optimized_params.sigma2[0,0]:<15.4f}\")\n",
    "\n",
    "# Q_h value\n",
    "print(f\"Q_h       {params.Q_h[0,0]:<15.4f} {starting_params.Q_h[0,0]:<15.4f} {optimized_params.Q_h[0,0]:<15.4f}\")"
   ]
  },
  {
   "cell_type": "code",
   "execution_count": null,
   "id": "25f36e2e",
   "metadata": {},
   "outputs": [
    {
     "data": {
      "text/html": [
       "<pre style=\"white-space:pre;overflow-x:auto;line-height:normal;font-family:Menlo,'DejaVu Sans Mono',consolas,'Courier New',monospace\">Comparing filter output with original vs optimized parameters\n",
       "</pre>\n"
      ],
      "text/plain": [
       "Comparing filter output with original vs optimized parameters\n"
      ]
     },
     "metadata": {},
     "output_type": "display_data"
    },
    {
     "data": {
      "text/html": [
       "<pre style=\"white-space:pre;overflow-x:auto;line-height:normal;font-family:Menlo,'DejaVu Sans Mono',consolas,'Courier New',monospace\"><span style=\"color: #800080; text-decoration-color: #800080; font-weight: bold\">DFSVParamsDataclass</span><span style=\"font-weight: bold\">(</span>\n",
       "    <span style=\"color: #808000; text-decoration-color: #808000\">N</span>=<span style=\"color: #008080; text-decoration-color: #008080; font-weight: bold\">3</span>,\n",
       "    <span style=\"color: #808000; text-decoration-color: #808000\">K</span>=<span style=\"color: #008080; text-decoration-color: #008080; font-weight: bold\">1</span>,\n",
       "    <span style=\"color: #808000; text-decoration-color: #808000\">lambda_r</span>=<span style=\"color: #800080; text-decoration-color: #800080; font-weight: bold\">Array</span><span style=\"font-weight: bold\">([[</span>nan<span style=\"font-weight: bold\">]</span>,\n",
       "       <span style=\"font-weight: bold\">[</span>nan<span style=\"font-weight: bold\">]</span>,\n",
       "       <span style=\"font-weight: bold\">[</span>nan<span style=\"font-weight: bold\">]]</span>, <span style=\"color: #808000; text-decoration-color: #808000\">dtype</span>=<span style=\"color: #800080; text-decoration-color: #800080\">float64</span><span style=\"font-weight: bold\">)</span>,\n",
       "    <span style=\"color: #808000; text-decoration-color: #808000\">Phi_f</span>=<span style=\"color: #800080; text-decoration-color: #800080; font-weight: bold\">Array</span><span style=\"font-weight: bold\">([[</span>nan<span style=\"font-weight: bold\">]]</span>, <span style=\"color: #808000; text-decoration-color: #808000\">dtype</span>=<span style=\"color: #800080; text-decoration-color: #800080\">float64</span><span style=\"font-weight: bold\">)</span>,\n",
       "    <span style=\"color: #808000; text-decoration-color: #808000\">Phi_h</span>=<span style=\"color: #800080; text-decoration-color: #800080; font-weight: bold\">Array</span><span style=\"font-weight: bold\">([[</span>nan<span style=\"font-weight: bold\">]]</span>, <span style=\"color: #808000; text-decoration-color: #808000\">dtype</span>=<span style=\"color: #800080; text-decoration-color: #800080\">float64</span><span style=\"font-weight: bold\">)</span>,\n",
       "    <span style=\"color: #808000; text-decoration-color: #808000\">mu</span>=<span style=\"color: #800080; text-decoration-color: #800080; font-weight: bold\">Array</span><span style=\"font-weight: bold\">([</span>nan<span style=\"font-weight: bold\">]</span>, <span style=\"color: #808000; text-decoration-color: #808000\">dtype</span>=<span style=\"color: #800080; text-decoration-color: #800080\">float64</span><span style=\"font-weight: bold\">)</span>,\n",
       "    <span style=\"color: #808000; text-decoration-color: #808000\">sigma2</span>=<span style=\"color: #800080; text-decoration-color: #800080; font-weight: bold\">Array</span><span style=\"font-weight: bold\">([[</span>nan,  <span style=\"color: #008080; text-decoration-color: #008080; font-weight: bold\">1</span>.,  <span style=\"color: #008080; text-decoration-color: #008080; font-weight: bold\">1</span>.<span style=\"font-weight: bold\">]</span>,\n",
       "       <span style=\"font-weight: bold\">[</span> <span style=\"color: #008080; text-decoration-color: #008080; font-weight: bold\">1</span>., nan,  <span style=\"color: #008080; text-decoration-color: #008080; font-weight: bold\">1</span>.<span style=\"font-weight: bold\">]</span>,\n",
       "       <span style=\"font-weight: bold\">[</span> <span style=\"color: #008080; text-decoration-color: #008080; font-weight: bold\">1</span>.,  <span style=\"color: #008080; text-decoration-color: #008080; font-weight: bold\">1</span>., nan<span style=\"font-weight: bold\">]]</span>, <span style=\"color: #808000; text-decoration-color: #808000\">dtype</span>=<span style=\"color: #800080; text-decoration-color: #800080\">float64</span><span style=\"font-weight: bold\">)</span>,\n",
       "    <span style=\"color: #808000; text-decoration-color: #808000\">Q_h</span>=<span style=\"color: #800080; text-decoration-color: #800080; font-weight: bold\">Array</span><span style=\"font-weight: bold\">([[</span>nan<span style=\"font-weight: bold\">]]</span>, <span style=\"color: #808000; text-decoration-color: #808000\">dtype</span>=<span style=\"color: #800080; text-decoration-color: #800080\">float64</span><span style=\"font-weight: bold\">)</span>\n",
       "<span style=\"font-weight: bold\">)</span>\n",
       "</pre>\n"
      ],
      "text/plain": [
       "\u001b[1;35mDFSVParamsDataclass\u001b[0m\u001b[1m(\u001b[0m\n",
       "    \u001b[33mN\u001b[0m=\u001b[1;36m3\u001b[0m,\n",
       "    \u001b[33mK\u001b[0m=\u001b[1;36m1\u001b[0m,\n",
       "    \u001b[33mlambda_r\u001b[0m=\u001b[1;35mArray\u001b[0m\u001b[1m(\u001b[0m\u001b[1m[\u001b[0m\u001b[1m[\u001b[0mnan\u001b[1m]\u001b[0m,\n",
       "       \u001b[1m[\u001b[0mnan\u001b[1m]\u001b[0m,\n",
       "       \u001b[1m[\u001b[0mnan\u001b[1m]\u001b[0m\u001b[1m]\u001b[0m, \u001b[33mdtype\u001b[0m=\u001b[35mfloat64\u001b[0m\u001b[1m)\u001b[0m,\n",
       "    \u001b[33mPhi_f\u001b[0m=\u001b[1;35mArray\u001b[0m\u001b[1m(\u001b[0m\u001b[1m[\u001b[0m\u001b[1m[\u001b[0mnan\u001b[1m]\u001b[0m\u001b[1m]\u001b[0m, \u001b[33mdtype\u001b[0m=\u001b[35mfloat64\u001b[0m\u001b[1m)\u001b[0m,\n",
       "    \u001b[33mPhi_h\u001b[0m=\u001b[1;35mArray\u001b[0m\u001b[1m(\u001b[0m\u001b[1m[\u001b[0m\u001b[1m[\u001b[0mnan\u001b[1m]\u001b[0m\u001b[1m]\u001b[0m, \u001b[33mdtype\u001b[0m=\u001b[35mfloat64\u001b[0m\u001b[1m)\u001b[0m,\n",
       "    \u001b[33mmu\u001b[0m=\u001b[1;35mArray\u001b[0m\u001b[1m(\u001b[0m\u001b[1m[\u001b[0mnan\u001b[1m]\u001b[0m, \u001b[33mdtype\u001b[0m=\u001b[35mfloat64\u001b[0m\u001b[1m)\u001b[0m,\n",
       "    \u001b[33msigma2\u001b[0m=\u001b[1;35mArray\u001b[0m\u001b[1m(\u001b[0m\u001b[1m[\u001b[0m\u001b[1m[\u001b[0mnan,  \u001b[1;36m1\u001b[0m.,  \u001b[1;36m1\u001b[0m.\u001b[1m]\u001b[0m,\n",
       "       \u001b[1m[\u001b[0m \u001b[1;36m1\u001b[0m., nan,  \u001b[1;36m1\u001b[0m.\u001b[1m]\u001b[0m,\n",
       "       \u001b[1m[\u001b[0m \u001b[1;36m1\u001b[0m.,  \u001b[1;36m1\u001b[0m., nan\u001b[1m]\u001b[0m\u001b[1m]\u001b[0m, \u001b[33mdtype\u001b[0m=\u001b[35mfloat64\u001b[0m\u001b[1m)\u001b[0m,\n",
       "    \u001b[33mQ_h\u001b[0m=\u001b[1;35mArray\u001b[0m\u001b[1m(\u001b[0m\u001b[1m[\u001b[0m\u001b[1m[\u001b[0mnan\u001b[1m]\u001b[0m\u001b[1m]\u001b[0m, \u001b[33mdtype\u001b[0m=\u001b[35mfloat64\u001b[0m\u001b[1m)\u001b[0m\n",
       "\u001b[1m)\u001b[0m\n"
      ]
     },
     "metadata": {},
     "output_type": "display_data"
    }
   ],
   "source": [
    "# Compare original vs optimized parameters\n",
    "print(\"Comparing filter output with original vs optimized parameters\")\n",
    "def stablize_matrix(matrix):\n",
    "    norm = jnp.linalg.norm(matrix, ord=2)\n",
    "    return matrix / (1.0 + norm)\n",
    "final_dict= result.params\n",
    "# Convert optimized parameters back to standard format if needed\n",
    "optimized_params = DFSVParamsDataclass.from_dict(final_dict,N,K)\n",
    "optimized_params = optimized_params.replace(sigma2=jnp.exp(optimized_params.sigma2),\n",
    "                                            Phi_f=jnp.tanh(optimized_params.Phi_f),\n",
    "                                            Phi_h=jnp.tanh(optimized_params.Phi_h),\n",
    "                                            Q_h=jnp.exp(optimized_params.Q_h))\n",
    "# optimized_params = DFSVParamsDataclass(\n",
    "#     N=3,\n",
    "#     K=1,\n",
    "#     lambda_r=jnp.array([[1.8], [1.2], [0.58]]),\n",
    "#     Phi_f=jnp.array([[0.934]]),\n",
    "#     Phi_h=jnp.array([[0.967]]),\n",
    "#     mu=jnp.array([0.15]),\n",
    "#     sigma2=jnp.array([0.114, 0.09, 0.097]),\n",
    "#     Q_h=jnp.array([[0.023]]),\n",
    "# )\n",
    "print(optimized_params)"
   ]
  }
 ],
 "metadata": {
  "kernelspec": {
   "display_name": "Main_thesis",
   "language": "python",
   "name": "python3"
  },
  "language_info": {
   "codemirror_mode": {
    "name": "ipython",
    "version": 3
   },
   "file_extension": ".py",
   "mimetype": "text/x-python",
   "name": "python",
   "nbconvert_exporter": "python",
   "pygments_lexer": "ipython3",
   "version": "3.13.1"
  }
 },
 "nbformat": 4,
 "nbformat_minor": 5
}
