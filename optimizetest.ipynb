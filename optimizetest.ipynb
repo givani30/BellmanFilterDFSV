{
 "cells": [
  {
   "cell_type": "code",
   "execution_count": 30,
   "id": "bf35928a",
   "metadata": {},
   "outputs": [],
   "source": [
    "import sys\n",
    "import os\n",
    "import time\n",
    "import jaxopt\n",
    "import numpy as np\n",
    "import jax\n",
    "import jax.numpy as jnp\n",
    "from rich import print\n",
    "from functools import partial\n",
    "from jax import jit\n",
    "from sympy import true\n",
    "# Plot comparison\n",
    "import matplotlib.pyplot as plt\n",
    "# Add parent directory to path to import our modules\n",
    "# Import parameter classes\n",
    "import marimo as mo\n",
    "from functions.simulation import DFSV_params, simulate_DFSV\n",
    "from functions.jax_params import DFSVParamsDataclass, dfsv_params_to_dict\n",
    "from functions.bellman_filter import DFSVBellmanFilter\n",
    "from jaxopt import OptaxSolver\n",
    "import optax\n",
    "\n",
    "# Enable 64-bit precision for better numerical stability\n",
    "jax.config.update(\"jax_enable_x64\", True)"
   ]
  },
  {
   "cell_type": "code",
   "execution_count": 31,
   "id": "973937ec",
   "metadata": {},
   "outputs": [],
   "source": [
    "def create_simple_model():\n",
    "    \"\"\"Create a simple DFSV model with one factor.\"\"\"\n",
    "    # Define model dimensions\n",
    "    N = 3  # Number of observed series\n",
    "    K = 1  # Number of factors\n",
    "\n",
    "    # Factor loadings\n",
    "    lambda_r = np.array([[0.9], [0.6], [0.3]])\n",
    "\n",
    "    # Factor persistence\n",
    "    Phi_f = np.array([[0.95]])\n",
    "\n",
    "    # Log-volatility persistence\n",
    "    Phi_h = np.array([[0.98]])\n",
    "\n",
    "    # Long-run mean for log-volatilities\n",
    "    mu = np.array([-1.0])\n",
    "    # Idiosyncratic variance (diagonal)\n",
    "    sigma2 = np.array([0.1, 0.1, 0.1])\n",
    "\n",
    "    # Log-volatility noise covariance\n",
    "    Q_h = np.array([[0.05]])\n",
    "\n",
    "    # Create parameter object\n",
    "    params = DFSV_params(\n",
    "        N=N,\n",
    "        K=K,\n",
    "        lambda_r=lambda_r,\n",
    "        Phi_f=Phi_f,\n",
    "        Phi_h=Phi_h,\n",
    "        mu=mu,\n",
    "        sigma2=sigma2,\n",
    "        Q_h=Q_h,\n",
    "    )\n",
    "\n",
    "    return params\n",
    "\n",
    "\n",
    "def create_training_data(params, T=100, seed=42):\n",
    "    \"\"\"Generate simulated data for training.\"\"\"\n",
    "    returns, factors, log_vols = simulate_DFSV(params, T=T, seed=seed)\n",
    "    return returns, factors, log_vols\n",
    "\n",
    "\n",
    "@partial(jit, static_argnames=[\"filter\"])\n",
    "def bellman_objective(params_unconstrained, y, filter, N, K):\n",
    "    \"\"\"\n",
    "    Compute the Bellman objective function for the DFSV model with numerical safeguards.\n",
    "\n",
    "    Parameters\n",
    "    ----------\n",
    "    params : DFSV_params\n",
    "        Unconstrained Model parameters.\n",
    "    y : np.ndarray\n",
    "        Observed data.\n",
    "    filter : DFSVBellmanFilter\n",
    "        Bellman filter object.\n",
    "    N : int\n",
    "        Number of observed series.\n",
    "    K : int\n",
    "        Number of factors.\n",
    "\n",
    "    Returns\n",
    "    -------\n",
    "    float\n",
    "        The Bellman objective value.\n",
    "    \"\"\"\n",
    "    # Create correct dataclass\n",
    "    params_unconstrained = DFSVParamsDataclass.from_dict(params_unconstrained, N, K)\n",
    "    \n",
    "    # Apply proper constraints to parameters to ensure stability\n",
    "    # 1. Use tanh to constrain persistence parameters between -1 and 1 for stability\n",
    "    Phi_f_stable = jnp.tanh(params_unconstrained.Phi_f)\n",
    "    Phi_h_stable = jnp.tanh(params_unconstrained.Phi_h)\n",
    "    \n",
    "    # 2. Use softplus for sigma^2 and Q_h to ensure positivity\n",
    "    # softplus(x) = log(1 + exp(x)) is a smooth positive function\n",
    "    sigma2_pos = jax.nn.softplus(params_unconstrained.sigma2)\n",
    "    Q_h_pos = jax.nn.softplus(params_unconstrained.Q_h)\n",
    "    \n",
    "    # 3. Create the new param object with constrained parameters\n",
    "    constrained_params = params_unconstrained.replace(\n",
    "        Phi_f=Phi_f_stable,\n",
    "        Phi_h=Phi_h_stable,\n",
    "        sigma2=sigma2_pos,\n",
    "        Q_h=Q_h_pos,\n",
    "    )\n",
    "    \n",
    "    # 4. Run the bellman filter with exception handling\n",
    "    try:\n",
    "        ll = DFSVBellmanFilter.jit_log_likelihood_of_params(filter, constrained_params, y)\n",
    "        # Add a safeguard against extreme values\n",
    "        ll = jnp.clip(ll, -1e10, 1e10)\n",
    "        return -ll\n",
    "    except Exception as e:\n",
    "        # Return a very high value if there's an exception\n",
    "        return 1e10"
   ]
  },
  {
   "cell_type": "code",
   "execution_count": 32,
   "id": "f5edf596",
   "metadata": {},
   "outputs": [
    {
     "name": "stdout",
     "output_type": "stream",
     "text": [
      "JAX functions successfully precompiled\n"
     ]
    }
   ],
   "source": [
    "# Create a simple model\n",
    "params = create_simple_model()\n",
    "# Generate training data\n",
    "returns, factors, log_vols = create_training_data(params, T=200)\n",
    "# Create a Bellman filter object\n",
    "filter = DFSVBellmanFilter(params.N, params.K)\n",
    "# Create a JAX-compatible parameter object\n",
    "jax_params = DFSVParamsDataclass.from_dfsv_params(params)\n",
    "# Perturb the parameters\n",
    "jax_params = jax_params.replace(\n",
    "    lambda_r=jax_params.lambda_r\n",
    "    + 0.1 * jax.random.normal(jax.random.PRNGKey(0), jax_params.lambda_r.shape),\n",
    "    Phi_f=jax_params.Phi_f\n",
    "    + 0.1 * jax.random.normal(jax.random.PRNGKey(1), jax_params.Phi_f.shape),\n",
    "    Phi_h=jax_params.Phi_h\n",
    "    + 0.1 * jax.random.normal(jax.random.PRNGKey(2), jax_params.Phi_h.shape),\n",
    "    mu=jax_params.mu\n",
    "    + 0.1 * jax.random.normal(jax.random.PRNGKey(3), jax_params.mu.shape),\n",
    "    # sigma2=jax_params.sigma2\n",
    "    # + 0.1 * jax.random.normal(jax.random.PRNGKey(4), jax_params.sigma2.shape),\n",
    "    # Q_h=jax_params.Q_h\n",
    "    # + 0.1 * jax.random.normal(jax.random.PRNGKey(5), jax_params.Q_h.shape),\n",
    ")"
   ]
  },
  {
   "cell_type": "markdown",
   "id": "3a034896",
   "metadata": {},
   "source": [
    "# Creating Realistic Starting Parameters\n",
    "\n",
    "Instead of perturbing the original parameters, we'll create a set of realistic starting parameters that are different from the true parameters but still reasonable for the DFSV model."
   ]
  },
  {
   "cell_type": "code",
   "execution_count": 33,
   "id": "5abff002",
   "metadata": {},
   "outputs": [
    {
     "data": {
      "text/html": [
       "<pre style=\"white-space:pre;overflow-x:auto;line-height:normal;font-family:Menlo,'DejaVu Sans Mono',consolas,'Courier New',monospace\"><span style=\"color: #00ff00; text-decoration-color: #00ff00; font-style: italic\">True</span> parameters:\n",
       "</pre>\n"
      ],
      "text/plain": [
       "\u001b[3;92mTrue\u001b[0m parameters:\n"
      ]
     },
     "metadata": {},
     "output_type": "display_data"
    },
    {
     "data": {
      "text/html": [
       "<pre style=\"white-space:pre;overflow-x:auto;line-height:normal;font-family:Menlo,'DejaVu Sans Mono',consolas,'Courier New',monospace\">lambda_r:\n",
       "<span style=\"font-weight: bold\">[[</span><span style=\"color: #008080; text-decoration-color: #008080; font-weight: bold\">0.9</span><span style=\"font-weight: bold\">]</span>\n",
       " <span style=\"font-weight: bold\">[</span><span style=\"color: #008080; text-decoration-color: #008080; font-weight: bold\">0.6</span><span style=\"font-weight: bold\">]</span>\n",
       " <span style=\"font-weight: bold\">[</span><span style=\"color: #008080; text-decoration-color: #008080; font-weight: bold\">0.3</span><span style=\"font-weight: bold\">]]</span>\n",
       "</pre>\n"
      ],
      "text/plain": [
       "lambda_r:\n",
       "\u001b[1m[\u001b[0m\u001b[1m[\u001b[0m\u001b[1;36m0.9\u001b[0m\u001b[1m]\u001b[0m\n",
       " \u001b[1m[\u001b[0m\u001b[1;36m0.6\u001b[0m\u001b[1m]\u001b[0m\n",
       " \u001b[1m[\u001b[0m\u001b[1;36m0.3\u001b[0m\u001b[1m]\u001b[0m\u001b[1m]\u001b[0m\n"
      ]
     },
     "metadata": {},
     "output_type": "display_data"
    },
    {
     "data": {
      "text/html": [
       "<pre style=\"white-space:pre;overflow-x:auto;line-height:normal;font-family:Menlo,'DejaVu Sans Mono',consolas,'Courier New',monospace\">Phi_f:\n",
       "<span style=\"font-weight: bold\">[[</span><span style=\"color: #008080; text-decoration-color: #008080; font-weight: bold\">0.95</span><span style=\"font-weight: bold\">]]</span>\n",
       "</pre>\n"
      ],
      "text/plain": [
       "Phi_f:\n",
       "\u001b[1m[\u001b[0m\u001b[1m[\u001b[0m\u001b[1;36m0.95\u001b[0m\u001b[1m]\u001b[0m\u001b[1m]\u001b[0m\n"
      ]
     },
     "metadata": {},
     "output_type": "display_data"
    },
    {
     "data": {
      "text/html": [
       "<pre style=\"white-space:pre;overflow-x:auto;line-height:normal;font-family:Menlo,'DejaVu Sans Mono',consolas,'Courier New',monospace\">Phi_h:\n",
       "<span style=\"font-weight: bold\">[[</span><span style=\"color: #008080; text-decoration-color: #008080; font-weight: bold\">0.98</span><span style=\"font-weight: bold\">]]</span>\n",
       "</pre>\n"
      ],
      "text/plain": [
       "Phi_h:\n",
       "\u001b[1m[\u001b[0m\u001b[1m[\u001b[0m\u001b[1;36m0.98\u001b[0m\u001b[1m]\u001b[0m\u001b[1m]\u001b[0m\n"
      ]
     },
     "metadata": {},
     "output_type": "display_data"
    },
    {
     "data": {
      "text/html": [
       "<pre style=\"white-space:pre;overflow-x:auto;line-height:normal;font-family:Menlo,'DejaVu Sans Mono',consolas,'Courier New',monospace\">mu:\n",
       "<span style=\"font-weight: bold\">[</span><span style=\"color: #008080; text-decoration-color: #008080; font-weight: bold\">-1</span>.<span style=\"font-weight: bold\">]</span>\n",
       "</pre>\n"
      ],
      "text/plain": [
       "mu:\n",
       "\u001b[1m[\u001b[0m\u001b[1;36m-1\u001b[0m.\u001b[1m]\u001b[0m\n"
      ]
     },
     "metadata": {},
     "output_type": "display_data"
    },
    {
     "data": {
      "text/html": [
       "<pre style=\"white-space:pre;overflow-x:auto;line-height:normal;font-family:Menlo,'DejaVu Sans Mono',consolas,'Courier New',monospace\">sigma2:\n",
       "<span style=\"font-weight: bold\">[</span><span style=\"color: #008080; text-decoration-color: #008080; font-weight: bold\">0.1</span> <span style=\"color: #008080; text-decoration-color: #008080; font-weight: bold\">0.1</span> <span style=\"color: #008080; text-decoration-color: #008080; font-weight: bold\">0.1</span><span style=\"font-weight: bold\">]</span>\n",
       "</pre>\n"
      ],
      "text/plain": [
       "sigma2:\n",
       "\u001b[1m[\u001b[0m\u001b[1;36m0.1\u001b[0m \u001b[1;36m0.1\u001b[0m \u001b[1;36m0.1\u001b[0m\u001b[1m]\u001b[0m\n"
      ]
     },
     "metadata": {},
     "output_type": "display_data"
    },
    {
     "data": {
      "text/html": [
       "<pre style=\"white-space:pre;overflow-x:auto;line-height:normal;font-family:Menlo,'DejaVu Sans Mono',consolas,'Courier New',monospace\">Q_h:\n",
       "<span style=\"font-weight: bold\">[[</span><span style=\"color: #008080; text-decoration-color: #008080; font-weight: bold\">0.05</span><span style=\"font-weight: bold\">]]</span>\n",
       "</pre>\n"
      ],
      "text/plain": [
       "Q_h:\n",
       "\u001b[1m[\u001b[0m\u001b[1m[\u001b[0m\u001b[1;36m0.05\u001b[0m\u001b[1m]\u001b[0m\u001b[1m]\u001b[0m\n"
      ]
     },
     "metadata": {},
     "output_type": "display_data"
    },
    {
     "data": {
      "text/html": [
       "<pre style=\"white-space:pre;overflow-x:auto;line-height:normal;font-family:Menlo,'DejaVu Sans Mono',consolas,'Courier New',monospace\">\n",
       "Starting parameters:\n",
       "</pre>\n"
      ],
      "text/plain": [
       "\n",
       "Starting parameters:\n"
      ]
     },
     "metadata": {},
     "output_type": "display_data"
    },
    {
     "data": {
      "text/html": [
       "<pre style=\"white-space:pre;overflow-x:auto;line-height:normal;font-family:Menlo,'DejaVu Sans Mono',consolas,'Courier New',monospace\">lambda_r:\n",
       "<span style=\"font-weight: bold\">[[</span><span style=\"color: #008080; text-decoration-color: #008080; font-weight: bold\">0.83</span><span style=\"font-weight: bold\">]</span>\n",
       " <span style=\"font-weight: bold\">[</span><span style=\"color: #008080; text-decoration-color: #008080; font-weight: bold\">0.62</span><span style=\"font-weight: bold\">]</span>\n",
       " <span style=\"font-weight: bold\">[</span><span style=\"color: #008080; text-decoration-color: #008080; font-weight: bold\">0.41</span><span style=\"font-weight: bold\">]]</span>\n",
       "</pre>\n"
      ],
      "text/plain": [
       "lambda_r:\n",
       "\u001b[1m[\u001b[0m\u001b[1m[\u001b[0m\u001b[1;36m0.83\u001b[0m\u001b[1m]\u001b[0m\n",
       " \u001b[1m[\u001b[0m\u001b[1;36m0.62\u001b[0m\u001b[1m]\u001b[0m\n",
       " \u001b[1m[\u001b[0m\u001b[1;36m0.41\u001b[0m\u001b[1m]\u001b[0m\u001b[1m]\u001b[0m\n"
      ]
     },
     "metadata": {},
     "output_type": "display_data"
    },
    {
     "data": {
      "text/html": [
       "<pre style=\"white-space:pre;overflow-x:auto;line-height:normal;font-family:Menlo,'DejaVu Sans Mono',consolas,'Courier New',monospace\">Phi_f:\n",
       "<span style=\"font-weight: bold\">[[</span><span style=\"color: #008080; text-decoration-color: #008080; font-weight: bold\">0.855</span><span style=\"font-weight: bold\">]]</span>\n",
       "</pre>\n"
      ],
      "text/plain": [
       "Phi_f:\n",
       "\u001b[1m[\u001b[0m\u001b[1m[\u001b[0m\u001b[1;36m0.855\u001b[0m\u001b[1m]\u001b[0m\u001b[1m]\u001b[0m\n"
      ]
     },
     "metadata": {},
     "output_type": "display_data"
    },
    {
     "data": {
      "text/html": [
       "<pre style=\"white-space:pre;overflow-x:auto;line-height:normal;font-family:Menlo,'DejaVu Sans Mono',consolas,'Courier New',monospace\">Phi_h:\n",
       "<span style=\"font-weight: bold\">[[</span><span style=\"color: #008080; text-decoration-color: #008080; font-weight: bold\">0.931</span><span style=\"font-weight: bold\">]]</span>\n",
       "</pre>\n"
      ],
      "text/plain": [
       "Phi_h:\n",
       "\u001b[1m[\u001b[0m\u001b[1m[\u001b[0m\u001b[1;36m0.931\u001b[0m\u001b[1m]\u001b[0m\u001b[1m]\u001b[0m\n"
      ]
     },
     "metadata": {},
     "output_type": "display_data"
    },
    {
     "data": {
      "text/html": [
       "<pre style=\"white-space:pre;overflow-x:auto;line-height:normal;font-family:Menlo,'DejaVu Sans Mono',consolas,'Courier New',monospace\">mu:\n",
       "<span style=\"font-weight: bold\">[</span><span style=\"color: #008080; text-decoration-color: #008080; font-weight: bold\">-0.7</span><span style=\"font-weight: bold\">]</span>\n",
       "</pre>\n"
      ],
      "text/plain": [
       "mu:\n",
       "\u001b[1m[\u001b[0m\u001b[1;36m-0.7\u001b[0m\u001b[1m]\u001b[0m\n"
      ]
     },
     "metadata": {},
     "output_type": "display_data"
    },
    {
     "data": {
      "text/html": [
       "<pre style=\"white-space:pre;overflow-x:auto;line-height:normal;font-family:Menlo,'DejaVu Sans Mono',consolas,'Courier New',monospace\">sigma2:\n",
       "<span style=\"font-weight: bold\">[</span><span style=\"color: #008080; text-decoration-color: #008080; font-weight: bold\">0.1</span> <span style=\"color: #008080; text-decoration-color: #008080; font-weight: bold\">0.1</span> <span style=\"color: #008080; text-decoration-color: #008080; font-weight: bold\">0.1</span><span style=\"font-weight: bold\">]</span>\n",
       "</pre>\n"
      ],
      "text/plain": [
       "sigma2:\n",
       "\u001b[1m[\u001b[0m\u001b[1;36m0.1\u001b[0m \u001b[1;36m0.1\u001b[0m \u001b[1;36m0.1\u001b[0m\u001b[1m]\u001b[0m\n"
      ]
     },
     "metadata": {},
     "output_type": "display_data"
    },
    {
     "data": {
      "text/html": [
       "<pre style=\"white-space:pre;overflow-x:auto;line-height:normal;font-family:Menlo,'DejaVu Sans Mono',consolas,'Courier New',monospace\">Q_h:\n",
       "<span style=\"font-weight: bold\">[[</span><span style=\"color: #008080; text-decoration-color: #008080; font-weight: bold\">0.05</span><span style=\"font-weight: bold\">]]</span>\n",
       "</pre>\n"
      ],
      "text/plain": [
       "Q_h:\n",
       "\u001b[1m[\u001b[0m\u001b[1m[\u001b[0m\u001b[1;36m0.05\u001b[0m\u001b[1m]\u001b[0m\u001b[1m]\u001b[0m\n"
      ]
     },
     "metadata": {},
     "output_type": "display_data"
    }
   ],
   "source": [
    "def create_realistic_starting_params(true_params):\n",
    "    \"\"\"\n",
    "    Create a set of realistic starting parameters for estimation.\n",
    "    \n",
    "    Parameters\n",
    "    ----------\n",
    "    true_params : DFSV_params\n",
    "        The true parameters used for simulation.\n",
    "        \n",
    "    Returns\n",
    "    -------\n",
    "    DFSVParamsDataclass\n",
    "        A realistic set of starting parameters for optimization.\n",
    "    \"\"\"\n",
    "    # Extract dimensions\n",
    "    N = true_params.N\n",
    "    K = true_params.K\n",
    "    \n",
    "    # Create parameter estimates that are reasonably different from true values\n",
    "    # but still in a plausible range\n",
    "    \n",
    "    # Factor loadings - increase magnitude but keep sign pattern\n",
    "    lambda_r = jnp.array(true_params.lambda_r) * 0.7 + 0.2\n",
    "    \n",
    "    # Factor persistence - typically high but less than true\n",
    "    Phi_f = jnp.array(true_params.Phi_f) * 0.9\n",
    "    \n",
    "    # Log-volatility persistence - typically high but less than true\n",
    "    Phi_h = jnp.array(true_params.Phi_h) * 0.95\n",
    "    \n",
    "    # Long-run mean for log-volatilities - slightly higher than true\n",
    "    mu = jnp.array(true_params.mu) + 0.3\n",
    "    \n",
    "    # Idiosyncratic variance - higher than true value\n",
    "    sigma2 = jnp.array(true_params.sigma2)\n",
    "    \n",
    "    # Log-volatility noise covariance - higher than true\n",
    "    Q_h = jnp.array(true_params.Q_h)\n",
    "    \n",
    "    # Create JAX parameter object\n",
    "    start_params = DFSVParamsDataclass(\n",
    "        N=N,\n",
    "        K=K,\n",
    "        lambda_r=lambda_r,\n",
    "        Phi_f=Phi_f,\n",
    "        Phi_h=Phi_h,\n",
    "        mu=mu,\n",
    "        sigma2=sigma2,\n",
    "        Q_h=Q_h\n",
    "    )\n",
    "    \n",
    "    return start_params\n",
    "\n",
    "# Create realistic starting parameters\n",
    "starting_params = create_realistic_starting_params(params)\n",
    "\n",
    "# Print comparison of true vs. starting parameters\n",
    "print(\"True parameters:\")\n",
    "print(f\"lambda_r:\\n{params.lambda_r}\")\n",
    "print(f\"Phi_f:\\n{params.Phi_f}\")\n",
    "print(f\"Phi_h:\\n{params.Phi_h}\")\n",
    "print(f\"mu:\\n{params.mu}\")\n",
    "print(f\"sigma2:\\n{np.diag(params.sigma2)}\")\n",
    "print(f\"Q_h:\\n{params.Q_h}\")\n",
    "print(\"\\nStarting parameters:\")\n",
    "print(f\"lambda_r:\\n{starting_params.lambda_r}\")\n",
    "print(f\"Phi_f:\\n{starting_params.Phi_f}\")\n",
    "print(f\"Phi_h:\\n{starting_params.Phi_h}\")\n",
    "print(f\"mu:\\n{starting_params.mu}\")\n",
    "print(f\"sigma2:\\n{jnp.diag(starting_params.sigma2)}\")\n",
    "print(f\"Q_h:\\n{starting_params.Q_h}\")"
   ]
  },
  {
   "cell_type": "code",
   "execution_count": 34,
   "id": "b21b075a",
   "metadata": {},
   "outputs": [],
   "source": [
    "# Use the starting parameters for optimization\n",
    "# Convert to dictionary for optimization\n",
    "param_dict, N, K = dfsv_params_to_dict(starting_params)\n",
    "\n",
    "# Ensure all parameter values are float64 for differentiation\n",
    "for key in param_dict:\n",
    "    if isinstance(param_dict[key], (int, np.integer)):\n",
    "        param_dict[key] = float(param_dict[key])\n",
    "    elif isinstance(param_dict[key], np.ndarray):\n",
    "        param_dict[key] = param_dict[key].astype(np.float64)\n",
    "    elif isinstance(param_dict[key], jnp.ndarray):\n",
    "        param_dict[key] = param_dict[key].astype(jnp.float64)\n",
    "\n",
    "# Define objective function for this specific problem\n",
    "def objective(params):\n",
    "    # Add gradient clipping for numerical stability\n",
    "    val = bellman_objective(params, returns, filter, N, K)\n",
    "    return jnp.nan_to_num(val, nan=1e10, posinf=1e10, neginf=-1e10)  # Replace NaN/inf with finite values\n",
    "\n",
    "def check_params(params):\n",
    "    \"\"\"Check if parameter values are valid and print diagnostics\"\"\"\n",
    "    param_obj = DFSVParamsDataclass.from_dict(params, N, K)\n",
    "    issues = []\n",
    "    \n",
    "    # Check for NaN or inf values\n",
    "    for name, value in [(\"lambda_r\", param_obj.lambda_r), \n",
    "                       (\"Phi_f\", param_obj.Phi_f),\n",
    "                       (\"Phi_h\", param_obj.Phi_h),\n",
    "                       (\"mu\", param_obj.mu),\n",
    "                       (\"sigma2\", param_obj.sigma2),\n",
    "                       (\"Q_h\", param_obj.Q_h)]:\n",
    "        if jnp.any(jnp.isnan(value)) or jnp.any(jnp.isinf(value)):\n",
    "            issues.append(f\"{name} contains NaN or Inf values\")\n",
    "        \n",
    "        # Also check for non-float types\n",
    "        if not jnp.issubdtype(value.dtype, jnp.floating):\n",
    "            issues.append(f\"{name} has non-floating type: {value.dtype}\")\n",
    "    \n",
    "    # Check for extreme values\n",
    "    if jnp.any(jnp.abs(param_obj.Phi_f) > 5):\n",
    "        issues.append(f\"Phi_f has extreme values: {param_obj.Phi_f}\")\n",
    "    if jnp.any(jnp.abs(param_obj.Phi_h) > 5):\n",
    "        issues.append(f\"Phi_h has extreme values: {param_obj.Phi_h}\")\n",
    "    \n",
    "    if issues:\n",
    "        print(\"Parameter issues found:\")\n",
    "        for issue in issues:\n",
    "            print(f\"- {issue}\")\n",
    "        return False\n",
    "    return True\n",
    "\n",
    "@jit\n",
    "def objective_with_logging(params):\n",
    "    val = objective(params)\n",
    "    grad = jax.grad(objective)(params)\n",
    "    # Flatten and compute norm\n",
    "    flat_grads, _ = jax.tree_flatten(grad)\n",
    "    grad_norm = jnp.sqrt(sum(jnp.sum(g**2) for g in flat_grads))\n",
    "    # Clip gradient norm if it's too large\n",
    "    grad_norm = jnp.minimum(grad_norm, 1e10)\n",
    "    return val, grad_norm\n",
    "\n",
    "# Define which parameters to optimize\n",
    "mask = {\n",
    "    \"lambda_r\": True,\n",
    "    \"Phi_f\": True,\n",
    "    \"Phi_h\": True,\n",
    "    \"mu\": True,\n",
    "    \"sigma2\": True,  # Keep optimizing sigma2\n",
    "    \"Q_h\": True,      # Keep optimizing Q_h\n",
    "}\n",
    "\n",
    "# Create optimizer with a lower learning rate for better stability\n",
    "opt = optax.adam(learning_rate=1e-3)\n",
    "# Add gradient clipping\n",
    "opt = optax.chain(optax.clip_by_global_norm(1.0), opt)\n",
    "masked_optimizer = optax.masked(opt, mask=mask)\n",
    "solver = OptaxSolver(opt=masked_optimizer, fun=objective, maxiter=100, tol=1e-6, verbose=True)"
   ]
  },
  {
   "cell_type": "code",
   "execution_count": 35,
   "id": "e1d916df",
   "metadata": {},
   "outputs": [
    {
     "data": {
      "text/html": [
       "<pre style=\"white-space:pre;overflow-x:auto;line-height:normal;font-family:Menlo,'DejaVu Sans Mono',consolas,'Courier New',monospace\">Starting optimization with realistic parameters<span style=\"color: #808000; text-decoration-color: #808000\">...</span>\n",
       "</pre>\n"
      ],
      "text/plain": [
       "Starting optimization with realistic parameters\u001b[33m...\u001b[0m\n"
      ]
     },
     "metadata": {},
     "output_type": "display_data"
    },
    {
     "data": {
      "text/html": [
       "<pre style=\"white-space:pre;overflow-x:auto;line-height:normal;font-family:Menlo,'DejaVu Sans Mono',consolas,'Courier New',monospace\">Converting N from <span style=\"font-weight: bold\">&lt;</span><span style=\"color: #ff00ff; text-decoration-color: #ff00ff; font-weight: bold\">class</span><span style=\"color: #000000; text-decoration-color: #000000\"> </span><span style=\"color: #008000; text-decoration-color: #008000\">'int'</span><span style=\"font-weight: bold\">&gt;</span> to float\n",
       "</pre>\n"
      ],
      "text/plain": [
       "Converting N from \u001b[1m<\u001b[0m\u001b[1;95mclass\u001b[0m\u001b[39m \u001b[0m\u001b[32m'int'\u001b[0m\u001b[1m>\u001b[0m to float\n"
      ]
     },
     "metadata": {},
     "output_type": "display_data"
    },
    {
     "data": {
      "text/html": [
       "<pre style=\"white-space:pre;overflow-x:auto;line-height:normal;font-family:Menlo,'DejaVu Sans Mono',consolas,'Courier New',monospace\">Converting K from <span style=\"font-weight: bold\">&lt;</span><span style=\"color: #ff00ff; text-decoration-color: #ff00ff; font-weight: bold\">class</span><span style=\"color: #000000; text-decoration-color: #000000\"> </span><span style=\"color: #008000; text-decoration-color: #008000\">'int'</span><span style=\"font-weight: bold\">&gt;</span> to float\n",
       "</pre>\n"
      ],
      "text/plain": [
       "Converting K from \u001b[1m<\u001b[0m\u001b[1;95mclass\u001b[0m\u001b[39m \u001b[0m\u001b[32m'int'\u001b[0m\u001b[1m>\u001b[0m to float\n"
      ]
     },
     "metadata": {},
     "output_type": "display_data"
    },
    {
     "data": {
      "text/html": [
       "<pre style=\"white-space:pre;overflow-x:auto;line-height:normal;font-family:Menlo,'DejaVu Sans Mono',consolas,'Courier New',monospace\">Error computing initial objective: Encountered an unexpected tracer. A function transformed by JAX had a side \n",
       "effect, allowing for a reference to an intermediate value with type int64<span style=\"font-weight: bold\">[]</span> wrapped in a DynamicJaxprTracer to \n",
       "escape the scope of the transformation.\n",
       "JAX transformations require that functions explicitly return their outputs, and disallow saving intermediate values\n",
       "to global state.\n",
       "The function being traced when the value leaked was bellman_objective at <span style=\"color: #800080; text-decoration-color: #800080\">/tmp/ipykernel_181658/</span><span style=\"color: #ff00ff; text-decoration-color: #ff00ff\">152795394.py</span>:<span style=\"color: #008080; text-decoration-color: #008080; font-weight: bold\">45</span> \n",
       "traced for jit.\n",
       "------------------------------\n",
       "The leaked intermediate value was created on line <span style=\"color: #800080; text-decoration-color: #800080\">/tmp/ipykernel_181658/</span><span style=\"color: #ff00ff; text-decoration-color: #ff00ff\">3994443081.py</span>:<span style=\"color: #00ff00; text-decoration-color: #00ff00; font-weight: bold\">7:11</span> <span style=\"font-weight: bold\">(</span>objective<span style=\"font-weight: bold\">)</span>. \n",
       "------------------------------\n",
       "When the value was created, the final <span style=\"color: #008080; text-decoration-color: #008080; font-weight: bold\">5</span> stack frames <span style=\"font-weight: bold\">(</span>most recent last<span style=\"font-weight: bold\">)</span> excluding JAX-internal frames were:\n",
       "------------------------------\n",
       "<span style=\"font-weight: bold\">&lt;</span><span style=\"color: #ff00ff; text-decoration-color: #ff00ff; font-weight: bold\">frozen</span><span style=\"color: #000000; text-decoration-color: #000000\"> runpy&gt;:</span><span style=\"color: #00ff00; text-decoration-color: #00ff00; font-weight: bold\">198:11</span><span style=\"color: #000000; text-decoration-color: #000000\"> </span><span style=\"color: #000000; text-decoration-color: #000000; font-weight: bold\">(</span><span style=\"color: #000000; text-decoration-color: #000000\">_run_module_as_main</span><span style=\"color: #000000; text-decoration-color: #000000; font-weight: bold\">)</span>\n",
       "<span style=\"color: #000000; text-decoration-color: #000000\">&lt;frozen runpy&gt;:</span><span style=\"color: #00ff00; text-decoration-color: #00ff00; font-weight: bold\">88:4</span><span style=\"color: #000000; text-decoration-color: #000000\"> </span><span style=\"color: #000000; text-decoration-color: #000000; font-weight: bold\">(</span><span style=\"color: #000000; text-decoration-color: #000000\">_run_code</span><span style=\"color: #000000; text-decoration-color: #000000; font-weight: bold\">)</span>\n",
       "<span style=\"color: #800080; text-decoration-color: #800080\">/tmp/ipykernel_181658/</span><span style=\"color: #ff00ff; text-decoration-color: #ff00ff\">3198501934.py</span><span style=\"color: #000000; text-decoration-color: #000000\">:</span><span style=\"color: #00ff00; text-decoration-color: #00ff00; font-weight: bold\">4:9</span><span style=\"color: #000000; text-decoration-color: #000000\"> </span><span style=\"color: #000000; text-decoration-color: #000000; font-weight: bold\">(</span><span style=\"color: #000000; text-decoration-color: #000000\">&lt;module</span><span style=\"font-weight: bold\">&gt;)</span>\n",
       "<span style=\"color: #800080; text-decoration-color: #800080\">/tmp/ipykernel_181658/</span><span style=\"color: #ff00ff; text-decoration-color: #ff00ff\">3994443081.py</span>:<span style=\"color: #00ff00; text-decoration-color: #00ff00; font-weight: bold\">7:11</span> <span style=\"font-weight: bold\">(</span>objective<span style=\"font-weight: bold\">)</span>\n",
       "------------------------------\n",
       "\n",
       "To catch the leak earlier, try setting the environment variable JAX_CHECK_TRACER_LEAKS or using the \n",
       "`jax.checking_leaks` context manager.\n",
       "See <span style=\"color: #0000ff; text-decoration-color: #0000ff; text-decoration: underline\">https://jax.readthedocs.io/en/latest/errors.html#jax.errors.UnexpectedTracerError</span>\n",
       "</pre>\n"
      ],
      "text/plain": [
       "Error computing initial objective: Encountered an unexpected tracer. A function transformed by JAX had a side \n",
       "effect, allowing for a reference to an intermediate value with type int64\u001b[1m[\u001b[0m\u001b[1m]\u001b[0m wrapped in a DynamicJaxprTracer to \n",
       "escape the scope of the transformation.\n",
       "JAX transformations require that functions explicitly return their outputs, and disallow saving intermediate values\n",
       "to global state.\n",
       "The function being traced when the value leaked was bellman_objective at \u001b[35m/tmp/ipykernel_181658/\u001b[0m\u001b[95m152795394.py\u001b[0m:\u001b[1;36m45\u001b[0m \n",
       "traced for jit.\n",
       "------------------------------\n",
       "The leaked intermediate value was created on line \u001b[35m/tmp/ipykernel_181658/\u001b[0m\u001b[95m3994443081.py\u001b[0m:\u001b[1;92m7:11\u001b[0m \u001b[1m(\u001b[0mobjective\u001b[1m)\u001b[0m. \n",
       "------------------------------\n",
       "When the value was created, the final \u001b[1;36m5\u001b[0m stack frames \u001b[1m(\u001b[0mmost recent last\u001b[1m)\u001b[0m excluding JAX-internal frames were:\n",
       "------------------------------\n",
       "\u001b[1m<\u001b[0m\u001b[1;95mfrozen\u001b[0m\u001b[39m runpy>:\u001b[0m\u001b[1;92m198:11\u001b[0m\u001b[39m \u001b[0m\u001b[1;39m(\u001b[0m\u001b[39m_run_module_as_main\u001b[0m\u001b[1;39m)\u001b[0m\n",
       "\u001b[39m<frozen runpy>:\u001b[0m\u001b[1;92m88:4\u001b[0m\u001b[39m \u001b[0m\u001b[1;39m(\u001b[0m\u001b[39m_run_code\u001b[0m\u001b[1;39m)\u001b[0m\n",
       "\u001b[35m/tmp/ipykernel_181658/\u001b[0m\u001b[95m3198501934.py\u001b[0m\u001b[39m:\u001b[0m\u001b[1;92m4:9\u001b[0m\u001b[39m \u001b[0m\u001b[1;39m(\u001b[0m\u001b[39m<module\u001b[0m\u001b[1m>\u001b[0m\u001b[1m)\u001b[0m\n",
       "\u001b[35m/tmp/ipykernel_181658/\u001b[0m\u001b[95m3994443081.py\u001b[0m:\u001b[1;92m7:11\u001b[0m \u001b[1m(\u001b[0mobjective\u001b[1m)\u001b[0m\n",
       "------------------------------\n",
       "\n",
       "To catch the leak earlier, try setting the environment variable JAX_CHECK_TRACER_LEAKS or using the \n",
       "`jax.checking_leaks` context manager.\n",
       "See \u001b[4;94mhttps://jax.readthedocs.io/en/latest/errors.html#jax.errors.UnexpectedTracerError\u001b[0m\n"
      ]
     },
     "metadata": {},
     "output_type": "display_data"
    },
    {
     "data": {
      "text/html": [
       "<pre style=\"white-space:pre;overflow-x:auto;line-height:normal;font-family:Menlo,'DejaVu Sans Mono',consolas,'Courier New',monospace\">Debugging parameter types:\n",
       "</pre>\n"
      ],
      "text/plain": [
       "Debugging parameter types:\n"
      ]
     },
     "metadata": {},
     "output_type": "display_data"
    },
    {
     "data": {
      "text/html": [
       "<pre style=\"white-space:pre;overflow-x:auto;line-height:normal;font-family:Menlo,'DejaVu Sans Mono',consolas,'Courier New',monospace\">lambda_r: <span style=\"color: #808000; text-decoration-color: #808000\">type</span>=<span style=\"font-weight: bold\">&lt;</span><span style=\"color: #ff00ff; text-decoration-color: #ff00ff; font-weight: bold\">class</span><span style=\"color: #000000; text-decoration-color: #000000\"> </span><span style=\"color: #008000; text-decoration-color: #008000\">'jaxlib.xla_extension.ArrayImpl'</span><span style=\"font-weight: bold\">&gt;</span>, <span style=\"color: #808000; text-decoration-color: #808000\">dtype</span>=<span style=\"color: #800080; text-decoration-color: #800080\">float64</span>\n",
       "</pre>\n"
      ],
      "text/plain": [
       "lambda_r: \u001b[33mtype\u001b[0m=\u001b[1m<\u001b[0m\u001b[1;95mclass\u001b[0m\u001b[39m \u001b[0m\u001b[32m'jaxlib.xla_extension.ArrayImpl'\u001b[0m\u001b[1m>\u001b[0m, \u001b[33mdtype\u001b[0m=\u001b[35mfloat64\u001b[0m\n"
      ]
     },
     "metadata": {},
     "output_type": "display_data"
    },
    {
     "data": {
      "text/html": [
       "<pre style=\"white-space:pre;overflow-x:auto;line-height:normal;font-family:Menlo,'DejaVu Sans Mono',consolas,'Courier New',monospace\">Phi_f: <span style=\"color: #808000; text-decoration-color: #808000\">type</span>=<span style=\"font-weight: bold\">&lt;</span><span style=\"color: #ff00ff; text-decoration-color: #ff00ff; font-weight: bold\">class</span><span style=\"color: #000000; text-decoration-color: #000000\"> </span><span style=\"color: #008000; text-decoration-color: #008000\">'jaxlib.xla_extension.ArrayImpl'</span><span style=\"font-weight: bold\">&gt;</span>, <span style=\"color: #808000; text-decoration-color: #808000\">dtype</span>=<span style=\"color: #800080; text-decoration-color: #800080\">float64</span>\n",
       "</pre>\n"
      ],
      "text/plain": [
       "Phi_f: \u001b[33mtype\u001b[0m=\u001b[1m<\u001b[0m\u001b[1;95mclass\u001b[0m\u001b[39m \u001b[0m\u001b[32m'jaxlib.xla_extension.ArrayImpl'\u001b[0m\u001b[1m>\u001b[0m, \u001b[33mdtype\u001b[0m=\u001b[35mfloat64\u001b[0m\n"
      ]
     },
     "metadata": {},
     "output_type": "display_data"
    },
    {
     "data": {
      "text/html": [
       "<pre style=\"white-space:pre;overflow-x:auto;line-height:normal;font-family:Menlo,'DejaVu Sans Mono',consolas,'Courier New',monospace\">Phi_h: <span style=\"color: #808000; text-decoration-color: #808000\">type</span>=<span style=\"font-weight: bold\">&lt;</span><span style=\"color: #ff00ff; text-decoration-color: #ff00ff; font-weight: bold\">class</span><span style=\"color: #000000; text-decoration-color: #000000\"> </span><span style=\"color: #008000; text-decoration-color: #008000\">'jaxlib.xla_extension.ArrayImpl'</span><span style=\"font-weight: bold\">&gt;</span>, <span style=\"color: #808000; text-decoration-color: #808000\">dtype</span>=<span style=\"color: #800080; text-decoration-color: #800080\">float64</span>\n",
       "</pre>\n"
      ],
      "text/plain": [
       "Phi_h: \u001b[33mtype\u001b[0m=\u001b[1m<\u001b[0m\u001b[1;95mclass\u001b[0m\u001b[39m \u001b[0m\u001b[32m'jaxlib.xla_extension.ArrayImpl'\u001b[0m\u001b[1m>\u001b[0m, \u001b[33mdtype\u001b[0m=\u001b[35mfloat64\u001b[0m\n"
      ]
     },
     "metadata": {},
     "output_type": "display_data"
    },
    {
     "data": {
      "text/html": [
       "<pre style=\"white-space:pre;overflow-x:auto;line-height:normal;font-family:Menlo,'DejaVu Sans Mono',consolas,'Courier New',monospace\">mu: <span style=\"color: #808000; text-decoration-color: #808000\">type</span>=<span style=\"font-weight: bold\">&lt;</span><span style=\"color: #ff00ff; text-decoration-color: #ff00ff; font-weight: bold\">class</span><span style=\"color: #000000; text-decoration-color: #000000\"> </span><span style=\"color: #008000; text-decoration-color: #008000\">'jaxlib.xla_extension.ArrayImpl'</span><span style=\"font-weight: bold\">&gt;</span>, <span style=\"color: #808000; text-decoration-color: #808000\">dtype</span>=<span style=\"color: #800080; text-decoration-color: #800080\">float64</span>\n",
       "</pre>\n"
      ],
      "text/plain": [
       "mu: \u001b[33mtype\u001b[0m=\u001b[1m<\u001b[0m\u001b[1;95mclass\u001b[0m\u001b[39m \u001b[0m\u001b[32m'jaxlib.xla_extension.ArrayImpl'\u001b[0m\u001b[1m>\u001b[0m, \u001b[33mdtype\u001b[0m=\u001b[35mfloat64\u001b[0m\n"
      ]
     },
     "metadata": {},
     "output_type": "display_data"
    },
    {
     "data": {
      "text/html": [
       "<pre style=\"white-space:pre;overflow-x:auto;line-height:normal;font-family:Menlo,'DejaVu Sans Mono',consolas,'Courier New',monospace\">sigma2: <span style=\"color: #808000; text-decoration-color: #808000\">type</span>=<span style=\"font-weight: bold\">&lt;</span><span style=\"color: #ff00ff; text-decoration-color: #ff00ff; font-weight: bold\">class</span><span style=\"color: #000000; text-decoration-color: #000000\"> </span><span style=\"color: #008000; text-decoration-color: #008000\">'jaxlib.xla_extension.ArrayImpl'</span><span style=\"font-weight: bold\">&gt;</span>, <span style=\"color: #808000; text-decoration-color: #808000\">dtype</span>=<span style=\"color: #800080; text-decoration-color: #800080\">float64</span>\n",
       "</pre>\n"
      ],
      "text/plain": [
       "sigma2: \u001b[33mtype\u001b[0m=\u001b[1m<\u001b[0m\u001b[1;95mclass\u001b[0m\u001b[39m \u001b[0m\u001b[32m'jaxlib.xla_extension.ArrayImpl'\u001b[0m\u001b[1m>\u001b[0m, \u001b[33mdtype\u001b[0m=\u001b[35mfloat64\u001b[0m\n"
      ]
     },
     "metadata": {},
     "output_type": "display_data"
    },
    {
     "data": {
      "text/html": [
       "<pre style=\"white-space:pre;overflow-x:auto;line-height:normal;font-family:Menlo,'DejaVu Sans Mono',consolas,'Courier New',monospace\">Q_h: <span style=\"color: #808000; text-decoration-color: #808000\">type</span>=<span style=\"font-weight: bold\">&lt;</span><span style=\"color: #ff00ff; text-decoration-color: #ff00ff; font-weight: bold\">class</span><span style=\"color: #000000; text-decoration-color: #000000\"> </span><span style=\"color: #008000; text-decoration-color: #008000\">'jaxlib.xla_extension.ArrayImpl'</span><span style=\"font-weight: bold\">&gt;</span>, <span style=\"color: #808000; text-decoration-color: #808000\">dtype</span>=<span style=\"color: #800080; text-decoration-color: #800080\">float64</span>\n",
       "</pre>\n"
      ],
      "text/plain": [
       "Q_h: \u001b[33mtype\u001b[0m=\u001b[1m<\u001b[0m\u001b[1;95mclass\u001b[0m\u001b[39m \u001b[0m\u001b[32m'jaxlib.xla_extension.ArrayImpl'\u001b[0m\u001b[1m>\u001b[0m, \u001b[33mdtype\u001b[0m=\u001b[35mfloat64\u001b[0m\n"
      ]
     },
     "metadata": {},
     "output_type": "display_data"
    },
    {
     "data": {
      "text/html": [
       "<pre style=\"white-space:pre;overflow-x:auto;line-height:normal;font-family:Menlo,'DejaVu Sans Mono',consolas,'Courier New',monospace\">N: <span style=\"color: #808000; text-decoration-color: #808000\">type</span>=<span style=\"font-weight: bold\">&lt;</span><span style=\"color: #ff00ff; text-decoration-color: #ff00ff; font-weight: bold\">class</span><span style=\"color: #000000; text-decoration-color: #000000\"> </span><span style=\"color: #008000; text-decoration-color: #008000\">'float'</span><span style=\"font-weight: bold\">&gt;</span>, <span style=\"color: #808000; text-decoration-color: #808000\">dtype</span>=<span style=\"color: #800080; text-decoration-color: #800080; font-style: italic\">None</span>\n",
       "</pre>\n"
      ],
      "text/plain": [
       "N: \u001b[33mtype\u001b[0m=\u001b[1m<\u001b[0m\u001b[1;95mclass\u001b[0m\u001b[39m \u001b[0m\u001b[32m'float'\u001b[0m\u001b[1m>\u001b[0m, \u001b[33mdtype\u001b[0m=\u001b[3;35mNone\u001b[0m\n"
      ]
     },
     "metadata": {},
     "output_type": "display_data"
    },
    {
     "data": {
      "text/html": [
       "<pre style=\"white-space:pre;overflow-x:auto;line-height:normal;font-family:Menlo,'DejaVu Sans Mono',consolas,'Courier New',monospace\">K: <span style=\"color: #808000; text-decoration-color: #808000\">type</span>=<span style=\"font-weight: bold\">&lt;</span><span style=\"color: #ff00ff; text-decoration-color: #ff00ff; font-weight: bold\">class</span><span style=\"color: #000000; text-decoration-color: #000000\"> </span><span style=\"color: #008000; text-decoration-color: #008000\">'float'</span><span style=\"font-weight: bold\">&gt;</span>, <span style=\"color: #808000; text-decoration-color: #808000\">dtype</span>=<span style=\"color: #800080; text-decoration-color: #800080; font-style: italic\">None</span>\n",
       "</pre>\n"
      ],
      "text/plain": [
       "K: \u001b[33mtype\u001b[0m=\u001b[1m<\u001b[0m\u001b[1;95mclass\u001b[0m\u001b[39m \u001b[0m\u001b[32m'float'\u001b[0m\u001b[1m>\u001b[0m, \u001b[33mdtype\u001b[0m=\u001b[3;35mNone\u001b[0m\n"
      ]
     },
     "metadata": {},
     "output_type": "display_data"
    },
    {
     "ename": "AttributeError",
     "evalue": "'OptaxSolver' object has no attribute 'optimizer'",
     "output_type": "error",
     "traceback": [
      "\u001b[0;31m---------------------------------------------------------------------------\u001b[0m",
      "\u001b[0;31mAttributeError\u001b[0m                            Traceback (most recent call last)",
      "Cell \u001b[0;32mIn[35], line 25\u001b[0m\n\u001b[1;32m     23\u001b[0m \u001b[38;5;66;03m# Custom step-by-step optimization loop for better control\u001b[39;00m\n\u001b[1;32m     24\u001b[0m current_params \u001b[38;5;241m=\u001b[39m param_dict\n\u001b[0;32m---> 25\u001b[0m optimizer_state \u001b[38;5;241m=\u001b[39m \u001b[43msolver\u001b[49m\u001b[38;5;241;43m.\u001b[39;49m\u001b[43moptimizer\u001b[49m\u001b[38;5;241m.\u001b[39minit(current_params)\n\u001b[1;32m     26\u001b[0m start_time \u001b[38;5;241m=\u001b[39m time\u001b[38;5;241m.\u001b[39mtime()\n\u001b[1;32m     28\u001b[0m \u001b[38;5;66;03m# Try running with custom safeguards\u001b[39;00m\n",
      "\u001b[0;31mAttributeError\u001b[0m: 'OptaxSolver' object has no attribute 'optimizer'"
     ]
    }
   ],
   "source": [
    "# Run the optimization with the new starting parameters\n",
    "print(\"Starting optimization with realistic parameters...\")\n",
    "\n",
    "# Check parameters before starting optimization\n",
    "check_params(param_dict)\n",
    "\n",
    "# Ensure all dictionary values are float\n",
    "for key in param_dict:\n",
    "    if isinstance(param_dict[key], (int, np.integer)):\n",
    "        print(f\"Converting {key} from {type(param_dict[key])} to float\")\n",
    "        param_dict[key] = float(param_dict[key])\n",
    "\n",
    "# Print initial objective value\n",
    "try:\n",
    "    initial_objective, initial_grad_norm = objective_with_logging(param_dict)\n",
    "    print(f\"Initial objective value: {initial_objective:.4f}, Gradient norm: {initial_grad_norm:.4f}\")\n",
    "except Exception as e:\n",
    "    print(f\"Error computing initial objective: {e}\")\n",
    "    print(\"Debugging parameter types:\")\n",
    "    for key, val in param_dict.items():\n",
    "        print(f\"{key}: type={type(val)}, dtype={getattr(val, 'dtype', None)}\")\n",
    "\n",
    "# Custom step-by-step optimization loop for better control\n",
    "current_params = param_dict\n",
    "optimizer_state = solver.optimizer.init(current_params)\n",
    "start_time = time.time()\n",
    "\n",
    "# Try running with custom safeguards\n",
    "for i in range(100):  # Max 100 iterations\n",
    "    try:\n",
    "        # Compute the value and gradient\n",
    "        value, grad = jax.value_and_grad(objective)(current_params)\n",
    "        \n",
    "        # Check for NaN or Inf in gradient\n",
    "        flat_grads, _ = jax.tree_flatten(grad)\n",
    "        has_bad_grads = any(jnp.any(jnp.isnan(g) | jnp.isinf(g)) for g in flat_grads)\n",
    "        \n",
    "        if has_bad_grads:\n",
    "            print(f\"Iteration {i}: Found NaN/Inf in gradient, stopping optimization\")\n",
    "            break\n",
    "            \n",
    "        # Update parameters\n",
    "        updates, optimizer_state = solver.optimizer.update(grad, optimizer_state)\n",
    "        current_params = optax.apply_updates(current_params, updates)\n",
    "        \n",
    "        # Compute objective and gradient norm for logging\n",
    "        obj_value, grad_norm = objective_with_logging(current_params)\n",
    "        print(f\"Iter: {i} Objective Value: {obj_value:.6f} Gradient Norm: {grad_norm:.6f}\")\n",
    "        \n",
    "        # Check convergence\n",
    "        if grad_norm < 1e-6:\n",
    "            print(\"Converged based on gradient norm\")\n",
    "            break\n",
    "            \n",
    "        # Check if parameters are reasonable\n",
    "        if not check_params(current_params):\n",
    "            print(\"Stopping due to parameter issues\")\n",
    "            break\n",
    "            \n",
    "    except Exception as e:\n",
    "        print(f\"Error in iteration {i}: {e}\")\n",
    "        break\n",
    "\n",
    "end_time = time.time()\n",
    "print(f\"Optimization took {end_time - start_time:.2f} seconds\")\n",
    "\n",
    "# Use the final parameters from our custom loop\n",
    "final_dict = current_params\n",
    "optimized_params = DFSVParamsDataclass.from_dict(final_dict, N, K)\n",
    "\n",
    "# Compare true, starting, and optimized parameters\n",
    "print(\"\\nParameter Comparison:\")\n",
    "print(\"-\" * 50)\n",
    "print(f\"{'Parameter':<10} {'True':<15} {'Starting':<15} {'Optimized':<15}\")\n",
    "print(\"-\" * 50)\n",
    "\n",
    "# Lambda values (first element)\n",
    "print(f\"lambda_r[0] {params.lambda_r[0][0]:<15.4f} {starting_params.lambda_r[0][0]:<15.4f} {optimized_params.lambda_r[0][0]:<15.4f}\")\n",
    "\n",
    "# Phi values\n",
    "print(f\"Phi_f     {params.Phi_f[0][0]:<15.4f} {starting_params.Phi_f[0][0]:<15.4f} {optimized_params.Phi_f[0][0]:<15.4f}\")\n",
    "print(f\"Phi_h     {params.Phi_h[0][0]:<15.4f} {starting_params.Phi_h[0][0]:<15.4f} {optimized_params.Phi_h[0][0]:<15.4f}\")\n",
    "\n",
    "# mu value\n",
    "print(f\"mu        {params.mu[0]:<15.4f} {starting_params.mu[0]:<15.4f} {optimized_params.mu[0]:<15.4f}\")\n",
    "\n",
    "# sigma2 (first element)\n",
    "print(f\"sigma2[0] {params.sigma2[0,0]:<15.4f} {starting_params.sigma2[0,0]:<15.4f} {optimized_params.sigma2[0,0]:<15.4f}\")\n",
    "\n",
    "# Q_h value\n",
    "print(f\"Q_h       {params.Q_h[0,0]:<15.4f} {starting_params.Q_h[0,0]:<15.4f} {optimized_params.Q_h[0,0]:<15.4f}\")"
   ]
  },
  {
   "cell_type": "code",
   "execution_count": null,
   "id": "25f36e2e",
   "metadata": {},
   "outputs": [
    {
     "data": {
      "text/html": [
       "<pre style=\"white-space:pre;overflow-x:auto;line-height:normal;font-family:Menlo,'DejaVu Sans Mono',consolas,'Courier New',monospace\">Comparing filter output with original vs optimized parameters\n",
       "</pre>\n"
      ],
      "text/plain": [
       "Comparing filter output with original vs optimized parameters\n"
      ]
     },
     "metadata": {},
     "output_type": "display_data"
    },
    {
     "data": {
      "text/html": [
       "<pre style=\"white-space:pre;overflow-x:auto;line-height:normal;font-family:Menlo,'DejaVu Sans Mono',consolas,'Courier New',monospace\"><span style=\"color: #800080; text-decoration-color: #800080; font-weight: bold\">DFSVParamsDataclass</span><span style=\"font-weight: bold\">(</span>\n",
       "    <span style=\"color: #808000; text-decoration-color: #808000\">N</span>=<span style=\"color: #008080; text-decoration-color: #008080; font-weight: bold\">3</span>,\n",
       "    <span style=\"color: #808000; text-decoration-color: #808000\">K</span>=<span style=\"color: #008080; text-decoration-color: #008080; font-weight: bold\">1</span>,\n",
       "    <span style=\"color: #808000; text-decoration-color: #808000\">lambda_r</span>=<span style=\"color: #800080; text-decoration-color: #800080; font-weight: bold\">Array</span><span style=\"font-weight: bold\">([[</span>nan<span style=\"font-weight: bold\">]</span>,\n",
       "       <span style=\"font-weight: bold\">[</span>nan<span style=\"font-weight: bold\">]</span>,\n",
       "       <span style=\"font-weight: bold\">[</span>nan<span style=\"font-weight: bold\">]]</span>, <span style=\"color: #808000; text-decoration-color: #808000\">dtype</span>=<span style=\"color: #800080; text-decoration-color: #800080\">float64</span><span style=\"font-weight: bold\">)</span>,\n",
       "    <span style=\"color: #808000; text-decoration-color: #808000\">Phi_f</span>=<span style=\"color: #800080; text-decoration-color: #800080; font-weight: bold\">Array</span><span style=\"font-weight: bold\">([[</span>nan<span style=\"font-weight: bold\">]]</span>, <span style=\"color: #808000; text-decoration-color: #808000\">dtype</span>=<span style=\"color: #800080; text-decoration-color: #800080\">float64</span><span style=\"font-weight: bold\">)</span>,\n",
       "    <span style=\"color: #808000; text-decoration-color: #808000\">Phi_h</span>=<span style=\"color: #800080; text-decoration-color: #800080; font-weight: bold\">Array</span><span style=\"font-weight: bold\">([[</span>nan<span style=\"font-weight: bold\">]]</span>, <span style=\"color: #808000; text-decoration-color: #808000\">dtype</span>=<span style=\"color: #800080; text-decoration-color: #800080\">float64</span><span style=\"font-weight: bold\">)</span>,\n",
       "    <span style=\"color: #808000; text-decoration-color: #808000\">mu</span>=<span style=\"color: #800080; text-decoration-color: #800080; font-weight: bold\">Array</span><span style=\"font-weight: bold\">([</span>nan<span style=\"font-weight: bold\">]</span>, <span style=\"color: #808000; text-decoration-color: #808000\">dtype</span>=<span style=\"color: #800080; text-decoration-color: #800080\">float64</span><span style=\"font-weight: bold\">)</span>,\n",
       "    <span style=\"color: #808000; text-decoration-color: #808000\">sigma2</span>=<span style=\"color: #800080; text-decoration-color: #800080; font-weight: bold\">Array</span><span style=\"font-weight: bold\">([[</span>nan,  <span style=\"color: #008080; text-decoration-color: #008080; font-weight: bold\">1</span>.,  <span style=\"color: #008080; text-decoration-color: #008080; font-weight: bold\">1</span>.<span style=\"font-weight: bold\">]</span>,\n",
       "       <span style=\"font-weight: bold\">[</span> <span style=\"color: #008080; text-decoration-color: #008080; font-weight: bold\">1</span>., nan,  <span style=\"color: #008080; text-decoration-color: #008080; font-weight: bold\">1</span>.<span style=\"font-weight: bold\">]</span>,\n",
       "       <span style=\"font-weight: bold\">[</span> <span style=\"color: #008080; text-decoration-color: #008080; font-weight: bold\">1</span>.,  <span style=\"color: #008080; text-decoration-color: #008080; font-weight: bold\">1</span>., nan<span style=\"font-weight: bold\">]]</span>, <span style=\"color: #808000; text-decoration-color: #808000\">dtype</span>=<span style=\"color: #800080; text-decoration-color: #800080\">float64</span><span style=\"font-weight: bold\">)</span>,\n",
       "    <span style=\"color: #808000; text-decoration-color: #808000\">Q_h</span>=<span style=\"color: #800080; text-decoration-color: #800080; font-weight: bold\">Array</span><span style=\"font-weight: bold\">([[</span>nan<span style=\"font-weight: bold\">]]</span>, <span style=\"color: #808000; text-decoration-color: #808000\">dtype</span>=<span style=\"color: #800080; text-decoration-color: #800080\">float64</span><span style=\"font-weight: bold\">)</span>\n",
       "<span style=\"font-weight: bold\">)</span>\n",
       "</pre>\n"
      ],
      "text/plain": [
       "\u001b[1;35mDFSVParamsDataclass\u001b[0m\u001b[1m(\u001b[0m\n",
       "    \u001b[33mN\u001b[0m=\u001b[1;36m3\u001b[0m,\n",
       "    \u001b[33mK\u001b[0m=\u001b[1;36m1\u001b[0m,\n",
       "    \u001b[33mlambda_r\u001b[0m=\u001b[1;35mArray\u001b[0m\u001b[1m(\u001b[0m\u001b[1m[\u001b[0m\u001b[1m[\u001b[0mnan\u001b[1m]\u001b[0m,\n",
       "       \u001b[1m[\u001b[0mnan\u001b[1m]\u001b[0m,\n",
       "       \u001b[1m[\u001b[0mnan\u001b[1m]\u001b[0m\u001b[1m]\u001b[0m, \u001b[33mdtype\u001b[0m=\u001b[35mfloat64\u001b[0m\u001b[1m)\u001b[0m,\n",
       "    \u001b[33mPhi_f\u001b[0m=\u001b[1;35mArray\u001b[0m\u001b[1m(\u001b[0m\u001b[1m[\u001b[0m\u001b[1m[\u001b[0mnan\u001b[1m]\u001b[0m\u001b[1m]\u001b[0m, \u001b[33mdtype\u001b[0m=\u001b[35mfloat64\u001b[0m\u001b[1m)\u001b[0m,\n",
       "    \u001b[33mPhi_h\u001b[0m=\u001b[1;35mArray\u001b[0m\u001b[1m(\u001b[0m\u001b[1m[\u001b[0m\u001b[1m[\u001b[0mnan\u001b[1m]\u001b[0m\u001b[1m]\u001b[0m, \u001b[33mdtype\u001b[0m=\u001b[35mfloat64\u001b[0m\u001b[1m)\u001b[0m,\n",
       "    \u001b[33mmu\u001b[0m=\u001b[1;35mArray\u001b[0m\u001b[1m(\u001b[0m\u001b[1m[\u001b[0mnan\u001b[1m]\u001b[0m, \u001b[33mdtype\u001b[0m=\u001b[35mfloat64\u001b[0m\u001b[1m)\u001b[0m,\n",
       "    \u001b[33msigma2\u001b[0m=\u001b[1;35mArray\u001b[0m\u001b[1m(\u001b[0m\u001b[1m[\u001b[0m\u001b[1m[\u001b[0mnan,  \u001b[1;36m1\u001b[0m.,  \u001b[1;36m1\u001b[0m.\u001b[1m]\u001b[0m,\n",
       "       \u001b[1m[\u001b[0m \u001b[1;36m1\u001b[0m., nan,  \u001b[1;36m1\u001b[0m.\u001b[1m]\u001b[0m,\n",
       "       \u001b[1m[\u001b[0m \u001b[1;36m1\u001b[0m.,  \u001b[1;36m1\u001b[0m., nan\u001b[1m]\u001b[0m\u001b[1m]\u001b[0m, \u001b[33mdtype\u001b[0m=\u001b[35mfloat64\u001b[0m\u001b[1m)\u001b[0m,\n",
       "    \u001b[33mQ_h\u001b[0m=\u001b[1;35mArray\u001b[0m\u001b[1m(\u001b[0m\u001b[1m[\u001b[0m\u001b[1m[\u001b[0mnan\u001b[1m]\u001b[0m\u001b[1m]\u001b[0m, \u001b[33mdtype\u001b[0m=\u001b[35mfloat64\u001b[0m\u001b[1m)\u001b[0m\n",
       "\u001b[1m)\u001b[0m\n"
      ]
     },
     "metadata": {},
     "output_type": "display_data"
    }
   ],
   "source": [
    "# Compare original vs optimized parameters\n",
    "print(\"Comparing filter output with original vs optimized parameters\")\n",
    "def stablize_matrix(matrix):\n",
    "    norm = jnp.linalg.norm(matrix, ord=2)\n",
    "    return matrix / (1.0 + norm)\n",
    "final_dict= result.params\n",
    "# Convert optimized parameters back to standard format if needed\n",
    "optimized_params = DFSVParamsDataclass.from_dict(final_dict,N,K)\n",
    "optimized_params = optimized_params.replace(sigma2=jnp.exp(optimized_params.sigma2),\n",
    "                                            Phi_f=jnp.tanh(optimized_params.Phi_f),\n",
    "                                            Phi_h=jnp.tanh(optimized_params.Phi_h),\n",
    "                                            Q_h=jnp.exp(optimized_params.Q_h))\n",
    "# optimized_params = DFSVParamsDataclass(\n",
    "#     N=3,\n",
    "#     K=1,\n",
    "#     lambda_r=jnp.array([[1.8], [1.2], [0.58]]),\n",
    "#     Phi_f=jnp.array([[0.934]]),\n",
    "#     Phi_h=jnp.array([[0.967]]),\n",
    "#     mu=jnp.array([0.15]),\n",
    "#     sigma2=jnp.array([0.114, 0.09, 0.097]),\n",
    "#     Q_h=jnp.array([[0.023]]),\n",
    "# )\n",
    "print(optimized_params)"
   ]
  }
 ],
 "metadata": {
  "kernelspec": {
   "display_name": "Main_thesis",
   "language": "python",
   "name": "python3"
  },
  "language_info": {
   "codemirror_mode": {
    "name": "ipython",
    "version": 3
   },
   "file_extension": ".py",
   "mimetype": "text/x-python",
   "name": "python",
   "nbconvert_exporter": "python",
   "pygments_lexer": "ipython3",
   "version": "3.13.1"
  }
 },
 "nbformat": 4,
 "nbformat_minor": 5
}
