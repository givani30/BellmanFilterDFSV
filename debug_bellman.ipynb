{
 "cells": [
  {
   "cell_type": "markdown",
   "metadata": {},
   "source": [
    "# JAX Bellman Filter Debug\n",
    "\n",
    "This notebook provides a minimal working example to debug the JAX-based Bellman filter implementation."
   ]
  },
  {
   "cell_type": "code",
   "execution_count": 1,
   "metadata": {},
   "outputs": [
    {
     "name": "stdout",
     "output_type": "stream",
     "text": [
      "Model parameters created successfully\n"
     ]
    }
   ],
   "source": [
    "import numpy as np\n",
    "import jax\n",
    "import jax.numpy as jnp\n",
    "from functions.simulation import DFSV_params, simulate_DFSV\n",
    "from functions.filters import DFSVBellmanFilter\n",
    "from functions.filter_bellman import *\n",
    "# Set random seed for reproducibility\n",
    "np.random.seed(42)\n",
    "\n",
    "# Create a minimal test model\n",
    "K = 1  # Number of factors\n",
    "N = 2  # Number of observed series\n",
    "\n",
    "# Define model parameters\n",
    "lambda_r = np.array([[1.0], [0.5]])  # Simple factor loadings\n",
    "Phi_f = np.array([[0.9]])            # Factor persistence\n",
    "Phi_h = np.array([[0.95]])           # Volatility persistence\n",
    "mu = np.array([-1.0])                # Log-volatility mean\n",
    "sigma2 = np.ones(N) * 0.1            # Measurement noise\n",
    "Q_h = np.array([[0.2]])              # Volatility of log-volatility\n",
    "\n",
    "# Create parameter object\n",
    "params = DFSV_params(\n",
    "    N=N,\n",
    "    K=K,\n",
    "    lambda_r=lambda_r,\n",
    "    Phi_f=Phi_f,\n",
    "    Phi_h=Phi_h,\n",
    "    mu=mu,\n",
    "    sigma2=sigma2,\n",
    "    Q_h=Q_h\n",
    ")\n",
    "\n",
    "print(\"Model parameters created successfully\")"
   ]
  },
  {
   "cell_type": "code",
   "execution_count": 2,
   "metadata": {},
   "outputs": [
    {
     "name": "stdout",
     "output_type": "stream",
     "text": [
      "Data generated:\n",
      "y shape: (20, 2)\n",
      "factors shape: (20, 1)\n",
      "log_vols shape: (20, 1)\n"
     ]
    }
   ],
   "source": [
    "# Generate synthetic data\n",
    "T = 20  # Just a few time points for testing\n",
    "y, factors, log_vols = simulate_DFSV(params, T=T, seed=42)\n",
    "\n",
    "print(\"Data generated:\")\n",
    "print(f\"y shape: {y.shape}\")\n",
    "print(f\"factors shape: {factors.shape}\")\n",
    "print(f\"log_vols shape: {log_vols.shape}\")"
   ]
  },
  {
   "cell_type": "code",
   "execution_count": 3,
   "metadata": {},
   "outputs": [
    {
     "name": "stdout",
     "output_type": "stream",
     "text": [
      "\n",
      "Bellman filter initialized\n",
      "\n",
      "JAX parameters:\n",
      "lambda_r shape: (2, 1)\n",
      "sigma2 shape: (2, 2)\n",
      "mu shape: (1, 1)\n",
      "Phi_f shape: (1, 1)\n",
      "Phi_h shape: (1, 1)\n",
      "Q_h shape: (1, 1)\n"
     ]
    }
   ],
   "source": [
    "# Initialize the filter\n",
    "try:\n",
    "    bf = DFSVBellmanFilter_JAXOPT3(params)\n",
    "    bf2 = DFSVBellmanFilter(params)\n",
    "    print(\"\\nBellman filter initialized\")\n",
    "    print(\"\\nJAX parameters:\")\n",
    "    print(f\"lambda_r shape: {bf.jax_lambda_r.shape}\")\n",
    "    print(f\"sigma2 shape: {bf.jax_sigma2.shape}\")\n",
    "    print(f\"mu shape: {bf.jax_mu.shape}\")\n",
    "    print(f\"Phi_f shape: {bf.jax_Phi_f.shape}\")\n",
    "    print(f\"Phi_h shape: {bf.jax_Phi_h.shape}\")\n",
    "    print(f\"Q_h shape: {bf.jax_Q_h.shape}\")\n",
    "except Exception as e:\n",
    "    print(f\"Error during initialization: {e}\")"
   ]
  },
  {
   "cell_type": "code",
   "execution_count": 4,
   "metadata": {},
   "outputs": [
    {
     "name": "stdout",
     "output_type": "stream",
     "text": [
      "Initial state shape: (2, 1)\n",
      "Initial covariance shape: (2, 2)\n",
      "\n",
      "Initial state:\n",
      "[[ 0.]\n",
      " [-1.]]\n",
      "\n",
      "Prediction step completed\n",
      "Predicted state:\n",
      "[[ 0.]\n",
      " [-1.]]\n",
      "\n",
      "Predicted covariance is positive definite ✓\n"
     ]
    }
   ],
   "source": [
    "# Initialize state and test prediction step\n",
    "try:\n",
    "    # Initialize state\n",
    "    state0, cov0 = bf.initialize_state(y)\n",
    "    print(f\"Initial state shape: {state0.shape}\")\n",
    "    print(f\"Initial covariance shape: {cov0.shape}\")\n",
    "    print(f\"\\nInitial state:\\n{state0}\")\n",
    "    \n",
    "    # Test prediction step\n",
    "    predicted_state, predicted_cov = bf.predict(state0, cov0)\n",
    "    print(\"\\nPrediction step completed\")\n",
    "    print(f\"Predicted state:\\n{predicted_state}\")\n",
    "    \n",
    "    # Verify covariance matrices\n",
    "    try:\n",
    "        np.linalg.cholesky(predicted_cov)\n",
    "        print(\"\\nPredicted covariance is positive definite ✓\")\n",
    "    except np.linalg.LinAlgError:\n",
    "        print(\"\\nWARNING: Predicted covariance is not positive definite!\")\n",
    "        print(\"Eigenvalues:\", np.linalg.eigvals(predicted_cov))\n",
    "except Exception as e:\n",
    "    print(f\"Error during prediction: {e}\")"
   ]
  },
  {
   "cell_type": "code",
   "execution_count": 5,
   "metadata": {},
   "outputs": [
    {
     "name": "stdout",
     "output_type": "stream",
     "text": [
      "Observation shape: (2, 1)\n",
      "Observation values:\n",
      "[[0.]\n",
      " [0.]]\n",
      "\n",
      "Testing JAX objective function...\n",
      "Objective value at predicted state: 0.3674175149372927\n",
      "Gradient at predicted state:\n",
      "[ 2.49708519 -0.16597887]\n",
      "\n",
      "Performing update step...\n",
      "\n",
      "Update step completed\n",
      "Updated state:\n",
      "[[ 0.       ]\n",
      " [-2.0256404]]\n",
      "Log-likelihood: 1.0193823093408931\n",
      "\n",
      "Updated covariance is positive definite ✓\n"
     ]
    }
   ],
   "source": [
    "# jax.profiler.start_trace(log_dir=logdir)\n",
    "observation = y[0:1, :].T.reshape(-1, 1)\n",
    "print(f\"Observation shape: {observation.shape}\")\n",
    "print(f\"Observation values:\\n{observation}\")\n",
    "\n",
    "# Check JAX objective function\n",
    "print(\"\\nTesting JAX objective function...\")\n",
    "alpha_test = predicted_state.copy()\n",
    "alpha_test[0]=0.7\n",
    "# Convert inputs for JAX\n",
    "jax_alpha = jnp.array(alpha_test)\n",
    "jax_pred = jnp.array(predicted_state)\n",
    "jax_I_pred = jnp.array(np.linalg.inv(predicted_cov))\n",
    "jax_obs = jnp.array(observation)\n",
    "\n",
    "# Test objective function with new parameter order (removed K, N params)\n",
    "obj_val, grad_val = bf.obj_and_grad_fn(jax_alpha, jax_pred, jax_I_pred, jax_obs,\n",
    "                            )\n",
    "print(f\"Objective value at predicted state: {float(obj_val)}\")\n",
    "\n",
    "# Test gradient with new parameter order\n",
    "print(f\"Gradient at predicted state:\\n{np.array(grad_val)}\")\n",
    "# Perform update step\n",
    "print(\"\\nPerforming update step...\")\n",
    "\n",
    "updated_state, updated_cov, log_likelihood = bf.update(\n",
    "    predicted_state, predicted_cov, observation\n",
    ")\n",
    "\n",
    "\n",
    "print(\"\\nUpdate step completed\")\n",
    "print(f\"Updated state:\\n{updated_state}\")\n",
    "print(f\"Log-likelihood: {log_likelihood}\")\n",
    "\n",
    "# Verify updated covariance\n",
    "try:\n",
    "    np.linalg.cholesky(updated_cov)\n",
    "    print(\"\\nUpdated covariance is positive definite ✓\")\n",
    "except np.linalg.LinAlgError:\n",
    "    print(\"\\nWARNING: Updated covariance is not positive definite!\")\n",
    "    print(\"Eigenvalues:\", np.linalg.eigvals(updated_cov))\n",
    "# jnp.array(updated_state).block_until_ready()\n",
    "# jax.profiler.stop_trace()"
   ]
  },
  {
   "cell_type": "code",
   "execution_count": 7,
   "metadata": {},
   "outputs": [
    {
     "name": "stdout",
     "output_type": "stream",
     "text": [
      "Running full filter...\n"
     ]
    },
    {
     "name": "stderr",
     "output_type": "stream",
     "text": [
      "Bellman Filter Progress: 100%|██████████| 20/20 [00:00<00:00, 103.41it/s]"
     ]
    },
    {
     "name": "stdout",
     "output_type": "stream",
     "text": [
      "\n",
      "Filter completed successfully!\n",
      "Total log-likelihood: -71.77618614712559\n",
      "\n",
      "Filtered states shape: (20, 2)\n",
      "Filtered covs shape: (20, 2, 2)\n",
      "\n",
      "Correlation with true states:\n",
      "Factor correlation: 0.8462\n",
      "Log-volatility correlation: -0.0283\n"
     ]
    },
    {
     "name": "stderr",
     "output_type": "stream",
     "text": [
      "\n"
     ]
    }
   ],
   "source": [
    "print(\"Running full filter...\")\n",
    "filtered_states, filtered_covs, log_likelihood = bf.filter(y)\n",
    "print(\"\\nFilter completed successfully!\")\n",
    "print(f\"Total log-likelihood: {log_likelihood}\")\n",
    "print(f\"\\nFiltered states shape: {filtered_states.shape}\")\n",
    "print(f\"Filtered covs shape: {filtered_covs.shape}\")\n",
    "\n",
    "# Compare with true states\n",
    "print(\"\\nCorrelation with true states:\")\n",
    "factor_corr = jnp.corrcoef(filtered_states[:, 0], factors[:, 0])[0, 1]\n",
    "vol_corr = jnp.corrcoef(filtered_states[:, 1], log_vols[:, 0])[0, 1]\n",
    "print(f\"Factor correlation: {factor_corr:.4f}\")\n",
    "print(f\"Log-volatility correlation: {vol_corr:.4f}\")"
   ]
  },
  {
   "cell_type": "code",
   "execution_count": 8,
   "metadata": {},
   "outputs": [
    {
     "name": "stderr",
     "output_type": "stream",
     "text": [
      "Bellman Filter Progress: 100%|██████████| 20/20 [00:13<00:00,  1.44it/s]\n"
     ]
    },
    {
     "name": "stdout",
     "output_type": "stream",
     "text": [
      "Optimized implementation time: 13.9001 seconds\n"
     ]
    },
    {
     "name": "stderr",
     "output_type": "stream",
     "text": [
      "Bellman Filter Progress: 100%|██████████| 20/20 [00:09<00:00,  2.15it/s]"
     ]
    },
    {
     "name": "stdout",
     "output_type": "stream",
     "text": [
      "Original implementation time: 9.3198 seconds\n",
      "Speedup factor: 0.67x\n",
      "\n",
      "Result consistency check:\n",
      "Max states difference: 6.10226589\n",
      "Max covariance difference: 36.73515139\n",
      "Log-likelihood difference: -21.18375551\n"
     ]
    },
    {
     "name": "stderr",
     "output_type": "stream",
     "text": [
      "\n"
     ]
    }
   ],
   "source": [
    "import time\n",
    "bf = DFSVBellmanFilter_JAXOPT3(params)\n",
    "bf2= DFSVBellmanFilter(params)\n",
    "# Time the JAX implementation\n",
    "start_time = time.time()\n",
    "filtered_states_jaxopt, filtered_covs_jaxopt, ll_jaxopt = bf.filter(y)\n",
    "jaxopt_time = time.time() - start_time\n",
    "print(f\"Optimized implementation time: {jaxopt_time:.4f} seconds\")\n",
    "\n",
    "# Time the original implementation\n",
    "start_time = time.time()\n",
    "filtered_states_orig, filtered_covs_orig, ll_orig = bf2.filter(y)\n",
    "orig_time = time.time() - start_time\n",
    "print(f\"Original implementation time: {orig_time:.4f} seconds\")\n",
    "\n",
    "# Calculate speedup\n",
    "speedup = orig_time / jaxopt_time if jaxopt_time > 0 else float('inf')\n",
    "print(f\"Speedup factor: {speedup:.2f}x\")\n",
    "\n",
    "# Compare results for consistency\n",
    "states_diff = np.max(np.abs(filtered_states_jaxopt - filtered_states_orig))\n",
    "covs_diff = np.max(np.abs(filtered_covs_jaxopt - filtered_covs_orig))\n",
    "ll_diff = (ll_jaxopt - ll_orig)\n",
    "\n",
    "print(\"\\nResult consistency check:\")\n",
    "print(f\"Max states difference: {states_diff:.8f}\")\n",
    "print(f\"Max covariance difference: {covs_diff:.8f}\")\n",
    "print(f\"Log-likelihood difference: {ll_diff:.8f}\")"
   ]
  },
  {
   "cell_type": "code",
   "execution_count": 8,
   "metadata": {},
   "outputs": [
    {
     "data": {
      "text/plain": [
       "Array([[[ 8.42994299e+00,  0.00000000e+00],\n",
       "        [ 0.00000000e+00,  4.87500303e-01]],\n",
       "\n",
       "       [[ 4.47641726e+00, -5.73141336e-02],\n",
       "        [-5.73141336e-02,  5.05676295e-01]],\n",
       "\n",
       "       [[ 3.66670180e-01,  1.93338940e-02],\n",
       "        [ 1.93338940e-02,  5.03939783e-01]],\n",
       "\n",
       "       [[ 1.40360797e+00, -1.41643269e-02],\n",
       "        [-1.41643269e-02,  5.01916538e-01]],\n",
       "\n",
       "       [[ 8.05080401e-01, -1.53932105e-01],\n",
       "        [-1.53932105e-01,  6.28481883e-01]],\n",
       "\n",
       "       [[ 3.49684596e-01, -1.45728293e-02],\n",
       "        [-1.45728293e-02,  5.87990225e-01]],\n",
       "\n",
       "       [[ 2.42566863e-01,  1.75582516e-02],\n",
       "        [ 1.75582516e-02,  5.79677745e-01]],\n",
       "\n",
       "       [[ 9.30879021e-02, -2.61147665e-02],\n",
       "        [-2.61147665e-02,  5.81972547e-01]],\n",
       "\n",
       "       [[ 3.63539107e-02, -2.10975798e-02],\n",
       "        [-2.10975798e-02,  5.76576563e-01]],\n",
       "\n",
       "       [[ 2.70491409e-02,  1.68112557e-03],\n",
       "        [ 1.68112557e-03,  5.58899494e-01]],\n",
       "\n",
       "       [[ 2.90100180e-02, -1.96890416e-02],\n",
       "        [-1.96890416e-02,  5.62934918e-01]],\n",
       "\n",
       "       [[ 6.26627148e-02, -1.78791202e-03],\n",
       "        [-1.78791202e-03,  5.46884948e-01]],\n",
       "\n",
       "       [[ 5.79849904e-02, -2.00704479e-02],\n",
       "        [-2.00704479e-02,  5.47297952e-01]],\n",
       "\n",
       "       [[ 1.05220429e-01, -5.23599023e-03],\n",
       "        [-5.23599023e-03,  5.36392060e-01]],\n",
       "\n",
       "       [[ 3.04503790e-01, -3.18363430e-03],\n",
       "        [-3.18363430e-03,  5.31060737e-01]],\n",
       "\n",
       "       [[ 2.46544191e-01, -3.60519478e-02],\n",
       "        [-3.60519478e-02,  5.32775489e-01]],\n",
       "\n",
       "       [[ 2.91457477e-01, -2.78676198e-03],\n",
       "        [-2.78676198e-03,  5.24521606e-01]],\n",
       "\n",
       "       [[ 4.06827765e-01, -1.26110146e-02],\n",
       "        [-1.26110146e-02,  5.20896225e-01]],\n",
       "\n",
       "       [[ 2.42629640e-01, -2.94750558e-02],\n",
       "        [-2.94750558e-02,  5.21839008e-01]],\n",
       "\n",
       "       [[ 7.12645380e-02, -2.18067979e-02],\n",
       "        [-2.18067979e-02,  5.23501928e-01]]], dtype=float64)"
      ]
     },
     "execution_count": 8,
     "metadata": {},
     "output_type": "execute_result"
    }
   ],
   "source": [
    "jnp.linalg.inv(filtered_covs_jaxopt)"
   ]
  },
  {
   "cell_type": "code",
   "execution_count": null,
   "metadata": {},
   "outputs": [
    {
     "name": "stdout",
     "output_type": "stream",
     "text": [
      "-50.59243063976549\n"
     ]
    }
   ],
   "source": [
    "print(ll_orig)"
   ]
  }
 ],
 "metadata": {
  "kernelspec": {
   "display_name": "Main_thesis",
   "language": "python",
   "name": "python3"
  },
  "language_info": {
   "codemirror_mode": {
    "name": "ipython",
    "version": 3
   },
   "file_extension": ".py",
   "mimetype": "text/x-python",
   "name": "python",
   "nbconvert_exporter": "python",
   "pygments_lexer": "ipython3",
   "version": "3.13.1"
  }
 },
 "nbformat": 4,
 "nbformat_minor": 2
}
