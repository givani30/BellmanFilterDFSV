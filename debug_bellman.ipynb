{
 "cells": [
  {
   "cell_type": "markdown",
   "metadata": {},
   "source": [
    "# JAX Bellman Filter Debug\n",
    "\n",
    "This notebook provides a minimal working example to debug the JAX-based Bellman filter implementation."
   ]
  },
  {
   "cell_type": "code",
   "execution_count": 1,
   "metadata": {},
   "outputs": [
    {
     "name": "stdout",
     "output_type": "stream",
     "text": [
      "Model parameters created successfully\n"
     ]
    }
   ],
   "source": [
    "import numpy as np\n",
    "import jax\n",
    "import jax.numpy as jnp\n",
    "from functions.simulation import DFSV_params, simulate_DFSV\n",
    "from functions.filters import DFSVBellmanFilter\n",
    "\n",
    "# Set random seed for reproducibility\n",
    "np.random.seed(42)\n",
    "\n",
    "# Create a minimal test model\n",
    "K = 1  # Number of factors\n",
    "N = 2  # Number of observed series\n",
    "\n",
    "# Define model parameters\n",
    "lambda_r = np.array([[1.0], [0.5]])  # Simple factor loadings\n",
    "Phi_f = np.array([[0.9]])            # Factor persistence\n",
    "Phi_h = np.array([[0.95]])           # Volatility persistence\n",
    "mu = np.array([-1.0])                # Log-volatility mean\n",
    "sigma2 = np.ones(N) * 0.1            # Measurement noise\n",
    "Q_h = np.array([[0.2]])              # Volatility of log-volatility\n",
    "\n",
    "# Create parameter object\n",
    "params = DFSV_params(\n",
    "    N=N,\n",
    "    K=K,\n",
    "    lambda_r=lambda_r,\n",
    "    Phi_f=Phi_f,\n",
    "    Phi_h=Phi_h,\n",
    "    mu=mu,\n",
    "    sigma2=sigma2,\n",
    "    Q_h=Q_h\n",
    ")\n",
    "\n",
    "print(\"Model parameters created successfully\")"
   ]
  },
  {
   "cell_type": "code",
   "execution_count": 2,
   "metadata": {},
   "outputs": [
    {
     "name": "stdout",
     "output_type": "stream",
     "text": [
      "Data generated:\n",
      "y shape: (20, 2)\n",
      "factors shape: (20, 1)\n",
      "log_vols shape: (20, 1)\n"
     ]
    }
   ],
   "source": [
    "# Generate synthetic data\n",
    "T = 20  # Just a few time points for testing\n",
    "y, factors, log_vols = simulate_DFSV(params, T=T, seed=42)\n",
    "\n",
    "print(\"Data generated:\")\n",
    "print(f\"y shape: {y.shape}\")\n",
    "print(f\"factors shape: {factors.shape}\")\n",
    "print(f\"log_vols shape: {log_vols.shape}\")"
   ]
  },
  {
   "cell_type": "code",
   "execution_count": 3,
   "metadata": {},
   "outputs": [
    {
     "name": "stdout",
     "output_type": "stream",
     "text": [
      "\n",
      "Bellman filter initialized\n",
      "\n",
      "JAX parameters:\n",
      "lambda_r shape: (2, 1)\n",
      "sigma2 shape: (2, 2)\n",
      "mu shape: (1, 1)\n",
      "Phi_f shape: (1, 1)\n",
      "Phi_h shape: (1, 1)\n",
      "Q_h shape: (1, 1)\n"
     ]
    }
   ],
   "source": [
    "# Initialize the filter\n",
    "try:\n",
    "    bf = DFSVBellmanFilter(params)\n",
    "    print(\"\\nBellman filter initialized\")\n",
    "    print(\"\\nJAX parameters:\")\n",
    "    print(f\"lambda_r shape: {bf.jax_lambda_r.shape}\")\n",
    "    print(f\"sigma2 shape: {bf.jax_sigma2.shape}\")\n",
    "    print(f\"mu shape: {bf.jax_mu.shape}\")\n",
    "    print(f\"Phi_f shape: {bf.jax_Phi_f.shape}\")\n",
    "    print(f\"Phi_h shape: {bf.jax_Phi_h.shape}\")\n",
    "    print(f\"Q_h shape: {bf.jax_Q_h.shape}\")\n",
    "except Exception as e:\n",
    "    print(f\"Error during initialization: {e}\")"
   ]
  },
  {
   "cell_type": "code",
   "execution_count": 4,
   "metadata": {},
   "outputs": [
    {
     "name": "stdout",
     "output_type": "stream",
     "text": [
      "Initial state shape: (2, 1)\n",
      "Initial covariance shape: (2, 2)\n",
      "\n",
      "Initial state:\n",
      "[[ 0.]\n",
      " [-1.]]\n",
      "\n",
      "Prediction step completed\n",
      "Predicted state:\n",
      "[[ 0.]\n",
      " [-1.]]\n",
      "\n",
      "Predicted covariance is positive definite ✓\n"
     ]
    }
   ],
   "source": [
    "# Initialize state and test prediction step\n",
    "try:\n",
    "    # Initialize state\n",
    "    state0, cov0 = bf.initialize_state(y)\n",
    "    print(f\"Initial state shape: {state0.shape}\")\n",
    "    print(f\"Initial covariance shape: {cov0.shape}\")\n",
    "    print(f\"\\nInitial state:\\n{state0}\")\n",
    "    \n",
    "    # Test prediction step\n",
    "    predicted_state, predicted_cov = bf.predict(state0, cov0)\n",
    "    print(\"\\nPrediction step completed\")\n",
    "    print(f\"Predicted state:\\n{predicted_state}\")\n",
    "    \n",
    "    # Verify covariance matrices\n",
    "    try:\n",
    "        np.linalg.cholesky(predicted_cov)\n",
    "        print(\"\\nPredicted covariance is positive definite ✓\")\n",
    "    except np.linalg.LinAlgError:\n",
    "        print(\"\\nWARNING: Predicted covariance is not positive definite!\")\n",
    "        print(\"Eigenvalues:\", np.linalg.eigvals(predicted_cov))\n",
    "except Exception as e:\n",
    "    print(f\"Error during prediction: {e}\")"
   ]
  },
  {
   "cell_type": "code",
   "execution_count": 5,
   "metadata": {},
   "outputs": [
    {
     "data": {
      "text/plain": [
       "Reusing TensorBoard on port 6006 (pid 81118), started 0:02:50 ago. (Use '!kill 81118' to kill it.)"
      ]
     },
     "metadata": {},
     "output_type": "display_data"
    },
    {
     "data": {
      "text/html": [
       "\n",
       "      <iframe id=\"tensorboard-frame-99556ac3a28cbb60\" width=\"100%\" height=\"800\" frameborder=\"0\">\n",
       "      </iframe>\n",
       "      <script>\n",
       "        (function() {\n",
       "          const frame = document.getElementById(\"tensorboard-frame-99556ac3a28cbb60\");\n",
       "          const url = new URL(\"http://localhost\");\n",
       "          const port = 6006;\n",
       "          if (port) {\n",
       "            url.port = port;\n",
       "          }\n",
       "          frame.src = url;\n",
       "        })();\n",
       "      </script>\n",
       "    "
      ],
      "text/plain": [
       "<IPython.core.display.HTML object>"
      ]
     },
     "metadata": {},
     "output_type": "display_data"
    },
    {
     "name": "stdout",
     "output_type": "stream",
     "text": [
      "TensorBoard started with logs in ./jax-trace. Navigate to the URL above to view profiling data.\n"
     ]
    }
   ],
   "source": [
    "import tensorboard\n",
    "\n",
    "# Check if TensorBoard is available\n",
    "try:\n",
    "    # Use a local directory for TensorBoard logs\n",
    "    logdir = \"./jax-trace\"\n",
    "    \n",
    "    # Start TensorBoard\n",
    "    %load_ext tensorboard\n",
    "    %tensorboard --logdir {logdir}\n",
    "    print(f\"TensorBoard started with logs in {logdir}. Navigate to the URL above to view profiling data.\")\n",
    "except ModuleNotFoundError:\n",
    "    print(\"TensorBoard not found. Please install with: pip install tensorboard jupyter_tensorboard\")\n",
    "    print(\"Then restart the kernel and try again.\")"
   ]
  },
  {
   "cell_type": "code",
   "execution_count": null,
   "metadata": {},
   "outputs": [
    {
     "name": "stderr",
     "output_type": "stream",
     "text": [
      "2025-03-12 15:56:40.220005: E external/local_xla/xla/stream_executor/cuda/cuda_fft.cc:467] Unable to register cuFFT factory: Attempting to register factory for plugin cuFFT when one has already been registered\n",
      "WARNING: All log messages before absl::InitializeLog() is called are written to STDERR\n",
      "E0000 00:00:1741791400.371234   82523 cuda_dnn.cc:8579] Unable to register cuDNN factory: Attempting to register factory for plugin cuDNN when one has already been registered\n",
      "E0000 00:00:1741791400.399981   82523 cuda_blas.cc:1407] Unable to register cuBLAS factory: Attempting to register factory for plugin cuBLAS when one has already been registered\n",
      "W0000 00:00:1741791400.702404   82523 computation_placer.cc:177] computation placer already registered. Please check linkage and avoid linking the same target more than once.\n",
      "W0000 00:00:1741791400.702431   82523 computation_placer.cc:177] computation placer already registered. Please check linkage and avoid linking the same target more than once.\n",
      "W0000 00:00:1741791400.702433   82523 computation_placer.cc:177] computation placer already registered. Please check linkage and avoid linking the same target more than once.\n",
      "W0000 00:00:1741791400.702434   82523 computation_placer.cc:177] computation placer already registered. Please check linkage and avoid linking the same target more than once.\n"
     ]
    },
    {
     "name": "stdout",
     "output_type": "stream",
     "text": [
      "Observation shape: (2, 1)\n",
      "Observation values:\n",
      "[[0.]\n",
      " [0.]]\n",
      "\n",
      "Testing JAX objective function...\n",
      "Objective value at predicted state: 1.1323174503064932\n",
      "Gradient at predicted state:\n",
      "[ 2.44209542 -1.16597865]\n",
      "\n",
      "Performing update step...\n",
      "Update step took 2.856068 seconds\n",
      "\n",
      "Update step completed\n",
      "Updated state:\n",
      "[[ 0.        ]\n",
      " [-0.99919711]]\n",
      "Log-likelihood: -0.39687066649718206\n",
      "\n",
      "Updated covariance is positive definite ✓\n"
     ]
    }
   ],
   "source": [
    "jax.profiler.start_trace(log_dir=logdir)\n",
    "observation = y[0:1, :].T.reshape(-1, 1)\n",
    "print(f\"Observation shape: {observation.shape}\")\n",
    "print(f\"Observation values:\\n{observation}\")\n",
    "\n",
    "# Check JAX objective function\n",
    "print(\"\\nTesting JAX objective function...\")\n",
    "alpha_test = predicted_state.copy()\n",
    "alpha_test[0]=0.7\n",
    "# Convert inputs for JAX\n",
    "jax_alpha = jnp.array(alpha_test)\n",
    "jax_pred = jnp.array(predicted_state)\n",
    "jax_I_pred = jnp.array(np.linalg.inv(predicted_cov))\n",
    "jax_obs = jnp.array(observation)\n",
    "\n",
    "# Test objective function with new parameter order (removed K, N params)\n",
    "obj_val, grad_val = bf.obj_and_grad_fn(jax_alpha, jax_pred, jax_I_pred, jax_obs,\n",
    "                            bf.jax_lambda_r, bf.jax_sigma2)\n",
    "print(f\"Objective value at predicted state: {float(obj_val)}\")\n",
    "\n",
    "# Test gradient with new parameter order\n",
    "print(f\"Gradient at predicted state:\\n{np.array(grad_val)}\")\n",
    "# Perform update step\n",
    "print(\"\\nPerforming update step...\")\n",
    "\n",
    "updated_state, updated_cov, log_likelihood = bf.update(\n",
    "    predicted_state, predicted_cov, observation\n",
    ")\n",
    "\n",
    "\n",
    "print(\"\\nUpdate step completed\")\n",
    "print(f\"Updated state:\\n{updated_state}\")\n",
    "print(f\"Log-likelihood: {log_likelihood}\")\n",
    "\n",
    "# Verify updated covariance\n",
    "try:\n",
    "    np.linalg.cholesky(updated_cov)\n",
    "    print(\"\\nUpdated covariance is positive definite ✓\")\n",
    "except np.linalg.LinAlgError:\n",
    "    print(\"\\nWARNING: Updated covariance is not positive definite!\")\n",
    "    print(\"Eigenvalues:\", np.linalg.eigvals(updated_cov))\n",
    "jnp.array(updated_state).block_until_ready()\n",
    "jax.profiler.stop_trace()"
   ]
  },
  {
   "cell_type": "code",
   "execution_count": null,
   "metadata": {},
   "outputs": [
    {
     "name": "stdout",
     "output_type": "stream",
     "text": [
      "Running full filter...\n"
     ]
    },
    {
     "name": "stderr",
     "output_type": "stream",
     "text": [
      "Bellman Filter Progress: 100%|██████████| 20/20 [00:46<00:00,  2.35s/it]"
     ]
    }
   ],
   "source": [
    "with jax.profiler.trace(\"/tmp/jax-trace\"):\n",
    "    print(\"Running full filter...\")\n",
    "    filtered_states, filtered_covs, log_likelihood = bf.filter(y)\n",
    "    print(\"\\nFilter completed successfully!\")\n",
    "    print(f\"Total log-likelihood: {log_likelihood}\")\n",
    "    print(f\"\\nFiltered states shape: {filtered_states.shape}\")\n",
    "    print(f\"Filtered covs shape: {filtered_covs.shape}\")\n",
    "    \n",
    "    # Compare with true states\n",
    "    print(\"\\nCorrelation with true states:\")\n",
    "    factor_corr = jnp.corrcoef(filtered_states[:, 0], factors[:, 0])[0, 1]\n",
    "    vol_corr = jnp.corrcoef(filtered_states[:, 1], log_vols[:, 0])[0, 1]\n",
    "    print(f\"Factor correlation: {factor_corr:.4f}\")\n",
    "    print(f\"Log-volatility correlation: {vol_corr:.4f}\")\n",
    "    vol_corr.block_until_ready()"
   ]
  }
 ],
 "metadata": {
  "kernelspec": {
   "display_name": "Thesispy312",
   "language": "python",
   "name": "python3"
  },
  "language_info": {
   "codemirror_mode": {
    "name": "ipython",
    "version": 3
   },
   "file_extension": ".py",
   "mimetype": "text/x-python",
   "name": "python",
   "nbconvert_exporter": "python",
   "pygments_lexer": "ipython3",
   "version": "3.12.9"
  }
 },
 "nbformat": 4,
 "nbformat_minor": 2
}
