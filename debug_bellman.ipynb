{
 "cells": [
  {
   "cell_type": "markdown",
   "metadata": {},
   "source": [
    "# JAX Bellman Filter Debug\n",
    "\n",
    "This notebook provides a minimal working example to debug the JAX-based Bellman filter implementation."
   ]
  },
  {
   "cell_type": "code",
   "execution_count": 1,
   "metadata": {},
   "outputs": [
    {
     "name": "stdout",
     "output_type": "stream",
     "text": [
      "Model parameters created successfully\n"
     ]
    }
   ],
   "source": [
    "import numpy as np\n",
    "import jax\n",
    "import jax.numpy as jnp\n",
    "from functions.simulation import DFSV_params, simulate_DFSV\n",
    "from functions.filters import DFSVBellmanFilter\n",
    "\n",
    "# Set random seed for reproducibility\n",
    "np.random.seed(42)\n",
    "\n",
    "# Create a minimal test model\n",
    "K = 1  # Number of factors\n",
    "N = 2  # Number of observed series\n",
    "\n",
    "# Define model parameters\n",
    "lambda_r = np.array([[1.0], [0.5]])  # Simple factor loadings\n",
    "Phi_f = np.array([[0.9]])            # Factor persistence\n",
    "Phi_h = np.array([[0.95]])           # Volatility persistence\n",
    "mu = np.array([-1.0])                # Log-volatility mean\n",
    "sigma2 = np.ones(N) * 0.1            # Measurement noise\n",
    "Q_h = np.array([[0.2]])              # Volatility of log-volatility\n",
    "\n",
    "# Create parameter object\n",
    "params = DFSV_params(\n",
    "    N=N,\n",
    "    K=K,\n",
    "    lambda_r=lambda_r,\n",
    "    Phi_f=Phi_f,\n",
    "    Phi_h=Phi_h,\n",
    "    mu=mu,\n",
    "    sigma2=sigma2,\n",
    "    Q_h=Q_h\n",
    ")\n",
    "\n",
    "print(\"Model parameters created successfully\")"
   ]
  },
  {
   "cell_type": "code",
   "execution_count": 2,
   "metadata": {},
   "outputs": [
    {
     "name": "stdout",
     "output_type": "stream",
     "text": [
      "Data generated:\n",
      "y shape: (100, 2)\n",
      "factors shape: (100, 1)\n",
      "log_vols shape: (100, 1)\n"
     ]
    }
   ],
   "source": [
    "# Generate synthetic data\n",
    "T = 5  # Just a few time points for testing\n",
    "y, factors, log_vols = simulate_DFSV(params, T, seed=42)\n",
    "\n",
    "print(\"Data generated:\")\n",
    "print(f\"y shape: {y.shape}\")\n",
    "print(f\"factors shape: {factors.shape}\")\n",
    "print(f\"log_vols shape: {log_vols.shape}\")"
   ]
  },
  {
   "cell_type": "code",
   "execution_count": 3,
   "metadata": {},
   "outputs": [
    {
     "name": "stdout",
     "output_type": "stream",
     "text": [
      "\n",
      "Bellman filter initialized\n",
      "\n",
      "JAX parameters:\n",
      "lambda_r shape: (2, 1)\n",
      "sigma2 shape: (2, 2)\n",
      "mu shape: (1, 1)\n",
      "Phi_f shape: (1, 1)\n",
      "Phi_h shape: (1, 1)\n",
      "Q_h shape: (1, 1)\n"
     ]
    }
   ],
   "source": [
    "# Initialize the filter\n",
    "try:\n",
    "    bf = DFSVBellmanFilter(params)\n",
    "    print(\"\\nBellman filter initialized\")\n",
    "    print(\"\\nJAX parameters:\")\n",
    "    print(f\"lambda_r shape: {bf.jax_lambda_r.shape}\")\n",
    "    print(f\"sigma2 shape: {bf.jax_sigma2.shape}\")\n",
    "    print(f\"mu shape: {bf.jax_mu.shape}\")\n",
    "    print(f\"Phi_f shape: {bf.jax_Phi_f.shape}\")\n",
    "    print(f\"Phi_h shape: {bf.jax_Phi_h.shape}\")\n",
    "    print(f\"Q_h shape: {bf.jax_Q_h.shape}\")\n",
    "except Exception as e:\n",
    "    print(f\"Error during initialization: {e}\")"
   ]
  },
  {
   "cell_type": "code",
   "execution_count": 4,
   "metadata": {},
   "outputs": [
    {
     "name": "stdout",
     "output_type": "stream",
     "text": [
      "Initial state shape: (2, 1)\n",
      "Initial covariance shape: (2, 2)\n",
      "\n",
      "Initial state:\n",
      "[[ 0.]\n",
      " [-1.]]\n",
      "\n",
      "Prediction step completed\n",
      "Predicted state:\n",
      "[[ 0.]\n",
      " [-1.]]\n",
      "\n",
      "Predicted covariance is positive definite ✓\n"
     ]
    }
   ],
   "source": [
    "# Initialize state and test prediction step\n",
    "try:\n",
    "    # Initialize state\n",
    "    state0, cov0 = bf.initialize_state(y)\n",
    "    print(f\"Initial state shape: {state0.shape}\")\n",
    "    print(f\"Initial covariance shape: {cov0.shape}\")\n",
    "    print(f\"\\nInitial state:\\n{state0}\")\n",
    "    \n",
    "    # Test prediction step\n",
    "    predicted_state, predicted_cov = bf.predict(state0, cov0)\n",
    "    print(\"\\nPrediction step completed\")\n",
    "    print(f\"Predicted state:\\n{predicted_state}\")\n",
    "    \n",
    "    # Verify covariance matrices\n",
    "    try:\n",
    "        np.linalg.cholesky(predicted_cov)\n",
    "        print(\"\\nPredicted covariance is positive definite ✓\")\n",
    "    except np.linalg.LinAlgError:\n",
    "        print(\"\\nWARNING: Predicted covariance is not positive definite!\")\n",
    "        print(\"Eigenvalues:\", np.linalg.eigvals(predicted_cov))\n",
    "except Exception as e:\n",
    "    print(f\"Error during prediction: {e}\")"
   ]
  },
  {
   "cell_type": "code",
   "execution_count": 6,
   "metadata": {},
   "outputs": [
    {
     "name": "stdout",
     "output_type": "stream",
     "text": [
      "Observation shape: (2, 1)\n",
      "Observation values:\n",
      "[[0.]\n",
      " [0.]]\n",
      "\n",
      "Testing JAX objective function...\n",
      "Error in JAX function evaluation: Array slice indices must have static start/stop/step to be used with NumPy indexing syntax. Found slice(None, Traced<ShapedArray(int32[], weak_type=True)>with<DynamicJaxprTrace>, None). To index a statically sized array at a dynamic position, try lax.dynamic_slice/dynamic_update_slice (JAX does not support dynamically sized arrays within JIT compiled functions).\n",
      "\n",
      "Performing update step...\n",
      "Error during update: Array slice indices must have static start/stop/step to be used with NumPy indexing syntax. Found slice(None, Traced<ShapedArray(int32[], weak_type=True)>with<DynamicJaxprTrace>, None). To index a statically sized array at a dynamic position, try lax.dynamic_slice/dynamic_update_slice (JAX does not support dynamically sized arrays within JIT compiled functions).\n"
     ]
    }
   ],
   "source": [
    "# Test update step with careful error checking\n",
    "try:\n",
    "    # Prepare observation\n",
    "    observation = y[0:1, :].T.reshape(-1, 1)\n",
    "    print(f\"Observation shape: {observation.shape}\")\n",
    "    print(f\"Observation values:\\n{observation}\")\n",
    "    \n",
    "    # Check JAX objective function\n",
    "    print(\"\\nTesting JAX objective function...\")\n",
    "    alpha_test = predicted_state.copy()\n",
    "    try:\n",
    "        # Convert inputs for JAX\n",
    "        jax_alpha = jnp.array(alpha_test)\n",
    "        jax_pred = jnp.array(predicted_state)\n",
    "        jax_I_pred = jnp.array(np.linalg.inv(predicted_cov))\n",
    "        jax_obs = jnp.array(observation)\n",
    "        \n",
    "        # Test objective function\n",
    "        obj_val = bf.jax_objective(jax_alpha, jax_pred, jax_I_pred, jax_obs,\n",
    "                                  bf.K, bf.N, bf.jax_lambda_r, bf.jax_sigma2)\n",
    "        print(f\"Objective value at predicted state: {float(obj_val)}\")\n",
    "        \n",
    "        # Test gradient\n",
    "        grad_val = bf.jax_gradient(jax_alpha, jax_pred, jax_I_pred, jax_obs,\n",
    "                                  bf.K, bf.N, bf.jax_lambda_r, bf.jax_sigma2)\n",
    "        print(f\"Gradient at predicted state:\\n{np.array(grad_val)}\")\n",
    "    except Exception as e:\n",
    "        print(f\"Error in JAX function evaluation: {e}\")\n",
    "    \n",
    "    # Perform update step\n",
    "    print(\"\\nPerforming update step...\")\n",
    "    updated_state, updated_cov, log_likelihood = bf.update(\n",
    "        predicted_state, predicted_cov, observation\n",
    "    )\n",
    "    \n",
    "    print(\"\\nUpdate step completed\")\n",
    "    print(f\"Updated state:\\n{updated_state}\")\n",
    "    print(f\"Log-likelihood: {log_likelihood}\")\n",
    "    \n",
    "    # Verify updated covariance\n",
    "    try:\n",
    "        np.linalg.cholesky(updated_cov)\n",
    "        print(\"\\nUpdated covariance is positive definite ✓\")\n",
    "    except np.linalg.LinAlgError:\n",
    "        print(\"\\nWARNING: Updated covariance is not positive definite!\")\n",
    "        print(\"Eigenvalues:\", np.linalg.eigvals(updated_cov))\n",
    "except Exception as e:\n",
    "    print(f\"Error during update: {e}\")"
   ]
  },
  {
   "cell_type": "code",
   "execution_count": null,
   "metadata": {},
   "outputs": [],
   "source": [
    "# Test full filter run on small dataset\n",
    "try:\n",
    "    print(\"Running full filter...\")\n",
    "    filtered_states, filtered_covs, log_likelihood = bf.filter(y)\n",
    "    print(\"\\nFilter completed successfully!\")\n",
    "    print(f\"Total log-likelihood: {log_likelihood}\")\n",
    "    print(f\"\\nFiltered states shape: {filtered_states.shape}\")\n",
    "    print(f\"Filtered covs shape: {filtered_covs.shape}\")\n",
    "    \n",
    "    # Compare with true states\n",
    "    print(\"\\nCorrelation with true states:\")\n",
    "    factor_corr = np.corrcoef(filtered_states[:, 0], factors[:, 0])[0, 1]\n",
    "    vol_corr = np.corrcoef(filtered_states[:, 1], log_vols[:, 0])[0, 1]\n",
    "    print(f\"Factor correlation: {factor_corr:.4f}\")\n",
    "    print(f\"Log-volatility correlation: {vol_corr:.4f}\")\n",
    "except Exception as e:\n",
    "    print(f\"Error during full filter run: {e}\")"
   ]
  },
  {
   "cell_type": "markdown",
   "metadata": {},
   "source": [
    "# JAX Bellman Filter Debug\n",
    "\n",
    "This notebook provides a minimal working example to debug the JAX-based Bellman filter implementation."
   ]
  },
  {
   "cell_type": "code",
   "execution_count": null,
   "metadata": {},
   "outputs": [],
   "source": [
    "import numpy as np\n",
    "import jax\n",
    "import jax.numpy as jnp\n",
    "from functions.simulation import DFSV_params, simulate_DFSV\n",
    "from functions.filters import DFSVBellmanFilter\n",
    "\n",
    "# Set random seed for reproducibility\n",
    "np.random.seed(42)\n",
    "\n",
    "# Create a minimal test model\n",
    "K = 1  # Number of factors\n",
    "N = 2  # Number of observed series\n",
    "\n",
    "# Define model parameters\n",
    "lambda_r = np.array([[1.0], [0.5]])  # Simple factor loadings\n",
    "Phi_f = np.array([[0.9]])            # Factor persistence\n",
    "Phi_h = np.array([[0.95]])           # Volatility persistence\n",
    "mu = np.array([-1.0])                # Log-volatility mean\n",
    "sigma2 = np.ones(N) * 0.1            # Measurement noise\n",
    "Q_h = np.array([[0.2]])              # Volatility of log-volatility\n",
    "\n",
    "# Create parameter object\n",
    "params = DFSV_params(\n",
    "    N=N,\n",
    "    K=K,\n",
    "    lambda_r=lambda_r,\n",
    "    Phi_f=Phi_f,\n",
    "    Phi_h=Phi_h,\n",
    "    mu=mu,\n",
    "    sigma2=sigma2,\n",
    "    Q_h=Q_h\n",
    ")\n",
    "\n",
    "print(\"Model parameters created successfully\")"
   ]
  },
  {
   "cell_type": "code",
   "execution_count": null,
   "metadata": {},
   "outputs": [],
   "source": [
    "# Generate synthetic data\n",
    "T = 5  # Just a few time points for testing\n",
    "y, factors, log_vols = simulate_DFSV(params, T, seed=42)\n",
    "\n",
    "print(\"Data generated:\")\n",
    "print(f\"y shape: {y.shape}\")\n",
    "print(f\"factors shape: {factors.shape}\")\n",
    "print(f\"log_vols shape: {log_vols.shape}\")"
   ]
  },
  {
   "cell_type": "code",
   "execution_count": null,
   "metadata": {},
   "outputs": [],
   "source": [
    "# Initialize the filter\n",
    "bf = DFSVBellmanFilter(params)\n",
    "print(\"\\nBellman filter initialized\")\n",
    "\n",
    "# Initialize state and covariance\n",
    "state0, cov0 = bf.initialize_state(y)\n",
    "print(f\"\\nInitial state shape: {state0.shape}\")\n",
    "print(f\"Initial covariance shape: {cov0.shape}\")\n",
    "print(f\"\\nInitial state:\\n{state0}\")\n",
    "\n",
    "# Verify initial covariance is positive definite\n",
    "try:\n",
    "    np.linalg.cholesky(cov0)\n",
    "    print(\"\\nInitial covariance is positive definite ✓\")\n",
    "except np.linalg.LinAlgError:\n",
    "    print(\"\\nWARNING: Initial covariance is not positive definite!\")"
   ]
  },
  {
   "cell_type": "code",
   "execution_count": null,
   "metadata": {},
   "outputs": [],
   "source": [
    "# Test prediction step\n",
    "predicted_state, predicted_cov = bf.predict(state0, cov0)\n",
    "print(\"\\nPrediction step completed\")\n",
    "print(f\"Predicted state:\\n{predicted_state}\")\n",
    "\n",
    "# Verify predicted covariance\n",
    "try:\n",
    "    np.linalg.cholesky(predicted_cov)\n",
    "    print(\"\\nPredicted covariance is positive definite ✓\")\n",
    "except np.linalg.LinAlgError:\n",
    "    print(\"\\nWARNING: Predicted covariance is not positive definite!\")"
   ]
  },
  {
   "cell_type": "code",
   "execution_count": null,
   "metadata": {},
   "outputs": [],
   "source": [
    "# Test update step\n",
    "observation = y[0:1, :].T.reshape(-1, 1)\n",
    "print(f\"Observation shape: {observation.shape}\")\n",
    "\n",
    "updated_state, updated_cov, log_likelihood = bf.update(\n",
    "    predicted_state, predicted_cov, observation\n",
    ")\n",
    "\n",
    "print(\"\\nUpdate step completed\")\n",
    "print(f\"Updated state:\\n{updated_state}\")\n",
    "print(f\"Log-likelihood: {log_likelihood}\")\n",
    "\n",
    "# Verify updated covariance\n",
    "try:\n",
    "    np.linalg.cholesky(updated_cov)\n",
    "    print(\"\\nUpdated covariance is positive definite ✓\")\n",
    "except np.linalg.LinAlgError:\n",
    "    print(\"\\nWARNING: Updated covariance is not positive definite!\")"
   ]
  }
 ],
 "metadata": {
  "kernelspec": {
   "display_name": "Main_thesis",
   "language": "python",
   "name": "python3"
  },
  "language_info": {
   "codemirror_mode": {
    "name": "ipython",
    "version": 3
   },
   "file_extension": ".py",
   "mimetype": "text/x-python",
   "name": "python",
   "nbconvert_exporter": "python",
   "pygments_lexer": "ipython3",
   "version": "3.13.1"
  }
 },
 "nbformat": 4,
 "nbformat_minor": 2
}
