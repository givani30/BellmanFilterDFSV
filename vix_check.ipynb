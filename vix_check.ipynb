{
 "cells": [
  {
   "cell_type": "code",
   "execution_count": 15,
   "metadata": {},
   "outputs": [],
   "source": [
    "import polars as pl\n",
    "import numpy as np\n",
    "data=pl.scan_csv(\"xdymjf2kd61ucclr.csv\").filter(pl.col(\"SYM_ROOT\").str.contains(\"VIX\"))"
   ]
  },
  {
   "cell_type": "code",
   "execution_count": 16,
   "metadata": {},
   "outputs": [],
   "source": [
    "roots=data.collect()"
   ]
  },
  {
   "cell_type": "code",
   "execution_count": 17,
   "metadata": {},
   "outputs": [
    {
     "data": {
      "text/html": [
       "<div><style>\n",
       ".dataframe > thead > tr,\n",
       ".dataframe > tbody > tr {\n",
       "  text-align: right;\n",
       "  white-space: pre-wrap;\n",
       "}\n",
       "</style>\n",
       "<small>shape: (147_192, 14)</small><table border=\"1\" class=\"dataframe\"><thead><tr><th>DATE</th><th>TIME_M</th><th>EX</th><th>BID</th><th>BIDSIZ</th><th>ASK</th><th>ASKSIZ</th><th>QU_COND</th><th>QU_SEQNUM</th><th>NATBBO_IND</th><th>QU_CANCEL</th><th>QU_SOURCE</th><th>SYM_ROOT</th><th>SYM_SUFFIX</th></tr><tr><td>str</td><td>str</td><td>str</td><td>f64</td><td>i64</td><td>f64</td><td>i64</td><td>str</td><td>i64</td><td>str</td><td>str</td><td>str</td><td>str</td><td>str</td></tr></thead><tbody><tr><td>&quot;2022-01-03&quot;</td><td>&quot;12:00:00.21346…</td><td>&quot;P&quot;</td><td>30.29</td><td>21</td><td>30.37</td><td>21</td><td>&quot;R&quot;</td><td>36482404</td><td>&quot;A&quot;</td><td>null</td><td>&quot;C&quot;</td><td>&quot;VIXM&quot;</td><td>null</td></tr><tr><td>&quot;2022-01-03&quot;</td><td>&quot;12:00:00.21394…</td><td>&quot;X&quot;</td><td>28.32</td><td>1</td><td>30.37</td><td>21</td><td>&quot;R&quot;</td><td>36482449</td><td>&quot;A&quot;</td><td>null</td><td>&quot;C&quot;</td><td>&quot;VIXM&quot;</td><td>null</td></tr><tr><td>&quot;2022-01-03&quot;</td><td>&quot;12:00:00.21409…</td><td>&quot;T&quot;</td><td>30.29</td><td>21</td><td>30.37</td><td>21</td><td>&quot;R&quot;</td><td>36482458</td><td>&quot;A&quot;</td><td>null</td><td>&quot;C&quot;</td><td>&quot;VIXM&quot;</td><td>null</td></tr><tr><td>&quot;2022-01-03&quot;</td><td>&quot;12:00:00.21410…</td><td>&quot;Y&quot;</td><td>30.28</td><td>1</td><td>30.37</td><td>22</td><td>&quot;R&quot;</td><td>36482460</td><td>&quot;A&quot;</td><td>null</td><td>&quot;C&quot;</td><td>&quot;VIXM&quot;</td><td>null</td></tr><tr><td>&quot;2022-01-03&quot;</td><td>&quot;12:00:00.21411…</td><td>&quot;X&quot;</td><td>28.32</td><td>1</td><td>32.82</td><td>3</td><td>&quot;R&quot;</td><td>36482462</td><td>&quot;A&quot;</td><td>null</td><td>&quot;C&quot;</td><td>&quot;VIXM&quot;</td><td>null</td></tr><tr><td>&quot;2022-01-03&quot;</td><td>&quot;12:00:00.21419…</td><td>&quot;Z&quot;</td><td>30.31</td><td>21</td><td>30.37</td><td>21</td><td>&quot;R&quot;</td><td>36482466</td><td>&quot;A&quot;</td><td>null</td><td>&quot;C&quot;</td><td>&quot;VIXM&quot;</td><td>null</td></tr><tr><td>&quot;2022-01-03&quot;</td><td>&quot;12:00:00.21430…</td><td>&quot;K&quot;</td><td>30.32</td><td>21</td><td>30.36</td><td>21</td><td>&quot;R&quot;</td><td>36482467</td><td>&quot;G&quot;</td><td>null</td><td>&quot;C&quot;</td><td>&quot;VIXM&quot;</td><td>null</td></tr><tr><td>&quot;2022-01-03&quot;</td><td>&quot;12:00:00.21430…</td><td>&quot;C&quot;</td><td>30.31</td><td>21</td><td>30.37</td><td>21</td><td>&quot;R&quot;</td><td>36482468</td><td>&quot;A&quot;</td><td>null</td><td>&quot;C&quot;</td><td>&quot;VIXM&quot;</td><td>null</td></tr><tr><td>&quot;2022-01-03&quot;</td><td>&quot;12:00:00.21440…</td><td>&quot;Y&quot;</td><td>30.31</td><td>21</td><td>30.37</td><td>22</td><td>&quot;R&quot;</td><td>36482471</td><td>&quot;A&quot;</td><td>null</td><td>&quot;C&quot;</td><td>&quot;VIXM&quot;</td><td>null</td></tr><tr><td>&quot;2022-01-03&quot;</td><td>&quot;12:00:00.21440…</td><td>&quot;J&quot;</td><td>30.31</td><td>21</td><td>30.37</td><td>21</td><td>&quot;R&quot;</td><td>36482472</td><td>&quot;A&quot;</td><td>null</td><td>&quot;C&quot;</td><td>&quot;VIXM&quot;</td><td>null</td></tr><tr><td>&quot;2022-01-03&quot;</td><td>&quot;12:00:00.21440…</td><td>&quot;Y&quot;</td><td>30.31</td><td>21</td><td>30.37</td><td>21</td><td>&quot;R&quot;</td><td>36482473</td><td>&quot;A&quot;</td><td>null</td><td>&quot;C&quot;</td><td>&quot;VIXM&quot;</td><td>null</td></tr><tr><td>&quot;2022-01-03&quot;</td><td>&quot;12:00:00.21442…</td><td>&quot;J&quot;</td><td>30.32</td><td>1</td><td>30.37</td><td>21</td><td>&quot;R&quot;</td><td>36482474</td><td>&quot;A&quot;</td><td>null</td><td>&quot;C&quot;</td><td>&quot;VIXM&quot;</td><td>null</td></tr><tr><td>&hellip;</td><td>&hellip;</td><td>&hellip;</td><td>&hellip;</td><td>&hellip;</td><td>&hellip;</td><td>&hellip;</td><td>&hellip;</td><td>&hellip;</td><td>&hellip;</td><td>&hellip;</td><td>&hellip;</td><td>&hellip;</td><td>&hellip;</td></tr><tr><td>&quot;2022-01-03&quot;</td><td>&quot;12:14:59.86475…</td><td>&quot;K&quot;</td><td>14.8</td><td>7</td><td>14.81</td><td>31</td><td>&quot;R&quot;</td><td>38436337</td><td>&quot;A&quot;</td><td>null</td><td>&quot;C&quot;</td><td>&quot;VIXY&quot;</td><td>null</td></tr><tr><td>&quot;2022-01-03&quot;</td><td>&quot;12:14:59.86481…</td><td>&quot;N&quot;</td><td>14.8</td><td>3</td><td>14.81</td><td>21</td><td>&quot;R&quot;</td><td>38436339</td><td>&quot;A&quot;</td><td>null</td><td>&quot;C&quot;</td><td>&quot;VIXY&quot;</td><td>null</td></tr><tr><td>&quot;2022-01-03&quot;</td><td>&quot;12:14:59.86482…</td><td>&quot;A&quot;</td><td>14.8</td><td>2</td><td>14.81</td><td>22</td><td>&quot;R&quot;</td><td>38436341</td><td>&quot;A&quot;</td><td>null</td><td>&quot;C&quot;</td><td>&quot;VIXY&quot;</td><td>null</td></tr><tr><td>&quot;2022-01-03&quot;</td><td>&quot;12:14:59.86482…</td><td>&quot;P&quot;</td><td>14.8</td><td>8</td><td>14.81</td><td>42</td><td>&quot;R&quot;</td><td>38436342</td><td>&quot;A&quot;</td><td>null</td><td>&quot;C&quot;</td><td>&quot;VIXY&quot;</td><td>null</td></tr><tr><td>&quot;2022-01-03&quot;</td><td>&quot;12:14:59.86486…</td><td>&quot;P&quot;</td><td>14.8</td><td>8</td><td>14.81</td><td>43</td><td>&quot;R&quot;</td><td>38436343</td><td>&quot;U&quot;</td><td>null</td><td>&quot;C&quot;</td><td>&quot;VIXY&quot;</td><td>null</td></tr><tr><td>&quot;2022-01-03&quot;</td><td>&quot;12:14:59.86505…</td><td>&quot;K&quot;</td><td>14.8</td><td>5</td><td>14.81</td><td>31</td><td>&quot;R&quot;</td><td>38436349</td><td>&quot;A&quot;</td><td>null</td><td>&quot;C&quot;</td><td>&quot;VIXY&quot;</td><td>null</td></tr><tr><td>&quot;2022-01-03&quot;</td><td>&quot;12:14:59.86511…</td><td>&quot;T&quot;</td><td>14.8</td><td>9</td><td>14.81</td><td>38</td><td>&quot;R&quot;</td><td>38436351</td><td>&quot;U&quot;</td><td>null</td><td>&quot;C&quot;</td><td>&quot;VIXY&quot;</td><td>null</td></tr><tr><td>&quot;2022-01-03&quot;</td><td>&quot;12:14:59.86532…</td><td>&quot;X&quot;</td><td>14.8</td><td>3</td><td>14.81</td><td>19</td><td>&quot;R&quot;</td><td>38436353</td><td>&quot;A&quot;</td><td>null</td><td>&quot;C&quot;</td><td>&quot;VIXY&quot;</td><td>null</td></tr><tr><td>&quot;2022-01-03&quot;</td><td>&quot;12:14:59.86545…</td><td>&quot;N&quot;</td><td>14.8</td><td>2</td><td>14.81</td><td>21</td><td>&quot;R&quot;</td><td>38436357</td><td>&quot;A&quot;</td><td>null</td><td>&quot;C&quot;</td><td>&quot;VIXY&quot;</td><td>null</td></tr><tr><td>&quot;2022-01-03&quot;</td><td>&quot;12:14:59.86550…</td><td>&quot;V&quot;</td><td>14.79</td><td>3</td><td>14.81</td><td>3</td><td>&quot;R&quot;</td><td>38436359</td><td>&quot;A&quot;</td><td>null</td><td>&quot;C&quot;</td><td>&quot;VIXY&quot;</td><td>null</td></tr><tr><td>&quot;2022-01-03&quot;</td><td>&quot;12:14:59.86555…</td><td>&quot;V&quot;</td><td>14.79</td><td>3</td><td>14.81</td><td>4</td><td>&quot;R&quot;</td><td>38436362</td><td>&quot;A&quot;</td><td>null</td><td>&quot;C&quot;</td><td>&quot;VIXY&quot;</td><td>null</td></tr><tr><td>&quot;2022-01-03&quot;</td><td>&quot;12:14:59.86588…</td><td>&quot;Z&quot;</td><td>14.8</td><td>6</td><td>14.81</td><td>30</td><td>&quot;R&quot;</td><td>38436366</td><td>&quot;A&quot;</td><td>null</td><td>&quot;C&quot;</td><td>&quot;VIXY&quot;</td><td>null</td></tr></tbody></table></div>"
      ],
      "text/plain": [
       "shape: (147_192, 14)\n",
       "┌────────────┬───────────────────┬─────┬───────┬───┬───────────┬───────────┬──────────┬────────────┐\n",
       "│ DATE       ┆ TIME_M            ┆ EX  ┆ BID   ┆ … ┆ QU_CANCEL ┆ QU_SOURCE ┆ SYM_ROOT ┆ SYM_SUFFIX │\n",
       "│ ---        ┆ ---               ┆ --- ┆ ---   ┆   ┆ ---       ┆ ---       ┆ ---      ┆ ---        │\n",
       "│ str        ┆ str               ┆ str ┆ f64   ┆   ┆ str       ┆ str       ┆ str      ┆ str        │\n",
       "╞════════════╪═══════════════════╪═════╪═══════╪═══╪═══════════╪═══════════╪══════════╪════════════╡\n",
       "│ 2022-01-03 ┆ 12:00:00.21346355 ┆ P   ┆ 30.29 ┆ … ┆ null      ┆ C         ┆ VIXM     ┆ null       │\n",
       "│            ┆ 2                 ┆     ┆       ┆   ┆           ┆           ┆          ┆            │\n",
       "│ 2022-01-03 ┆ 12:00:00.21394329 ┆ X   ┆ 28.32 ┆ … ┆ null      ┆ C         ┆ VIXM     ┆ null       │\n",
       "│            ┆ 6                 ┆     ┆       ┆   ┆           ┆           ┆          ┆            │\n",
       "│ 2022-01-03 ┆ 12:00:00.21409868 ┆ T   ┆ 30.29 ┆ … ┆ null      ┆ C         ┆ VIXM     ┆ null       │\n",
       "│            ┆ 8                 ┆     ┆       ┆   ┆           ┆           ┆          ┆            │\n",
       "│ 2022-01-03 ┆ 12:00:00.21410892 ┆ Y   ┆ 30.28 ┆ … ┆ null      ┆ C         ┆ VIXM     ┆ null       │\n",
       "│            ┆ 8                 ┆     ┆       ┆   ┆           ┆           ┆          ┆            │\n",
       "│ …          ┆ …                 ┆ …   ┆ …     ┆ … ┆ …         ┆ …         ┆ …        ┆ …          │\n",
       "│ 2022-01-03 ┆ 12:14:59.86545996 ┆ N   ┆ 14.8  ┆ … ┆ null      ┆ C         ┆ VIXY     ┆ null       │\n",
       "│            ┆ 8                 ┆     ┆       ┆   ┆           ┆           ┆          ┆            │\n",
       "│ 2022-01-03 ┆ 12:14:59.86550016 ┆ V   ┆ 14.79 ┆ … ┆ null      ┆ C         ┆ VIXY     ┆ null       │\n",
       "│            ┆ 0                 ┆     ┆       ┆   ┆           ┆           ┆          ┆            │\n",
       "│ 2022-01-03 ┆ 12:14:59.86555520 ┆ V   ┆ 14.79 ┆ … ┆ null      ┆ C         ┆ VIXY     ┆ null       │\n",
       "│            ┆ 0                 ┆     ┆       ┆   ┆           ┆           ┆          ┆            │\n",
       "│ 2022-01-03 ┆ 12:14:59.86588108 ┆ Z   ┆ 14.8  ┆ … ┆ null      ┆ C         ┆ VIXY     ┆ null       │\n",
       "│            ┆ 8                 ┆     ┆       ┆   ┆           ┆           ┆          ┆            │\n",
       "└────────────┴───────────────────┴─────┴───────┴───┴───────────┴───────────┴──────────┴────────────┘"
      ]
     },
     "execution_count": 17,
     "metadata": {},
     "output_type": "execute_result"
    }
   ],
   "source": [
    "roots"
   ]
  },
  {
   "cell_type": "code",
   "execution_count": null,
   "metadata": {},
   "outputs": [],
   "source": []
  }
 ],
 "metadata": {
  "kernelspec": {
   "display_name": "pytorch-gpu",
   "language": "python",
   "name": "python3"
  },
  "language_info": {
   "codemirror_mode": {
    "name": "ipython",
    "version": 3
   },
   "file_extension": ".py",
   "mimetype": "text/x-python",
   "name": "python",
   "nbconvert_exporter": "python",
   "pygments_lexer": "ipython3",
   "version": "3.10.13"
  }
 },
 "nbformat": 4,
 "nbformat_minor": 2
}
